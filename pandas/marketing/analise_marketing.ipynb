{
 "cells": [
  {
   "cell_type": "markdown",
   "metadata": {},
   "source": [
    "\"Quero identificar padrões e tendências para melhorar nossas decisões de marketing e direcionar nossos investimentos\"\n"
   ]
  },
  {
   "cell_type": "code",
   "execution_count": 1,
   "metadata": {},
   "outputs": [
    {
     "name": "stdout",
     "output_type": "stream",
     "text": [
      "Requirement already satisfied: pandas in c:\\users\\daniel\\appdata\\local\\programs\\python\\python313\\lib\\site-packages (2.2.3)\n",
      "Requirement already satisfied: numpy>=1.26.0 in c:\\users\\daniel\\appdata\\local\\programs\\python\\python313\\lib\\site-packages (from pandas) (2.2.0)\n",
      "Requirement already satisfied: python-dateutil>=2.8.2 in c:\\users\\daniel\\appdata\\roaming\\python\\python313\\site-packages (from pandas) (2.9.0.post0)\n",
      "Requirement already satisfied: pytz>=2020.1 in c:\\users\\daniel\\appdata\\local\\programs\\python\\python313\\lib\\site-packages (from pandas) (2024.2)\n",
      "Requirement already satisfied: tzdata>=2022.7 in c:\\users\\daniel\\appdata\\local\\programs\\python\\python313\\lib\\site-packages (from pandas) (2024.2)\n",
      "Requirement already satisfied: six>=1.5 in c:\\users\\daniel\\appdata\\roaming\\python\\python313\\site-packages (from python-dateutil>=2.8.2->pandas) (1.17.0)\n"
     ]
    }
   ],
   "source": [
    "! pip install pandas\n"
   ]
  },
  {
   "cell_type": "code",
   "execution_count": 2,
   "metadata": {},
   "outputs": [
    {
     "name": "stdout",
     "output_type": "stream",
     "text": [
      "Requirement already satisfied: openpyxl in c:\\users\\daniel\\appdata\\local\\programs\\python\\python313\\lib\\site-packages (3.1.5)\n",
      "Requirement already satisfied: et-xmlfile in c:\\users\\daniel\\appdata\\local\\programs\\python\\python313\\lib\\site-packages (from openpyxl) (2.0.0)\n"
     ]
    }
   ],
   "source": [
    "! pip install openpyxl"
   ]
  },
  {
   "cell_type": "code",
   "execution_count": 3,
   "metadata": {},
   "outputs": [],
   "source": [
    "import pandas as pd \n",
    "\n",
    "# Buscando cada sheet dísponível na planilha\n",
    "df_clientes = pd.read_excel('marketing.xlsx', sheet_name='clientes')\n",
    "df_campanhas= pd.read_excel('marketing.xlsx', sheet_name='campanhas')\n",
    "df_vendas= pd.read_excel('marketing.xlsx', sheet_name='vendas')\n",
    "df_produtos= pd.read_excel('marketing.xlsx', sheet_name='produtos')\n",
    "\n"
   ]
  },
  {
   "cell_type": "markdown",
   "metadata": {},
   "source": [
    "Quais são os segmentos mais rentáveis com base nos dados ? "
   ]
  },
  {
   "cell_type": "code",
   "execution_count": 4,
   "metadata": {},
   "outputs": [
    {
     "data": {
      "text/html": [
       "<div>\n",
       "<style scoped>\n",
       "    .dataframe tbody tr th:only-of-type {\n",
       "        vertical-align: middle;\n",
       "    }\n",
       "\n",
       "    .dataframe tbody tr th {\n",
       "        vertical-align: top;\n",
       "    }\n",
       "\n",
       "    .dataframe thead th {\n",
       "        text-align: right;\n",
       "    }\n",
       "</style>\n",
       "<table border=\"1\" class=\"dataframe\">\n",
       "  <thead>\n",
       "    <tr style=\"text-align: right;\">\n",
       "      <th></th>\n",
       "      <th>localizacao_venda</th>\n",
       "      <th>valor_venda</th>\n",
       "    </tr>\n",
       "  </thead>\n",
       "  <tbody>\n",
       "    <tr>\n",
       "      <th>0</th>\n",
       "      <td>Rio de Janeiro</td>\n",
       "      <td>450</td>\n",
       "    </tr>\n",
       "    <tr>\n",
       "      <th>1</th>\n",
       "      <td>São Paulo</td>\n",
       "      <td>500</td>\n",
       "    </tr>\n",
       "  </tbody>\n",
       "</table>\n",
       "</div>"
      ],
      "text/plain": [
       "  localizacao_venda  valor_venda\n",
       "0    Rio de Janeiro          450\n",
       "1         São Paulo          500"
      ]
     },
     "execution_count": 4,
     "metadata": {},
     "output_type": "execute_result"
    }
   ],
   "source": [
    "# Juntando a sheet de clientes com vendas \n",
    "clientes_vendas = pd.merge(df_clientes, df_vendas, left_on='id _cliente', right_on='id_vendas', how='inner')\n",
    "\n",
    "# agrupando rentabilidade por localização\n",
    "rentabilidade_geografica = clientes_vendas.groupby('localizacao_venda')['valor_venda'].sum().reset_index()\n",
    "\n",
    "rentabilidade_geografica"
   ]
  },
  {
   "cell_type": "code",
   "execution_count": 5,
   "metadata": {},
   "outputs": [
    {
     "name": "stdout",
     "output_type": "stream",
     "text": [
      "Requirement already satisfied: matplotlib in c:\\users\\daniel\\appdata\\local\\programs\\python\\python313\\lib\\site-packages (3.10.0)\n",
      "Requirement already satisfied: contourpy>=1.0.1 in c:\\users\\daniel\\appdata\\local\\programs\\python\\python313\\lib\\site-packages (from matplotlib) (1.3.1)\n",
      "Requirement already satisfied: cycler>=0.10 in c:\\users\\daniel\\appdata\\local\\programs\\python\\python313\\lib\\site-packages (from matplotlib) (0.12.1)\n",
      "Requirement already satisfied: fonttools>=4.22.0 in c:\\users\\daniel\\appdata\\local\\programs\\python\\python313\\lib\\site-packages (from matplotlib) (4.55.3)\n",
      "Requirement already satisfied: kiwisolver>=1.3.1 in c:\\users\\daniel\\appdata\\local\\programs\\python\\python313\\lib\\site-packages (from matplotlib) (1.4.7)\n",
      "Requirement already satisfied: numpy>=1.23 in c:\\users\\daniel\\appdata\\local\\programs\\python\\python313\\lib\\site-packages (from matplotlib) (2.2.0)\n",
      "Requirement already satisfied: packaging>=20.0 in c:\\users\\daniel\\appdata\\roaming\\python\\python313\\site-packages (from matplotlib) (24.2)\n",
      "Requirement already satisfied: pillow>=8 in c:\\users\\daniel\\appdata\\local\\programs\\python\\python313\\lib\\site-packages (from matplotlib) (11.0.0)\n",
      "Requirement already satisfied: pyparsing>=2.3.1 in c:\\users\\daniel\\appdata\\local\\programs\\python\\python313\\lib\\site-packages (from matplotlib) (3.2.0)\n",
      "Requirement already satisfied: python-dateutil>=2.7 in c:\\users\\daniel\\appdata\\roaming\\python\\python313\\site-packages (from matplotlib) (2.9.0.post0)\n",
      "Requirement already satisfied: six>=1.5 in c:\\users\\daniel\\appdata\\roaming\\python\\python313\\site-packages (from python-dateutil>=2.7->matplotlib) (1.17.0)\n"
     ]
    }
   ],
   "source": [
    "! pip install matplotlib"
   ]
  },
  {
   "cell_type": "markdown",
   "metadata": {},
   "source": [
    "Abaixo analisei o segmento geográfico, agrupando os valores somados por localização. \n",
    "\n",
    "O gráfico do matplotlib mostra qual região atualmente é mais lucrativa."
   ]
  },
  {
   "cell_type": "code",
   "execution_count": 6,
   "metadata": {},
   "outputs": [
    {
     "data": {
      "image/png": "[encoded data removed]",
      "text/plain": [
       "<Figure size 1000x400 with 1 Axes>"
      ]
     },
     "metadata": {},
     "output_type": "display_data"
    }
   ],
   "source": [
    "import matplotlib.pyplot as plt\n",
    "rentabilidade_geografica = clientes_vendas.groupby('localizacao_venda')['valor_venda'].sum().reset_index()\n",
    "\n",
    "# Colocando a coluna localizacao_venda como índice\n",
    "rentabilidade_geografica.set_index('localizacao_venda', inplace=True)\n",
    "\n",
    "\n",
    "# Criando o gráfico de barras horizontais sem bordas\n",
    "ax = rentabilidade_geografica.plot(\n",
    "    kind='barh', \n",
    "    color='mediumpurple', \n",
    "    legend=False, \n",
    "    figsize=(10, 4)\n",
    ")\n",
    "\n",
    "# Colocando o título\n",
    "plt.title('Total de Lucro por Estado', fontsize=14)\n",
    "\n",
    "# Colocando os valores direto na barra\n",
    "for index, value in enumerate(rentabilidade_geografica['valor_venda']):\n",
    "    plt.text(value + 10, index, f' R$ {value}', va='center', fontsize=12)  # Ajuste do deslocamento com `value + 10`\n",
    "\n",
    "\n",
    "# Removendo o eixo X\n",
    "ax.get_xaxis().set_visible(False)\n",
    "# Removendo o eixo Y \n",
    "ax.set_ylabel('')\n",
    "\n",
    "\n",
    "ax.spines['top'].set_visible(False)   # Remove a linha superior\n",
    "ax.spines['right'].set_visible(False) # Remove a linha direita\n",
    "\n",
    "ax.spines['bottom'].set_visible(False) # Remove a linha inferior\n",
    "\n",
    "\n",
    "plt.tight_layout()\n",
    "plt.show()"
   ]
  },
  {
   "cell_type": "markdown",
   "metadata": {},
   "source": [
    "Agora vou analisar por faixa etária, primeiro preciso criar intervalos de faixas de idades, exemplo: (\"18-25\").\n",
    "\n",
    "Com esses intervalos criados vamos agrupar as vendas por faixa etária e analisar qual público está sendo mais lucrativo para nós."
   ]
  },
  {
   "cell_type": "code",
   "execution_count": 7,
   "metadata": {},
   "outputs": [
    {
     "name": "stdout",
     "output_type": "stream",
     "text": [
      "Index(['id _cliente', 'nome ', 'idade ', 'localização', 'data_cadastro',\n",
      "       'id_vendas', 'id_cliente', 'valor_venda', 'data_venda', 'id_produto',\n",
      "       'localizacao_venda'],\n",
      "      dtype='object')\n"
     ]
    }
   ],
   "source": [
    "print(clientes_vendas.columns)\n",
    "# podemos ver um erro no campo nome e idade, está com um espaço vazio"
   ]
  },
  {
   "cell_type": "code",
   "execution_count": 8,
   "metadata": {},
   "outputs": [
    {
     "name": "stdout",
     "output_type": "stream",
     "text": [
      "Index(['id _cliente', 'nome', 'idade', 'localização', 'data_cadastro',\n",
      "       'id_vendas', 'id_cliente', 'valor_venda', 'data_venda', 'id_produto',\n",
      "       'localizacao_venda'],\n",
      "      dtype='object')\n"
     ]
    }
   ],
   "source": [
    "# Removendo os espaços em branco\n",
    "clientes_vendas.columns = clientes_vendas.columns.str.strip()\n",
    "print(clientes_vendas.columns)"
   ]
  },
  {
   "cell_type": "code",
   "execution_count": 9,
   "metadata": {},
   "outputs": [
    {
     "name": "stdout",
     "output_type": "stream",
     "text": [
      "          nome  idade faixa_etaria  valor_venda\n",
      "0    Ana Silva     29        26-35          300\n",
      "1   João Pedro     45        46-60          450\n",
      "2  Maria Clara     34        26-35          200\n"
     ]
    }
   ],
   "source": [
    "\n",
    "# Definindo as faixas etárias\n",
    "bins = [0, 25, 35, 45, 60, 75, 90, 115]  # Limites das faixas\n",
    "labels = [\"18-25\", \"26-35\", \"36-45\", \"46-60\", \"61-75\", \"76-90\", \"91-115\"]  # Rótulos para as faixas\n",
    "\n",
    "#Criando a coluna de faixa etária\n",
    "clientes_vendas['faixa_etaria'] = pd.cut(clientes_vendas['idade'], bins=bins, labels=labels, right=False)\n",
    "\n",
    "#Visualizando os resultados\n",
    "print(clientes_vendas[['nome', 'idade', 'faixa_etaria','valor_venda']])"
   ]
  },
  {
   "cell_type": "markdown",
   "metadata": {},
   "source": [
    "A coluna faixa_etaria foi criada com os intervalos definidos, agora vou agrupar por faixa_etaria e valor de vendas."
   ]
  },
  {
   "cell_type": "code",
   "execution_count": 10,
   "metadata": {},
   "outputs": [
    {
     "name": "stdout",
     "output_type": "stream",
     "text": [
      "  faixa_etaria  valor_venda\n",
      "0        18-25            0\n",
      "1        26-35          500\n",
      "2        36-45            0\n",
      "3        46-60          450\n",
      "4        61-75            0\n",
      "5        76-90            0\n",
      "6       91-115            0\n"
     ]
    }
   ],
   "source": [
    "lucro_faixa_etaria = clientes_vendas.groupby('faixa_etaria', observed=False)['valor_venda'].sum().reset_index()\n",
    "print(lucro_faixa_etaria)\n"
   ]
  },
  {
   "cell_type": "code",
   "execution_count": 50,
   "metadata": {},
   "outputs": [
    {
     "data": {
      "image/png": "[encoded data removed]",
      "text/plain": [
       "<Figure size 800x400 with 1 Axes>"
      ]
     },
     "metadata": {},
     "output_type": "display_data"
    }
   ],
   "source": [
    "import matplotlib.pyplot as plt\n",
    "\n",
    "lucro_faixa_etaria = clientes_vendas.groupby('faixa_etaria', observed=False)['valor_venda'].sum().reset_index()\n",
    "\n",
    "# Colocando a faixa etária como índice\n",
    "lucro_faixa_etaria.set_index('faixa_etaria', inplace=True)\n",
    "\n",
    "# Plotando gráfico\n",
    "ax = lucro_faixa_etaria.plot(kind='bar', color='mediumpurple', figsize=(8,4))\n",
    "\n",
    "# Colocando os rótulos no eixo X horizontal\n",
    "plt.xticks(rotation=0)\n",
    "\n",
    "# Títulos e labels do gráfico\n",
    "plt.title('Lucro por Faixa Etária')\n",
    "plt.xlabel('Faixa Etária')\n",
    "plt.ylabel('Valor da Venda')\n",
    "\n",
    "# Removendo o eixo Y \n",
    "ax.set_ylabel('Lucro R$')\n",
    "\n",
    "\n",
    "plt.tight_layout() # Ajustando o layout para evitar sobreposição\n",
    "plt.show()\n"
   ]
  },
  {
   "cell_type": "markdown",
   "metadata": {},
   "source": [
    "Campanhas de marketing: Qual campanha teve o melhor ROI (Retorno sobre Investimento) nos últimos trimestres?\n",
    "\n",
    "Produtos ou serviços mais vendidos, sazonalidade e oportunidades de upselling.\n"
   ]
  },
  {
   "cell_type": "code",
   "execution_count": 11,
   "metadata": {},
   "outputs": [
    {
     "name": "stdout",
     "output_type": "stream",
     "text": [
      "A média de lucro da empresa gira em torno de R$ 475.0\n"
     ]
    }
   ],
   "source": [
    "# Criando uma tupla com os valores monetários (Usar depois)\n",
    "\n",
    "tupla_valores = tuple(rentabilidade_geografica['valor_venda'])\n",
    "\n",
    "media_lucro = pd.Series(tupla_valores).median()\n",
    "print(f'A média de lucro da empresa gira em torno de R$ {media_lucro}')"
   ]
  }
 ],
 "metadata": {
  "kernelspec": {
   "display_name": "Python 3",
   "language": "python",
   "name": "python3"
  },
  "language_info": {
   "codemirror_mode": {
    "name": "ipython",
    "version": 3
   },
   "file_extension": ".py",
   "mimetype": "text/x-python",
   "name": "python",
   "nbconvert_exporter": "python",
   "pygments_lexer": "ipython3",
   "version": "3.13.1"
  }
 },
 "nbformat": 4,
 "nbformat_minor": 2
}
