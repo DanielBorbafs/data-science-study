{
 "cells": [
  {
   "cell_type": "markdown",
   "metadata": {},
   "source": [
    "\"Quero identificar padrões e tendências para melhorar nossas decisões de marketing e direcionar nossos investimentos\"\n"
   ]
  },
  {
   "cell_type": "code",
   "execution_count": null,
   "metadata": {},
   "outputs": [],
   "source": [
    "! pip install pandas\n"
   ]
  },
  {
   "cell_type": "code",
   "execution_count": null,
   "metadata": {},
   "outputs": [],
   "source": [
    "! pip install openpyxl"
   ]
  },
  {
   "cell_type": "code",
   "execution_count": 10,
   "metadata": {},
   "outputs": [],
   "source": [
    "import pandas as pd \n",
    "\n",
    "# Buscando cada sheet dísponível na planilha\n",
    "df_clientes = pd.read_excel('marketing.xlsx', sheet_name='clientes')\n",
    "df_campanhas= pd.read_excel('marketing.xlsx', sheet_name='campanhas')\n",
    "df_vendas= pd.read_excel('marketing.xlsx', sheet_name='vendas')\n",
    "df_produtos= pd.read_excel('marketing.xlsx', sheet_name='produtos')\n",
    "\n"
   ]
  },
  {
   "cell_type": "markdown",
   "metadata": {},
   "source": [
    "Quais são os segmentos mais rentáveis com base nos dados ? (ex.: idade, localização)."
   ]
  },
  {
   "cell_type": "code",
   "execution_count": 48,
   "metadata": {},
   "outputs": [
    {
     "data": {
      "text/html": [
       "<div>\n",
       "<style scoped>\n",
       "    .dataframe tbody tr th:only-of-type {\n",
       "        vertical-align: middle;\n",
       "    }\n",
       "\n",
       "    .dataframe tbody tr th {\n",
       "        vertical-align: top;\n",
       "    }\n",
       "\n",
       "    .dataframe thead th {\n",
       "        text-align: right;\n",
       "    }\n",
       "</style>\n",
       "<table border=\"1\" class=\"dataframe\">\n",
       "  <thead>\n",
       "    <tr style=\"text-align: right;\">\n",
       "      <th></th>\n",
       "      <th>localizacao_venda</th>\n",
       "      <th>valor_venda</th>\n",
       "    </tr>\n",
       "  </thead>\n",
       "  <tbody>\n",
       "    <tr>\n",
       "      <th>0</th>\n",
       "      <td>Rio de Janeiro</td>\n",
       "      <td>450</td>\n",
       "    </tr>\n",
       "    <tr>\n",
       "      <th>1</th>\n",
       "      <td>São Paulo</td>\n",
       "      <td>500</td>\n",
       "    </tr>\n",
       "  </tbody>\n",
       "</table>\n",
       "</div>"
      ],
      "text/plain": [
       "  localizacao_venda  valor_venda\n",
       "0    Rio de Janeiro          450\n",
       "1         São Paulo          500"
      ]
     },
     "execution_count": 48,
     "metadata": {},
     "output_type": "execute_result"
    }
   ],
   "source": [
    "# Juntando a sheet de clientes com vendas \n",
    "clientes_vendas = pd.merge(df_clientes, df_vendas, left_on='id _cliente', right_on='id_vendas', how='inner')\n",
    "\n",
    "# agrupando rentabilidade por localização\n",
    "rentabilidade_geografica = clientes_vendas.groupby('localizacao_venda')['valor_venda'].sum().reset_index()\n",
    "\n",
    "rentabilidade_geografica"
   ]
  },
  {
   "cell_type": "code",
   "execution_count": null,
   "metadata": {},
   "outputs": [],
   "source": [
    "! pip install matplotlib"
   ]
  },
  {
   "cell_type": "code",
   "execution_count": 83,
   "metadata": {},
   "outputs": [
    {
     "data": {
      "image/png": "[encoded data removed]",
      "text/plain": [
       "<Figure size 1000x400 with 1 Axes>"
      ]
     },
     "metadata": {},
     "output_type": "display_data"
    }
   ],
   "source": [
    "import matplotlib.pyplot as plt\n",
    "rentabilidade_geografica = clientes_vendas.groupby('localizacao_venda')['valor_venda'].sum().reset_index()\n",
    "\n",
    "# Colocando a coluna localizacao_venda como índice\n",
    "rentabilidade_geografica.set_index('localizacao_venda', inplace=True)\n",
    "\n",
    "\n",
    "# Criando o gráfico de barras horizontais sem bordas\n",
    "ax = rentabilidade_geografica.plot(\n",
    "    kind='barh', \n",
    "    color='mediumpurple', \n",
    "    legend=False, \n",
    "    figsize=(10, 4)\n",
    ")\n",
    "\n",
    "# Colocando o título\n",
    "plt.title('Total de Lucro por Estado', fontsize=14)\n",
    "\n",
    "# Colocando os valores direto na barra\n",
    "for index, value in enumerate(rentabilidade_geografica['valor_venda']):\n",
    "    plt.text(value + 10, index, f' R$ {value}', va='center', fontsize=12)  # Ajuste do deslocamento com `value + 10`\n",
    "\n",
    "\n",
    "# Removendo o eixo X\n",
    "ax.get_xaxis().set_visible(False)\n",
    "# Removendo o eixo Y \n",
    "ax.set_ylabel('')\n",
    "\n",
    "\n",
    "ax.spines['top'].set_visible(False)   # Remove a linha superior\n",
    "ax.spines['right'].set_visible(False) # Remove a linha direita\n",
    "\n",
    "ax.spines['bottom'].set_visible(False) # Remove a linha inferior\n",
    "\n",
    "\n",
    "plt.tight_layout()\n",
    "plt.show()"
   ]
  },
  {
   "cell_type": "code",
   "execution_count": 42,
   "metadata": {},
   "outputs": [
    {
     "name": "stdout",
     "output_type": "stream",
     "text": [
      "475.0\n"
     ]
    }
   ],
   "source": [
    "# Criando uma tupla com os valores monetários (Usar depois)\n",
    "\n",
    "tupla_valores = tuple(rentabilidade_geografica['valor_venda'])\n",
    "\n",
    "media_lucro = pd.Series(tupla_valores).median()\n",
    "print(f'A média de lucro da empresa gira em torno de R$ {media_lucro}')"
   ]
  }
 ],
 "metadata": {
  "kernelspec": {
   "display_name": "Python 3",
   "language": "python",
   "name": "python3"
  },
  "language_info": {
   "codemirror_mode": {
    "name": "ipython",
    "version": 3
   },
   "file_extension": ".py",
   "mimetype": "text/x-python",
   "name": "python",
   "nbconvert_exporter": "python",
   "pygments_lexer": "ipython3",
   "version": "3.13.1"
  }
 },
 "nbformat": 4,
 "nbformat_minor": 2
}
