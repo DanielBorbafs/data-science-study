{
 "cells": [
  {
   "cell_type": "markdown",
   "metadata": {},
   "source": [
    "Imagine que possuímos uma base de dados onde os valores monetários estão armazenados como strings, e queremos converter para float"
   ]
  },
  {
   "cell_type": "code",
   "execution_count": 8,
   "metadata": {},
   "outputs": [
    {
     "name": "stdout",
     "output_type": "stream",
     "text": [
      "float64\n"
     ]
    }
   ],
   "source": [
    "import pandas as pd\n",
    "df = pd.DataFrame({\n",
    "    'valores':['10.5', '20.7', '15.3', '8.9']\n",
    "})\n",
    "\n",
    "df['valores'] = df['valores'].astype(float)\n",
    "\n",
    "#Verificando o tipo \n",
    "print(df['valores'].dtype)\n"
   ]
  },
  {
   "cell_type": "markdown",
   "metadata": {},
   "source": [
    "Agora, vamos supor que em nossa coluna tenha valores em string e numéricos juntos..."
   ]
  },
  {
   "cell_type": "code",
   "execution_count": 12,
   "metadata": {},
   "outputs": [
    {
     "name": "stdout",
     "output_type": "stream",
     "text": [
      "   valores\n",
      "0     10.5\n",
      "1     20.7\n",
      "2      NaN\n",
      "3      8.9\n",
      "float64\n"
     ]
    }
   ],
   "source": [
    "import pandas as pd\n",
    "\n",
    "\n",
    "df = pd.DataFrame({\n",
    "    'valores': ['10.5', '20.7', 'abc', '8.9']\n",
    "})\n",
    "\n",
    "df['valores'] = pd.to_numeric(df['valores'], errors='coerce') # Coerce vai transformar qualquer valor inválido em NaN\n",
    "\n",
    "print(df)\n",
    "print(df['valores'].dtype)"
   ]
  }
 ],
 "metadata": {
  "kernelspec": {
   "display_name": "Python 3",
   "language": "python",
   "name": "python3"
  },
  "language_info": {
   "codemirror_mode": {
    "name": "ipython",
    "version": 3
   },
   "file_extension": ".py",
   "mimetype": "text/x-python",
   "name": "python",
   "nbconvert_exporter": "python",
   "pygments_lexer": "ipython3",
   "version": "3.13.1"
  }
 },
 "nbformat": 4,
 "nbformat_minor": 2
}
