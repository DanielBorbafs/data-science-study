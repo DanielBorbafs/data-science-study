{
 "cells": [
  {
   "cell_type": "markdown",
   "metadata": {
    "id": "AGc2Cf4cBwd7"
   },
   "source": [
    "# <font color=green> PYTHON PARA DATA SCIENCE\n",
    "---"
   ]
  },
  {
   "cell_type": "markdown",
   "metadata": {
    "id": "fH2br9y9CYZ8"
   },
   "source": [
    "## <font color=green> 1. BIBLIOTECAS\n",
    "---"
   ]
  },
  {
   "cell_type": "markdown",
   "metadata": {
    "id": "jjEKgfiuFzHz"
   },
   "source": [
    "## 1.1 Instalação e importação de bibliotecas\n",
    "\n",
    "Na linguagem Python utiliza-se bastante o conceito de bibliotecas como um conjunto de módulos e funções úteis para o usuário. Elas facilitam em reduzir o uso de códigos no projeto, mantendo apenas o necessário para a tarefa que desejamos realizar."
   ]
  },
  {
   "cell_type": "markdown",
   "metadata": {
    "id": "JjpazCgqDRfZ"
   },
   "source": [
    "### Instalando uma biblioteca"
   ]
  },
  {
   "cell_type": "markdown",
   "metadata": {
    "id": "_qnuIo7oIQYx"
   },
   "source": [
    "Para instalar ou atualizar uma biblioteca no Python, podemos recorrer ao `pip` que é um gerenciador de bibliotecas no Python. "
   ]
  },
  {
   "cell_type": "code",
   "execution_count": 2,
   "metadata": {
    "colab": {
     "base_uri": "https://localhost:8080/"
    },
    "executionInfo": {
     "elapsed": 3957,
     "status": "ok",
     "timestamp": 1678838783284,
     "user": {
      "displayName": "Afonso Augusto Rios",
      "userId": "05972796828124452071"
     },
     "user_tz": 180
    },
    "id": "rsxrF2fEDWcc",
    "outputId": "6c03fde2-4123-4fb9-efc8-00575efbdd3a"
   },
   "outputs": [
    {
     "name": "stdout",
     "output_type": "stream",
     "text": [
      "Looking in indexes: https://pypi.org/simple, https://us-python.pkg.dev/colab-wheels/public/simple/\n",
      "Requirement already satisfied: matplotlib in /usr/local/lib/python3.9/dist-packages (3.5.3)\n",
      "Requirement already satisfied: packaging>=20.0 in /usr/local/lib/python3.9/dist-packages (from matplotlib) (23.0)\n",
      "Requirement already satisfied: pyparsing>=2.2.1 in /usr/local/lib/python3.9/dist-packages (from matplotlib) (3.0.9)\n",
      "Requirement already satisfied: numpy>=1.17 in /usr/local/lib/python3.9/dist-packages (from matplotlib) (1.22.4)\n",
      "Requirement already satisfied: pillow>=6.2.0 in /usr/local/lib/python3.9/dist-packages (from matplotlib) (8.4.0)\n",
      "Requirement already satisfied: kiwisolver>=1.0.1 in /usr/local/lib/python3.9/dist-packages (from matplotlib) (1.4.4)\n",
      "Requirement already satisfied: python-dateutil>=2.7 in /usr/local/lib/python3.9/dist-packages (from matplotlib) (2.8.2)\n",
      "Requirement already satisfied: cycler>=0.10 in /usr/local/lib/python3.9/dist-packages (from matplotlib) (0.11.0)\n",
      "Requirement already satisfied: fonttools>=4.22.0 in /usr/local/lib/python3.9/dist-packages (from matplotlib) (4.39.0)\n",
      "Requirement already satisfied: six>=1.5 in /usr/local/lib/python3.9/dist-packages (from python-dateutil>=2.7->matplotlib) (1.15.0)\n"
     ]
    }
   ],
   "source": [
    "# Instalando a biblioteca matplotlib pelo pip\n",
    "!pip install matplotlib"
   ]
  },
  {
   "cell_type": "code",
   "execution_count": 4,
   "metadata": {
    "colab": {
     "base_uri": "https://localhost:8080/"
    },
    "executionInfo": {
     "elapsed": 4448,
     "status": "ok",
     "timestamp": 1678839015622,
     "user": {
      "displayName": "Afonso Augusto Rios",
      "userId": "05972796828124452071"
     },
     "user_tz": 180
    },
    "id": "s7JtnISoNHjf",
    "outputId": "e7bb62a4-64ca-4cbe-8e09-dc1bdfeb5a83"
   },
   "outputs": [
    {
     "name": "stdout",
     "output_type": "stream",
     "text": [
      "^C\n"
     ]
    },
    {
     "name": "stdout",
     "output_type": "stream",
     "text": [
      "Collecting matplotlib==3.6.2\n",
      "  Using cached matplotlib-3.6.2.tar.gz (35.8 MB)\n",
      "  Installing build dependencies: started\n",
      "  Installing build dependencies: finished with status 'done'\n",
      "  Getting requirements to build wheel: started\n",
      "  Getting requirements to build wheel: finished with status 'done'\n",
      "  Installing backend dependencies: started\n",
      "  Installing backend dependencies: finished with status 'done'\n",
      "  Preparing metadata (pyproject.toml): started\n",
      "  Preparing metadata (pyproject.toml): finished with status 'done'\n",
      "Collecting contourpy>=1.0.1 (from matplotlib==3.6.2)\n",
      "  Using cached contourpy-1.3.1-cp313-cp313-win_amd64.whl.metadata (5.4 kB)\n",
      "Collecting cycler>=0.10 (from matplotlib==3.6.2)\n",
      "  Using cached cycler-0.12.1-py3-none-any.whl.metadata (3.8 kB)\n",
      "Collecting fonttools>=4.22.0 (from matplotlib==3.6.2)\n",
      "  Using cached fonttools-4.55.3-cp313-cp313-win_amd64.whl.metadata (168 kB)\n",
      "Collecting kiwisolver>=1.0.1 (from matplotlib==3.6.2)\n",
      "  Using cached kiwisolver-1.4.7-cp313-cp313-win_amd64.whl.metadata (6.4 kB)\n",
      "Collecting numpy>=1.19 (from matplotlib==3.6.2)\n",
      "  Using cached numpy-2.2.0-cp313-cp313-win_amd64.whl.metadata (60 kB)\n",
      "Requirement already satisfied: packaging>=20.0 in c:\\users\\daniel\\appdata\\roaming\\python\\python313\\site-packages (from matplotlib==3.6.2) (24.2)\n",
      "Collecting pillow>=6.2.0 (from matplotlib==3.6.2)\n",
      "  Using cached pillow-11.0.0-cp313-cp313-win_amd64.whl.metadata (9.3 kB)\n",
      "Collecting pyparsing>=2.2.1 (from matplotlib==3.6.2)\n",
      "  Using cached pyparsing-3.2.0-py3-none-any.whl.metadata (5.0 kB)\n",
      "Requirement already satisfied: python-dateutil>=2.7 in c:\\users\\daniel\\appdata\\roaming\\python\\python313\\site-packages (from matplotlib==3.6.2) (2.9.0.post0)\n",
      "Requirement already satisfied: six>=1.5 in c:\\users\\daniel\\appdata\\roaming\\python\\python313\\site-packages (from python-dateutil>=2.7->matplotlib==3.6.2) (1.17.0)\n",
      "Using cached contourpy-1.3.1-cp313-cp313-win_amd64.whl (220 kB)\n",
      "Using cached cycler-0.12.1-py3-none-any.whl (8.3 kB)\n",
      "Using cached fonttools-4.55.3-cp313-cp313-win_amd64.whl (2.2 MB)\n",
      "Using cached kiwisolver-1.4.7-cp313-cp313-win_amd64.whl (55 kB)\n",
      "Using cached numpy-2.2.0-cp313-cp313-win_amd64.whl (12.6 MB)\n",
      "Using cached pillow-11.0.0-cp313-cp313-win_amd64.whl (2.6 MB)\n",
      "Using cached pyparsing-3.2.0-py3-none-any.whl (106 kB)\n",
      "Building wheels for collected packages: matplotlib\n",
      "  Building wheel for matplotlib (pyproject.toml): started\n",
      "  Building wheel for matplotlib (pyproject.toml): finished with status 'error'\n",
      "Failed to build matplotlib\n"
     ]
    },
    {
     "name": "stderr",
     "output_type": "stream",
     "text": [
      "  error: subprocess-exited-with-error\n",
      "  \n",
      "  × Building wheel for matplotlib (pyproject.toml) did not run successfully.\n",
      "  │ exit code: 1\n",
      "  ╰─> [564 lines of output]\n",
      "      \n",
      "      Edit mplsetup.cfg to change the build options; suppress output with --quiet.\n",
      "      \n",
      "      BUILDING MATPLOTLIB\n",
      "            python: yes [3.13.1 (tags/v3.13.1:0671451, Dec  3 2024, 19:06:28) [MSC\n",
      "                        v.1942 64 bit (AMD64)]]\n",
      "          platform: yes [win32]\n",
      "             tests: no  [skipping due to configuration]\n",
      "            macosx: no  [Mac OS-X only]\n",
      "      \n",
      "      C:\\Users\\Daniel\\AppData\\Local\\Temp\\pip-build-env-y_f02v1n\\overlay\\Lib\\site-packages\\setuptools\\dist.py:697: SetuptoolsDeprecationWarning: The namespace_packages parameter is deprecated.\n",
      "      !!\n",
      "      \n",
      "              ********************************************************************************\n",
      "              Please replace its usage with implicit namespaces (PEP 420).\n",
      "      \n",
      "              See https://setuptools.pypa.io/en/latest/references/keywords.html#keyword-namespace-packages for details.\n",
      "              ********************************************************************************\n",
      "      \n",
      "      !!\n",
      "        ep.load()(self, ep.name, value)\n",
      "      WARNING setuptools_scm.pyproject_reading toml section missing 'pyproject.toml does not contain a tool.setuptools_scm section'\n",
      "      Traceback (most recent call last):\n",
      "        File \"C:\\Users\\Daniel\\AppData\\Local\\Temp\\pip-build-env-y_f02v1n\\normal\\Lib\\site-packages\\setuptools_scm\\_integration\\pyproject_reading.py\", line 36, in read_pyproject\n",
      "          section = defn.get(\"tool\", {})[tool_name]\n",
      "                    ~~~~~~~~~~~~~~~~~~~~^^^^^^^^^^^\n",
      "      KeyError: 'setuptools_scm'\n",
      "      C:\\Users\\Daniel\\AppData\\Local\\Temp\\pip-build-env-y_f02v1n\\normal\\Lib\\site-packages\\setuptools_scm\\git.py:312: UserWarning: git archive did not support describe output\n",
      "        warnings.warn(\"git archive did not support describe output\")\n",
      "      C:\\Users\\Daniel\\AppData\\Local\\Temp\\pip-build-env-y_f02v1n\\normal\\Lib\\site-packages\\setuptools_scm\\git.py:331: UserWarning: unprocessed git archival found (no export subst applied)\n",
      "        warnings.warn(\"unprocessed git archival found (no export subst applied)\")\n",
      "      running bdist_wheel\n",
      "      running build\n",
      "      running build_py\n",
      "      creating build\\lib.win-amd64-cpython-313\n",
      "      copying lib\\pylab.py -> build\\lib.win-amd64-cpython-313\n",
      "      creating build\\lib.win-amd64-cpython-313\\matplotlib\n",
      "      copying lib\\matplotlib\\afm.py -> build\\lib.win-amd64-cpython-313\\matplotlib\n",
      "      copying lib\\matplotlib\\animation.py -> build\\lib.win-amd64-cpython-313\\matplotlib\n",
      "      copying lib\\matplotlib\\artist.py -> build\\lib.win-amd64-cpython-313\\matplotlib\n",
      "      copying lib\\matplotlib\\axis.py -> build\\lib.win-amd64-cpython-313\\matplotlib\n",
      "      copying lib\\matplotlib\\backend_bases.py -> build\\lib.win-amd64-cpython-313\\matplotlib\n",
      "      copying lib\\matplotlib\\backend_managers.py -> build\\lib.win-amd64-cpython-313\\matplotlib\n",
      "      copying lib\\matplotlib\\backend_tools.py -> build\\lib.win-amd64-cpython-313\\matplotlib\n",
      "      copying lib\\matplotlib\\bezier.py -> build\\lib.win-amd64-cpython-313\\matplotlib\n",
      "      copying lib\\matplotlib\\blocking_input.py -> build\\lib.win-amd64-cpython-313\\matplotlib\n",
      "      copying lib\\matplotlib\\category.py -> build\\lib.win-amd64-cpython-313\\matplotlib\n",
      "      copying lib\\matplotlib\\cm.py -> build\\lib.win-amd64-cpython-313\\matplotlib\n",
      "      copying lib\\matplotlib\\collections.py -> build\\lib.win-amd64-cpython-313\\matplotlib\n",
      "      copying lib\\matplotlib\\colorbar.py -> build\\lib.win-amd64-cpython-313\\matplotlib\n",
      "      copying lib\\matplotlib\\colors.py -> build\\lib.win-amd64-cpython-313\\matplotlib\n",
      "      copying lib\\matplotlib\\container.py -> build\\lib.win-amd64-cpython-313\\matplotlib\n",
      "      copying lib\\matplotlib\\contour.py -> build\\lib.win-amd64-cpython-313\\matplotlib\n",
      "      copying lib\\matplotlib\\dates.py -> build\\lib.win-amd64-cpython-313\\matplotlib\n",
      "      copying lib\\matplotlib\\docstring.py -> build\\lib.win-amd64-cpython-313\\matplotlib\n",
      "      copying lib\\matplotlib\\dviread.py -> build\\lib.win-amd64-cpython-313\\matplotlib\n",
      "      copying lib\\matplotlib\\figure.py -> build\\lib.win-amd64-cpython-313\\matplotlib\n",
      "      copying lib\\matplotlib\\fontconfig_pattern.py -> build\\lib.win-amd64-cpython-313\\matplotlib\n",
      "      copying lib\\matplotlib\\font_manager.py -> build\\lib.win-amd64-cpython-313\\matplotlib\n",
      "      copying lib\\matplotlib\\gridspec.py -> build\\lib.win-amd64-cpython-313\\matplotlib\n",
      "      copying lib\\matplotlib\\hatch.py -> build\\lib.win-amd64-cpython-313\\matplotlib\n",
      "      copying lib\\matplotlib\\image.py -> build\\lib.win-amd64-cpython-313\\matplotlib\n",
      "      copying lib\\matplotlib\\layout_engine.py -> build\\lib.win-amd64-cpython-313\\matplotlib\n",
      "      copying lib\\matplotlib\\legend.py -> build\\lib.win-amd64-cpython-313\\matplotlib\n",
      "      copying lib\\matplotlib\\legend_handler.py -> build\\lib.win-amd64-cpython-313\\matplotlib\n",
      "      copying lib\\matplotlib\\lines.py -> build\\lib.win-amd64-cpython-313\\matplotlib\n",
      "      copying lib\\matplotlib\\markers.py -> build\\lib.win-amd64-cpython-313\\matplotlib\n",
      "      copying lib\\matplotlib\\mathtext.py -> build\\lib.win-amd64-cpython-313\\matplotlib\n",
      "      copying lib\\matplotlib\\mlab.py -> build\\lib.win-amd64-cpython-313\\matplotlib\n",
      "      copying lib\\matplotlib\\offsetbox.py -> build\\lib.win-amd64-cpython-313\\matplotlib\n",
      "      copying lib\\matplotlib\\patches.py -> build\\lib.win-amd64-cpython-313\\matplotlib\n",
      "      copying lib\\matplotlib\\path.py -> build\\lib.win-amd64-cpython-313\\matplotlib\n",
      "      copying lib\\matplotlib\\patheffects.py -> build\\lib.win-amd64-cpython-313\\matplotlib\n",
      "      copying lib\\matplotlib\\pylab.py -> build\\lib.win-amd64-cpython-313\\matplotlib\n",
      "      copying lib\\matplotlib\\pyplot.py -> build\\lib.win-amd64-cpython-313\\matplotlib\n",
      "      copying lib\\matplotlib\\quiver.py -> build\\lib.win-amd64-cpython-313\\matplotlib\n",
      "      copying lib\\matplotlib\\rcsetup.py -> build\\lib.win-amd64-cpython-313\\matplotlib\n",
      "      copying lib\\matplotlib\\sankey.py -> build\\lib.win-amd64-cpython-313\\matplotlib\n",
      "      copying lib\\matplotlib\\scale.py -> build\\lib.win-amd64-cpython-313\\matplotlib\n",
      "      copying lib\\matplotlib\\spines.py -> build\\lib.win-amd64-cpython-313\\matplotlib\n",
      "      copying lib\\matplotlib\\stackplot.py -> build\\lib.win-amd64-cpython-313\\matplotlib\n",
      "      copying lib\\matplotlib\\streamplot.py -> build\\lib.win-amd64-cpython-313\\matplotlib\n",
      "      copying lib\\matplotlib\\table.py -> build\\lib.win-amd64-cpython-313\\matplotlib\n",
      "      copying lib\\matplotlib\\texmanager.py -> build\\lib.win-amd64-cpython-313\\matplotlib\n",
      "      copying lib\\matplotlib\\text.py -> build\\lib.win-amd64-cpython-313\\matplotlib\n",
      "      copying lib\\matplotlib\\textpath.py -> build\\lib.win-amd64-cpython-313\\matplotlib\n",
      "      copying lib\\matplotlib\\ticker.py -> build\\lib.win-amd64-cpython-313\\matplotlib\n",
      "      copying lib\\matplotlib\\tight_bbox.py -> build\\lib.win-amd64-cpython-313\\matplotlib\n",
      "      copying lib\\matplotlib\\tight_layout.py -> build\\lib.win-amd64-cpython-313\\matplotlib\n",
      "      copying lib\\matplotlib\\transforms.py -> build\\lib.win-amd64-cpython-313\\matplotlib\n",
      "      copying lib\\matplotlib\\type1font.py -> build\\lib.win-amd64-cpython-313\\matplotlib\n",
      "      copying lib\\matplotlib\\units.py -> build\\lib.win-amd64-cpython-313\\matplotlib\n",
      "      copying lib\\matplotlib\\widgets.py -> build\\lib.win-amd64-cpython-313\\matplotlib\n",
      "      copying lib\\matplotlib\\_afm.py -> build\\lib.win-amd64-cpython-313\\matplotlib\n",
      "      copying lib\\matplotlib\\_animation_data.py -> build\\lib.win-amd64-cpython-313\\matplotlib\n",
      "      copying lib\\matplotlib\\_blocking_input.py -> build\\lib.win-amd64-cpython-313\\matplotlib\n",
      "      copying lib\\matplotlib\\_cm.py -> build\\lib.win-amd64-cpython-313\\matplotlib\n",
      "      copying lib\\matplotlib\\_cm_listed.py -> build\\lib.win-amd64-cpython-313\\matplotlib\n",
      "      copying lib\\matplotlib\\_color_data.py -> build\\lib.win-amd64-cpython-313\\matplotlib\n",
      "      copying lib\\matplotlib\\_constrained_layout.py -> build\\lib.win-amd64-cpython-313\\matplotlib\n",
      "      copying lib\\matplotlib\\_docstring.py -> build\\lib.win-amd64-cpython-313\\matplotlib\n",
      "      copying lib\\matplotlib\\_enums.py -> build\\lib.win-amd64-cpython-313\\matplotlib\n",
      "      copying lib\\matplotlib\\_fontconfig_pattern.py -> build\\lib.win-amd64-cpython-313\\matplotlib\n",
      "      copying lib\\matplotlib\\_internal_utils.py -> build\\lib.win-amd64-cpython-313\\matplotlib\n",
      "      copying lib\\matplotlib\\_layoutgrid.py -> build\\lib.win-amd64-cpython-313\\matplotlib\n",
      "      copying lib\\matplotlib\\_mathtext.py -> build\\lib.win-amd64-cpython-313\\matplotlib\n",
      "      copying lib\\matplotlib\\_mathtext_data.py -> build\\lib.win-amd64-cpython-313\\matplotlib\n",
      "      copying lib\\matplotlib\\_pylab_helpers.py -> build\\lib.win-amd64-cpython-313\\matplotlib\n",
      "      copying lib\\matplotlib\\_text_helpers.py -> build\\lib.win-amd64-cpython-313\\matplotlib\n",
      "      copying lib\\matplotlib\\_tight_bbox.py -> build\\lib.win-amd64-cpython-313\\matplotlib\n",
      "      copying lib\\matplotlib\\_tight_layout.py -> build\\lib.win-amd64-cpython-313\\matplotlib\n",
      "      copying lib\\matplotlib\\_type1font.py -> build\\lib.win-amd64-cpython-313\\matplotlib\n",
      "      copying lib\\matplotlib\\_version.py -> build\\lib.win-amd64-cpython-313\\matplotlib\n",
      "      copying lib\\matplotlib\\__init__.py -> build\\lib.win-amd64-cpython-313\\matplotlib\n",
      "      creating build\\lib.win-amd64-cpython-313\\mpl_toolkits\n",
      "      copying lib\\mpl_toolkits\\__init__.py -> build\\lib.win-amd64-cpython-313\\mpl_toolkits\n",
      "      creating build\\lib.win-amd64-cpython-313\\matplotlib\\axes\n",
      "      copying lib\\matplotlib\\axes\\_axes.py -> build\\lib.win-amd64-cpython-313\\matplotlib\\axes\n",
      "      copying lib\\matplotlib\\axes\\_base.py -> build\\lib.win-amd64-cpython-313\\matplotlib\\axes\n",
      "      copying lib\\matplotlib\\axes\\_secondary_axes.py -> build\\lib.win-amd64-cpython-313\\matplotlib\\axes\n",
      "      copying lib\\matplotlib\\axes\\_subplots.py -> build\\lib.win-amd64-cpython-313\\matplotlib\\axes\n",
      "      copying lib\\matplotlib\\axes\\__init__.py -> build\\lib.win-amd64-cpython-313\\matplotlib\\axes\n",
      "      creating build\\lib.win-amd64-cpython-313\\matplotlib\\backends\n",
      "      copying lib\\matplotlib\\backends\\backend_agg.py -> build\\lib.win-amd64-cpython-313\\matplotlib\\backends\n",
      "      copying lib\\matplotlib\\backends\\backend_cairo.py -> build\\lib.win-amd64-cpython-313\\matplotlib\\backends\n",
      "      copying lib\\matplotlib\\backends\\backend_gtk3.py -> build\\lib.win-amd64-cpython-313\\matplotlib\\backends\n",
      "      copying lib\\matplotlib\\backends\\backend_gtk3agg.py -> build\\lib.win-amd64-cpython-313\\matplotlib\\backends\n",
      "      copying lib\\matplotlib\\backends\\backend_gtk3cairo.py -> build\\lib.win-amd64-cpython-313\\matplotlib\\backends\n",
      "      copying lib\\matplotlib\\backends\\backend_gtk4.py -> build\\lib.win-amd64-cpython-313\\matplotlib\\backends\n",
      "      copying lib\\matplotlib\\backends\\backend_gtk4agg.py -> build\\lib.win-amd64-cpython-313\\matplotlib\\backends\n",
      "      copying lib\\matplotlib\\backends\\backend_gtk4cairo.py -> build\\lib.win-amd64-cpython-313\\matplotlib\\backends\n",
      "      copying lib\\matplotlib\\backends\\backend_macosx.py -> build\\lib.win-amd64-cpython-313\\matplotlib\\backends\n",
      "      copying lib\\matplotlib\\backends\\backend_mixed.py -> build\\lib.win-amd64-cpython-313\\matplotlib\\backends\n",
      "      copying lib\\matplotlib\\backends\\backend_nbagg.py -> build\\lib.win-amd64-cpython-313\\matplotlib\\backends\n",
      "      copying lib\\matplotlib\\backends\\backend_pdf.py -> build\\lib.win-amd64-cpython-313\\matplotlib\\backends\n",
      "      copying lib\\matplotlib\\backends\\backend_pgf.py -> build\\lib.win-amd64-cpython-313\\matplotlib\\backends\n",
      "      copying lib\\matplotlib\\backends\\backend_ps.py -> build\\lib.win-amd64-cpython-313\\matplotlib\\backends\n",
      "      copying lib\\matplotlib\\backends\\backend_qt.py -> build\\lib.win-amd64-cpython-313\\matplotlib\\backends\n",
      "      copying lib\\matplotlib\\backends\\backend_qt5.py -> build\\lib.win-amd64-cpython-313\\matplotlib\\backends\n",
      "      copying lib\\matplotlib\\backends\\backend_qt5agg.py -> build\\lib.win-amd64-cpython-313\\matplotlib\\backends\n",
      "      copying lib\\matplotlib\\backends\\backend_qt5cairo.py -> build\\lib.win-amd64-cpython-313\\matplotlib\\backends\n",
      "      copying lib\\matplotlib\\backends\\backend_qtagg.py -> build\\lib.win-amd64-cpython-313\\matplotlib\\backends\n",
      "      copying lib\\matplotlib\\backends\\backend_qtcairo.py -> build\\lib.win-amd64-cpython-313\\matplotlib\\backends\n",
      "      copying lib\\matplotlib\\backends\\backend_svg.py -> build\\lib.win-amd64-cpython-313\\matplotlib\\backends\n",
      "      copying lib\\matplotlib\\backends\\backend_template.py -> build\\lib.win-amd64-cpython-313\\matplotlib\\backends\n",
      "      copying lib\\matplotlib\\backends\\backend_tkagg.py -> build\\lib.win-amd64-cpython-313\\matplotlib\\backends\n",
      "      copying lib\\matplotlib\\backends\\backend_tkcairo.py -> build\\lib.win-amd64-cpython-313\\matplotlib\\backends\n",
      "      copying lib\\matplotlib\\backends\\backend_webagg.py -> build\\lib.win-amd64-cpython-313\\matplotlib\\backends\n",
      "      copying lib\\matplotlib\\backends\\backend_webagg_core.py -> build\\lib.win-amd64-cpython-313\\matplotlib\\backends\n",
      "      copying lib\\matplotlib\\backends\\backend_wx.py -> build\\lib.win-amd64-cpython-313\\matplotlib\\backends\n",
      "      copying lib\\matplotlib\\backends\\backend_wxagg.py -> build\\lib.win-amd64-cpython-313\\matplotlib\\backends\n",
      "      copying lib\\matplotlib\\backends\\backend_wxcairo.py -> build\\lib.win-amd64-cpython-313\\matplotlib\\backends\n",
      "      copying lib\\matplotlib\\backends\\qt_compat.py -> build\\lib.win-amd64-cpython-313\\matplotlib\\backends\n",
      "      copying lib\\matplotlib\\backends\\_backend_gtk.py -> build\\lib.win-amd64-cpython-313\\matplotlib\\backends\n",
      "      copying lib\\matplotlib\\backends\\_backend_pdf_ps.py -> build\\lib.win-amd64-cpython-313\\matplotlib\\backends\n",
      "      copying lib\\matplotlib\\backends\\_backend_tk.py -> build\\lib.win-amd64-cpython-313\\matplotlib\\backends\n",
      "      copying lib\\matplotlib\\backends\\__init__.py -> build\\lib.win-amd64-cpython-313\\matplotlib\\backends\n",
      "      creating build\\lib.win-amd64-cpython-313\\matplotlib\\cbook\n",
      "      copying lib\\matplotlib\\cbook\\__init__.py -> build\\lib.win-amd64-cpython-313\\matplotlib\\cbook\n",
      "      creating build\\lib.win-amd64-cpython-313\\matplotlib\\projections\n",
      "      copying lib\\matplotlib\\projections\\geo.py -> build\\lib.win-amd64-cpython-313\\matplotlib\\projections\n",
      "      copying lib\\matplotlib\\projections\\polar.py -> build\\lib.win-amd64-cpython-313\\matplotlib\\projections\n",
      "      copying lib\\matplotlib\\projections\\__init__.py -> build\\lib.win-amd64-cpython-313\\matplotlib\\projections\n",
      "      creating build\\lib.win-amd64-cpython-313\\matplotlib\\sphinxext\n",
      "      copying lib\\matplotlib\\sphinxext\\mathmpl.py -> build\\lib.win-amd64-cpython-313\\matplotlib\\sphinxext\n",
      "      copying lib\\matplotlib\\sphinxext\\plot_directive.py -> build\\lib.win-amd64-cpython-313\\matplotlib\\sphinxext\n",
      "      copying lib\\matplotlib\\sphinxext\\__init__.py -> build\\lib.win-amd64-cpython-313\\matplotlib\\sphinxext\n",
      "      creating build\\lib.win-amd64-cpython-313\\matplotlib\\style\n",
      "      copying lib\\matplotlib\\style\\core.py -> build\\lib.win-amd64-cpython-313\\matplotlib\\style\n",
      "      copying lib\\matplotlib\\style\\__init__.py -> build\\lib.win-amd64-cpython-313\\matplotlib\\style\n",
      "      creating build\\lib.win-amd64-cpython-313\\matplotlib\\testing\n",
      "      copying lib\\matplotlib\\testing\\compare.py -> build\\lib.win-amd64-cpython-313\\matplotlib\\testing\n",
      "      copying lib\\matplotlib\\testing\\conftest.py -> build\\lib.win-amd64-cpython-313\\matplotlib\\testing\n",
      "      copying lib\\matplotlib\\testing\\decorators.py -> build\\lib.win-amd64-cpython-313\\matplotlib\\testing\n",
      "      copying lib\\matplotlib\\testing\\exceptions.py -> build\\lib.win-amd64-cpython-313\\matplotlib\\testing\n",
      "      copying lib\\matplotlib\\testing\\widgets.py -> build\\lib.win-amd64-cpython-313\\matplotlib\\testing\n",
      "      copying lib\\matplotlib\\testing\\_markers.py -> build\\lib.win-amd64-cpython-313\\matplotlib\\testing\n",
      "      copying lib\\matplotlib\\testing\\__init__.py -> build\\lib.win-amd64-cpython-313\\matplotlib\\testing\n",
      "      creating build\\lib.win-amd64-cpython-313\\matplotlib\\tests\n",
      "      copying lib\\matplotlib\\tests\\conftest.py -> build\\lib.win-amd64-cpython-313\\matplotlib\\tests\n",
      "      copying lib\\matplotlib\\tests\\test_afm.py -> build\\lib.win-amd64-cpython-313\\matplotlib\\tests\n",
      "      copying lib\\matplotlib\\tests\\test_agg.py -> build\\lib.win-amd64-cpython-313\\matplotlib\\tests\n",
      "      copying lib\\matplotlib\\tests\\test_agg_filter.py -> build\\lib.win-amd64-cpython-313\\matplotlib\\tests\n",
      "      copying lib\\matplotlib\\tests\\test_animation.py -> build\\lib.win-amd64-cpython-313\\matplotlib\\tests\n",
      "      copying lib\\matplotlib\\tests\\test_api.py -> build\\lib.win-amd64-cpython-313\\matplotlib\\tests\n",
      "      copying lib\\matplotlib\\tests\\test_arrow_patches.py -> build\\lib.win-amd64-cpython-313\\matplotlib\\tests\n",
      "      copying lib\\matplotlib\\tests\\test_artist.py -> build\\lib.win-amd64-cpython-313\\matplotlib\\tests\n",
      "      copying lib\\matplotlib\\tests\\test_axes.py -> build\\lib.win-amd64-cpython-313\\matplotlib\\tests\n",
      "      copying lib\\matplotlib\\tests\\test_backends_interactive.py -> build\\lib.win-amd64-cpython-313\\matplotlib\\tests\n",
      "      copying lib\\matplotlib\\tests\\test_backend_bases.py -> build\\lib.win-amd64-cpython-313\\matplotlib\\tests\n",
      "      copying lib\\matplotlib\\tests\\test_backend_cairo.py -> build\\lib.win-amd64-cpython-313\\matplotlib\\tests\n",
      "      copying lib\\matplotlib\\tests\\test_backend_gtk3.py -> build\\lib.win-amd64-cpython-313\\matplotlib\\tests\n",
      "      copying lib\\matplotlib\\tests\\test_backend_macosx.py -> build\\lib.win-amd64-cpython-313\\matplotlib\\tests\n",
      "      copying lib\\matplotlib\\tests\\test_backend_nbagg.py -> build\\lib.win-amd64-cpython-313\\matplotlib\\tests\n",
      "      copying lib\\matplotlib\\tests\\test_backend_pdf.py -> build\\lib.win-amd64-cpython-313\\matplotlib\\tests\n",
      "      copying lib\\matplotlib\\tests\\test_backend_pgf.py -> build\\lib.win-amd64-cpython-313\\matplotlib\\tests\n",
      "      copying lib\\matplotlib\\tests\\test_backend_ps.py -> build\\lib.win-amd64-cpython-313\\matplotlib\\tests\n",
      "      copying lib\\matplotlib\\tests\\test_backend_qt.py -> build\\lib.win-amd64-cpython-313\\matplotlib\\tests\n",
      "      copying lib\\matplotlib\\tests\\test_backend_svg.py -> build\\lib.win-amd64-cpython-313\\matplotlib\\tests\n",
      "      copying lib\\matplotlib\\tests\\test_backend_template.py -> build\\lib.win-amd64-cpython-313\\matplotlib\\tests\n",
      "      copying lib\\matplotlib\\tests\\test_backend_tk.py -> build\\lib.win-amd64-cpython-313\\matplotlib\\tests\n",
      "      copying lib\\matplotlib\\tests\\test_backend_tools.py -> build\\lib.win-amd64-cpython-313\\matplotlib\\tests\n",
      "      copying lib\\matplotlib\\tests\\test_backend_webagg.py -> build\\lib.win-amd64-cpython-313\\matplotlib\\tests\n",
      "      copying lib\\matplotlib\\tests\\test_basic.py -> build\\lib.win-amd64-cpython-313\\matplotlib\\tests\n",
      "      copying lib\\matplotlib\\tests\\test_bbox_tight.py -> build\\lib.win-amd64-cpython-313\\matplotlib\\tests\n",
      "      copying lib\\matplotlib\\tests\\test_category.py -> build\\lib.win-amd64-cpython-313\\matplotlib\\tests\n",
      "      copying lib\\matplotlib\\tests\\test_cbook.py -> build\\lib.win-amd64-cpython-313\\matplotlib\\tests\n",
      "      copying lib\\matplotlib\\tests\\test_collections.py -> build\\lib.win-amd64-cpython-313\\matplotlib\\tests\n",
      "      copying lib\\matplotlib\\tests\\test_colorbar.py -> build\\lib.win-amd64-cpython-313\\matplotlib\\tests\n",
      "      copying lib\\matplotlib\\tests\\test_colors.py -> build\\lib.win-amd64-cpython-313\\matplotlib\\tests\n",
      "      copying lib\\matplotlib\\tests\\test_compare_images.py -> build\\lib.win-amd64-cpython-313\\matplotlib\\tests\n",
      "      copying lib\\matplotlib\\tests\\test_constrainedlayout.py -> build\\lib.win-amd64-cpython-313\\matplotlib\\tests\n",
      "      copying lib\\matplotlib\\tests\\test_container.py -> build\\lib.win-amd64-cpython-313\\matplotlib\\tests\n",
      "      copying lib\\matplotlib\\tests\\test_contour.py -> build\\lib.win-amd64-cpython-313\\matplotlib\\tests\n",
      "      copying lib\\matplotlib\\tests\\test_cycles.py -> build\\lib.win-amd64-cpython-313\\matplotlib\\tests\n",
      "      copying lib\\matplotlib\\tests\\test_dates.py -> build\\lib.win-amd64-cpython-313\\matplotlib\\tests\n",
      "      copying lib\\matplotlib\\tests\\test_determinism.py -> build\\lib.win-amd64-cpython-313\\matplotlib\\tests\n",
      "      copying lib\\matplotlib\\tests\\test_doc.py -> build\\lib.win-amd64-cpython-313\\matplotlib\\tests\n",
      "      copying lib\\matplotlib\\tests\\test_dviread.py -> build\\lib.win-amd64-cpython-313\\matplotlib\\tests\n",
      "      copying lib\\matplotlib\\tests\\test_figure.py -> build\\lib.win-amd64-cpython-313\\matplotlib\\tests\n",
      "      copying lib\\matplotlib\\tests\\test_fontconfig_pattern.py -> build\\lib.win-amd64-cpython-313\\matplotlib\\tests\n",
      "      copying lib\\matplotlib\\tests\\test_font_manager.py -> build\\lib.win-amd64-cpython-313\\matplotlib\\tests\n",
      "      copying lib\\matplotlib\\tests\\test_ft2font.py -> build\\lib.win-amd64-cpython-313\\matplotlib\\tests\n",
      "      copying lib\\matplotlib\\tests\\test_getattr.py -> build\\lib.win-amd64-cpython-313\\matplotlib\\tests\n",
      "      copying lib\\matplotlib\\tests\\test_gridspec.py -> build\\lib.win-amd64-cpython-313\\matplotlib\\tests\n",
      "      copying lib\\matplotlib\\tests\\test_image.py -> build\\lib.win-amd64-cpython-313\\matplotlib\\tests\n",
      "      copying lib\\matplotlib\\tests\\test_legend.py -> build\\lib.win-amd64-cpython-313\\matplotlib\\tests\n",
      "      copying lib\\matplotlib\\tests\\test_lines.py -> build\\lib.win-amd64-cpython-313\\matplotlib\\tests\n",
      "      copying lib\\matplotlib\\tests\\test_marker.py -> build\\lib.win-amd64-cpython-313\\matplotlib\\tests\n",
      "      copying lib\\matplotlib\\tests\\test_mathtext.py -> build\\lib.win-amd64-cpython-313\\matplotlib\\tests\n",
      "      copying lib\\matplotlib\\tests\\test_matplotlib.py -> build\\lib.win-amd64-cpython-313\\matplotlib\\tests\n",
      "      copying lib\\matplotlib\\tests\\test_mlab.py -> build\\lib.win-amd64-cpython-313\\matplotlib\\tests\n",
      "      copying lib\\matplotlib\\tests\\test_offsetbox.py -> build\\lib.win-amd64-cpython-313\\matplotlib\\tests\n",
      "      copying lib\\matplotlib\\tests\\test_patches.py -> build\\lib.win-amd64-cpython-313\\matplotlib\\tests\n",
      "      copying lib\\matplotlib\\tests\\test_path.py -> build\\lib.win-amd64-cpython-313\\matplotlib\\tests\n",
      "      copying lib\\matplotlib\\tests\\test_patheffects.py -> build\\lib.win-amd64-cpython-313\\matplotlib\\tests\n",
      "      copying lib\\matplotlib\\tests\\test_pickle.py -> build\\lib.win-amd64-cpython-313\\matplotlib\\tests\n",
      "      copying lib\\matplotlib\\tests\\test_png.py -> build\\lib.win-amd64-cpython-313\\matplotlib\\tests\n",
      "      copying lib\\matplotlib\\tests\\test_polar.py -> build\\lib.win-amd64-cpython-313\\matplotlib\\tests\n",
      "      copying lib\\matplotlib\\tests\\test_preprocess_data.py -> build\\lib.win-amd64-cpython-313\\matplotlib\\tests\n",
      "      copying lib\\matplotlib\\tests\\test_pyplot.py -> build\\lib.win-amd64-cpython-313\\matplotlib\\tests\n",
      "      copying lib\\matplotlib\\tests\\test_quiver.py -> build\\lib.win-amd64-cpython-313\\matplotlib\\tests\n",
      "      copying lib\\matplotlib\\tests\\test_rcparams.py -> build\\lib.win-amd64-cpython-313\\matplotlib\\tests\n",
      "      copying lib\\matplotlib\\tests\\test_sankey.py -> build\\lib.win-amd64-cpython-313\\matplotlib\\tests\n",
      "      copying lib\\matplotlib\\tests\\test_scale.py -> build\\lib.win-amd64-cpython-313\\matplotlib\\tests\n",
      "      copying lib\\matplotlib\\tests\\test_simplification.py -> build\\lib.win-amd64-cpython-313\\matplotlib\\tests\n",
      "      copying lib\\matplotlib\\tests\\test_skew.py -> build\\lib.win-amd64-cpython-313\\matplotlib\\tests\n",
      "      copying lib\\matplotlib\\tests\\test_sphinxext.py -> build\\lib.win-amd64-cpython-313\\matplotlib\\tests\n",
      "      copying lib\\matplotlib\\tests\\test_spines.py -> build\\lib.win-amd64-cpython-313\\matplotlib\\tests\n",
      "      copying lib\\matplotlib\\tests\\test_streamplot.py -> build\\lib.win-amd64-cpython-313\\matplotlib\\tests\n",
      "      copying lib\\matplotlib\\tests\\test_style.py -> build\\lib.win-amd64-cpython-313\\matplotlib\\tests\n",
      "      copying lib\\matplotlib\\tests\\test_subplots.py -> build\\lib.win-amd64-cpython-313\\matplotlib\\tests\n",
      "      copying lib\\matplotlib\\tests\\test_table.py -> build\\lib.win-amd64-cpython-313\\matplotlib\\tests\n",
      "      copying lib\\matplotlib\\tests\\test_testing.py -> build\\lib.win-amd64-cpython-313\\matplotlib\\tests\n",
      "      copying lib\\matplotlib\\tests\\test_texmanager.py -> build\\lib.win-amd64-cpython-313\\matplotlib\\tests\n",
      "      copying lib\\matplotlib\\tests\\test_text.py -> build\\lib.win-amd64-cpython-313\\matplotlib\\tests\n",
      "      copying lib\\matplotlib\\tests\\test_textpath.py -> build\\lib.win-amd64-cpython-313\\matplotlib\\tests\n",
      "      copying lib\\matplotlib\\tests\\test_ticker.py -> build\\lib.win-amd64-cpython-313\\matplotlib\\tests\n",
      "      copying lib\\matplotlib\\tests\\test_tightlayout.py -> build\\lib.win-amd64-cpython-313\\matplotlib\\tests\n",
      "      copying lib\\matplotlib\\tests\\test_transforms.py -> build\\lib.win-amd64-cpython-313\\matplotlib\\tests\n",
      "      copying lib\\matplotlib\\tests\\test_triangulation.py -> build\\lib.win-amd64-cpython-313\\matplotlib\\tests\n",
      "      copying lib\\matplotlib\\tests\\test_ttconv.py -> build\\lib.win-amd64-cpython-313\\matplotlib\\tests\n",
      "      copying lib\\matplotlib\\tests\\test_type1font.py -> build\\lib.win-amd64-cpython-313\\matplotlib\\tests\n",
      "      copying lib\\matplotlib\\tests\\test_units.py -> build\\lib.win-amd64-cpython-313\\matplotlib\\tests\n",
      "      copying lib\\matplotlib\\tests\\test_usetex.py -> build\\lib.win-amd64-cpython-313\\matplotlib\\tests\n",
      "      copying lib\\matplotlib\\tests\\test_widgets.py -> build\\lib.win-amd64-cpython-313\\matplotlib\\tests\n",
      "      copying lib\\matplotlib\\tests\\__init__.py -> build\\lib.win-amd64-cpython-313\\matplotlib\\tests\n",
      "      creating build\\lib.win-amd64-cpython-313\\matplotlib\\tri\n",
      "      copying lib\\matplotlib\\tri\\triangulation.py -> build\\lib.win-amd64-cpython-313\\matplotlib\\tri\n",
      "      copying lib\\matplotlib\\tri\\tricontour.py -> build\\lib.win-amd64-cpython-313\\matplotlib\\tri\n",
      "      copying lib\\matplotlib\\tri\\trifinder.py -> build\\lib.win-amd64-cpython-313\\matplotlib\\tri\n",
      "      copying lib\\matplotlib\\tri\\triinterpolate.py -> build\\lib.win-amd64-cpython-313\\matplotlib\\tri\n",
      "      copying lib\\matplotlib\\tri\\tripcolor.py -> build\\lib.win-amd64-cpython-313\\matplotlib\\tri\n",
      "      copying lib\\matplotlib\\tri\\triplot.py -> build\\lib.win-amd64-cpython-313\\matplotlib\\tri\n",
      "      copying lib\\matplotlib\\tri\\trirefine.py -> build\\lib.win-amd64-cpython-313\\matplotlib\\tri\n",
      "      copying lib\\matplotlib\\tri\\tritools.py -> build\\lib.win-amd64-cpython-313\\matplotlib\\tri\n",
      "      copying lib\\matplotlib\\tri\\__init__.py -> build\\lib.win-amd64-cpython-313\\matplotlib\\tri\n",
      "      creating build\\lib.win-amd64-cpython-313\\matplotlib\\_api\n",
      "      copying lib\\matplotlib\\_api\\deprecation.py -> build\\lib.win-amd64-cpython-313\\matplotlib\\_api\n",
      "      copying lib\\matplotlib\\_api\\__init__.py -> build\\lib.win-amd64-cpython-313\\matplotlib\\_api\n",
      "      creating build\\lib.win-amd64-cpython-313\\matplotlib\\backends\\qt_editor\n",
      "      copying lib\\matplotlib\\backends\\qt_editor\\figureoptions.py -> build\\lib.win-amd64-cpython-313\\matplotlib\\backends\\qt_editor\n",
      "      copying lib\\matplotlib\\backends\\qt_editor\\_formlayout.py -> build\\lib.win-amd64-cpython-313\\matplotlib\\backends\\qt_editor\n",
      "      copying lib\\matplotlib\\backends\\qt_editor\\__init__.py -> build\\lib.win-amd64-cpython-313\\matplotlib\\backends\\qt_editor\n",
      "      creating build\\lib.win-amd64-cpython-313\\matplotlib\\testing\\jpl_units\n",
      "      copying lib\\matplotlib\\testing\\jpl_units\\Duration.py -> build\\lib.win-amd64-cpython-313\\matplotlib\\testing\\jpl_units\n",
      "      copying lib\\matplotlib\\testing\\jpl_units\\Epoch.py -> build\\lib.win-amd64-cpython-313\\matplotlib\\testing\\jpl_units\n",
      "      copying lib\\matplotlib\\testing\\jpl_units\\EpochConverter.py -> build\\lib.win-amd64-cpython-313\\matplotlib\\testing\\jpl_units\n",
      "      copying lib\\matplotlib\\testing\\jpl_units\\StrConverter.py -> build\\lib.win-amd64-cpython-313\\matplotlib\\testing\\jpl_units\n",
      "      copying lib\\matplotlib\\testing\\jpl_units\\UnitDbl.py -> build\\lib.win-amd64-cpython-313\\matplotlib\\testing\\jpl_units\n",
      "      copying lib\\matplotlib\\testing\\jpl_units\\UnitDblConverter.py -> build\\lib.win-amd64-cpython-313\\matplotlib\\testing\\jpl_units\n",
      "      copying lib\\matplotlib\\testing\\jpl_units\\UnitDblFormatter.py -> build\\lib.win-amd64-cpython-313\\matplotlib\\testing\\jpl_units\n",
      "      copying lib\\matplotlib\\testing\\jpl_units\\__init__.py -> build\\lib.win-amd64-cpython-313\\matplotlib\\testing\\jpl_units\n",
      "      creating build\\lib.win-amd64-cpython-313\\mpl_toolkits\\axes_grid1\n",
      "      copying lib\\mpl_toolkits\\axes_grid1\\anchored_artists.py -> build\\lib.win-amd64-cpython-313\\mpl_toolkits\\axes_grid1\n",
      "      copying lib\\mpl_toolkits\\axes_grid1\\axes_divider.py -> build\\lib.win-amd64-cpython-313\\mpl_toolkits\\axes_grid1\n",
      "      copying lib\\mpl_toolkits\\axes_grid1\\axes_grid.py -> build\\lib.win-amd64-cpython-313\\mpl_toolkits\\axes_grid1\n",
      "      copying lib\\mpl_toolkits\\axes_grid1\\axes_rgb.py -> build\\lib.win-amd64-cpython-313\\mpl_toolkits\\axes_grid1\n",
      "      copying lib\\mpl_toolkits\\axes_grid1\\axes_size.py -> build\\lib.win-amd64-cpython-313\\mpl_toolkits\\axes_grid1\n",
      "      copying lib\\mpl_toolkits\\axes_grid1\\inset_locator.py -> build\\lib.win-amd64-cpython-313\\mpl_toolkits\\axes_grid1\n",
      "      copying lib\\mpl_toolkits\\axes_grid1\\mpl_axes.py -> build\\lib.win-amd64-cpython-313\\mpl_toolkits\\axes_grid1\n",
      "      copying lib\\mpl_toolkits\\axes_grid1\\parasite_axes.py -> build\\lib.win-amd64-cpython-313\\mpl_toolkits\\axes_grid1\n",
      "      copying lib\\mpl_toolkits\\axes_grid1\\__init__.py -> build\\lib.win-amd64-cpython-313\\mpl_toolkits\\axes_grid1\n",
      "      creating build\\lib.win-amd64-cpython-313\\mpl_toolkits\\axisartist\n",
      "      copying lib\\mpl_toolkits\\axisartist\\angle_helper.py -> build\\lib.win-amd64-cpython-313\\mpl_toolkits\\axisartist\n",
      "      copying lib\\mpl_toolkits\\axisartist\\axes_divider.py -> build\\lib.win-amd64-cpython-313\\mpl_toolkits\\axisartist\n",
      "      copying lib\\mpl_toolkits\\axisartist\\axes_grid.py -> build\\lib.win-amd64-cpython-313\\mpl_toolkits\\axisartist\n",
      "      copying lib\\mpl_toolkits\\axisartist\\axes_rgb.py -> build\\lib.win-amd64-cpython-313\\mpl_toolkits\\axisartist\n",
      "      copying lib\\mpl_toolkits\\axisartist\\axislines.py -> build\\lib.win-amd64-cpython-313\\mpl_toolkits\\axisartist\n",
      "      copying lib\\mpl_toolkits\\axisartist\\axisline_style.py -> build\\lib.win-amd64-cpython-313\\mpl_toolkits\\axisartist\n",
      "      copying lib\\mpl_toolkits\\axisartist\\axis_artist.py -> build\\lib.win-amd64-cpython-313\\mpl_toolkits\\axisartist\n",
      "      copying lib\\mpl_toolkits\\axisartist\\clip_path.py -> build\\lib.win-amd64-cpython-313\\mpl_toolkits\\axisartist\n",
      "      copying lib\\mpl_toolkits\\axisartist\\floating_axes.py -> build\\lib.win-amd64-cpython-313\\mpl_toolkits\\axisartist\n",
      "      copying lib\\mpl_toolkits\\axisartist\\grid_finder.py -> build\\lib.win-amd64-cpython-313\\mpl_toolkits\\axisartist\n",
      "      copying lib\\mpl_toolkits\\axisartist\\grid_helper_curvelinear.py -> build\\lib.win-amd64-cpython-313\\mpl_toolkits\\axisartist\n",
      "      copying lib\\mpl_toolkits\\axisartist\\parasite_axes.py -> build\\lib.win-amd64-cpython-313\\mpl_toolkits\\axisartist\n",
      "      copying lib\\mpl_toolkits\\axisartist\\__init__.py -> build\\lib.win-amd64-cpython-313\\mpl_toolkits\\axisartist\n",
      "      creating build\\lib.win-amd64-cpython-313\\mpl_toolkits\\mplot3d\n",
      "      copying lib\\mpl_toolkits\\mplot3d\\art3d.py -> build\\lib.win-amd64-cpython-313\\mpl_toolkits\\mplot3d\n",
      "      copying lib\\mpl_toolkits\\mplot3d\\axes3d.py -> build\\lib.win-amd64-cpython-313\\mpl_toolkits\\mplot3d\n",
      "      copying lib\\mpl_toolkits\\mplot3d\\axis3d.py -> build\\lib.win-amd64-cpython-313\\mpl_toolkits\\mplot3d\n",
      "      copying lib\\mpl_toolkits\\mplot3d\\proj3d.py -> build\\lib.win-amd64-cpython-313\\mpl_toolkits\\mplot3d\n",
      "      copying lib\\mpl_toolkits\\mplot3d\\__init__.py -> build\\lib.win-amd64-cpython-313\\mpl_toolkits\\mplot3d\n",
      "      creating build\\lib.win-amd64-cpython-313\\mpl_toolkits\\tests\n",
      "      copying lib\\mpl_toolkits\\tests\\conftest.py -> build\\lib.win-amd64-cpython-313\\mpl_toolkits\\tests\n",
      "      copying lib\\mpl_toolkits\\tests\\test_axes_grid.py -> build\\lib.win-amd64-cpython-313\\mpl_toolkits\\tests\n",
      "      copying lib\\mpl_toolkits\\tests\\test_axes_grid1.py -> build\\lib.win-amd64-cpython-313\\mpl_toolkits\\tests\n",
      "      copying lib\\mpl_toolkits\\tests\\test_axisartist_angle_helper.py -> build\\lib.win-amd64-cpython-313\\mpl_toolkits\\tests\n",
      "      copying lib\\mpl_toolkits\\tests\\test_axisartist_axislines.py -> build\\lib.win-amd64-cpython-313\\mpl_toolkits\\tests\n",
      "      copying lib\\mpl_toolkits\\tests\\test_axisartist_axis_artist.py -> build\\lib.win-amd64-cpython-313\\mpl_toolkits\\tests\n",
      "      copying lib\\mpl_toolkits\\tests\\test_axisartist_clip_path.py -> build\\lib.win-amd64-cpython-313\\mpl_toolkits\\tests\n",
      "      copying lib\\mpl_toolkits\\tests\\test_axisartist_floating_axes.py -> build\\lib.win-amd64-cpython-313\\mpl_toolkits\\tests\n",
      "      copying lib\\mpl_toolkits\\tests\\test_axisartist_grid_finder.py -> build\\lib.win-amd64-cpython-313\\mpl_toolkits\\tests\n",
      "      copying lib\\mpl_toolkits\\tests\\test_axisartist_grid_helper_curvelinear.py -> build\\lib.win-amd64-cpython-313\\mpl_toolkits\\tests\n",
      "      copying lib\\mpl_toolkits\\tests\\test_mplot3d.py -> build\\lib.win-amd64-cpython-313\\mpl_toolkits\\tests\n",
      "      copying lib\\mpl_toolkits\\tests\\__init__.py -> build\\lib.win-amd64-cpython-313\\mpl_toolkits\\tests\n",
      "      creating build\\lib.win-amd64-cpython-313\\matplotlib\\mpl-data\\fonts\\pdfcorefonts\n",
      "      copying lib\\matplotlib\\mpl-data\\fonts\\pdfcorefonts\\Helvetica-Bold.afm -> build\\lib.win-amd64-cpython-313\\matplotlib\\mpl-data\\fonts\\pdfcorefonts\n",
      "      creating build\\lib.win-amd64-cpython-313\\matplotlib\\mpl-data\\fonts\\afm\n",
      "      copying lib\\matplotlib\\mpl-data\\fonts\\afm\\pzdr.afm -> build\\lib.win-amd64-cpython-313\\matplotlib\\mpl-data\\fonts\\afm\n",
      "      copying lib\\matplotlib\\mpl-data\\fonts\\afm\\cmex10.afm -> build\\lib.win-amd64-cpython-313\\matplotlib\\mpl-data\\fonts\\afm\n",
      "      creating build\\lib.win-amd64-cpython-313\\matplotlib\\mpl-data\\fonts\\ttf\n",
      "      copying lib\\matplotlib\\mpl-data\\fonts\\ttf\\STIXSizFourSymBol.ttf -> build\\lib.win-amd64-cpython-313\\matplotlib\\mpl-data\\fonts\\ttf\n",
      "      copying lib\\matplotlib\\mpl-data\\fonts\\afm\\phvb8a.afm -> build\\lib.win-amd64-cpython-313\\matplotlib\\mpl-data\\fonts\\afm\n",
      "      copying lib\\matplotlib\\mpl-data\\fonts\\afm\\phvb8an.afm -> build\\lib.win-amd64-cpython-313\\matplotlib\\mpl-data\\fonts\\afm\n",
      "      creating build\\lib.win-amd64-cpython-313\\matplotlib\\mpl-data\\stylelib\n",
      "      copying lib\\matplotlib\\mpl-data\\stylelib\\seaborn-v0_8-darkgrid.mplstyle -> build\\lib.win-amd64-cpython-313\\matplotlib\\mpl-data\\stylelib\n",
      "      copying lib\\matplotlib\\mpl-data\\kpsewhich.lua -> build\\lib.win-amd64-cpython-313\\matplotlib\\mpl-data\n",
      "      copying lib\\matplotlib\\mpl-data\\fonts\\afm\\pncr8a.afm -> build\\lib.win-amd64-cpython-313\\matplotlib\\mpl-data\\fonts\\afm\n",
      "      creating build\\lib.win-amd64-cpython-313\\matplotlib\\mpl-data\\sample_data\n",
      "      copying lib\\matplotlib\\mpl-data\\sample_data\\membrane.dat -> build\\lib.win-amd64-cpython-313\\matplotlib\\mpl-data\\sample_data\n",
      "      creating build\\lib.win-amd64-cpython-313\\matplotlib\\mpl-data\\images\n",
      "      copying lib\\matplotlib\\mpl-data\\images\\forward-symbolic.svg -> build\\lib.win-amd64-cpython-313\\matplotlib\\mpl-data\\images\n",
      "      creating build\\lib.win-amd64-cpython-313\\matplotlib\\backends\\web_backend\\css\n",
      "      copying lib\\matplotlib\\backends\\web_backend\\css\\mpl.css -> build\\lib.win-amd64-cpython-313\\matplotlib\\backends\\web_backend\\css\n",
      "      copying lib\\matplotlib\\mpl-data\\fonts\\ttf\\DejaVuSansMono.ttf -> build\\lib.win-amd64-cpython-313\\matplotlib\\mpl-data\\fonts\\ttf\n",
      "      copying lib\\matplotlib\\mpl-data\\images\\qt4_editor_options.png -> build\\lib.win-amd64-cpython-313\\matplotlib\\mpl-data\\images\n",
      "      copying lib\\matplotlib\\mpl-data\\fonts\\afm\\pcrro8a.afm -> build\\lib.win-amd64-cpython-313\\matplotlib\\mpl-data\\fonts\\afm\n",
      "      copying lib\\matplotlib\\mpl-data\\images\\zoom_to_rect-symbolic.svg -> build\\lib.win-amd64-cpython-313\\matplotlib\\mpl-data\\images\n",
      "      copying lib\\matplotlib\\mpl-data\\stylelib\\seaborn-v0_8-muted.mplstyle -> build\\lib.win-amd64-cpython-313\\matplotlib\\mpl-data\\stylelib\n",
      "      copying lib\\matplotlib\\mpl-data\\fonts\\afm\\phvr8a.afm -> build\\lib.win-amd64-cpython-313\\matplotlib\\mpl-data\\fonts\\afm\n",
      "      copying lib\\matplotlib\\mpl-data\\fonts\\ttf\\DejaVuSerifDisplay.ttf -> build\\lib.win-amd64-cpython-313\\matplotlib\\mpl-data\\fonts\\ttf\n",
      "      copying lib\\matplotlib\\mpl-data\\sample_data\\data_x_x2_x3.csv -> build\\lib.win-amd64-cpython-313\\matplotlib\\mpl-data\\sample_data\n",
      "      copying lib\\matplotlib\\mpl-data\\stylelib\\seaborn-v0_8-dark.mplstyle -> build\\lib.win-amd64-cpython-313\\matplotlib\\mpl-data\\stylelib\n",
      "      copying lib\\matplotlib\\mpl-data\\fonts\\afm\\pagdo8a.afm -> build\\lib.win-amd64-cpython-313\\matplotlib\\mpl-data\\fonts\\afm\n",
      "      copying lib\\matplotlib\\mpl-data\\images\\move-symbolic.svg -> build\\lib.win-amd64-cpython-313\\matplotlib\\mpl-data\\images\n",
      "      copying lib\\matplotlib\\mpl-data\\fonts\\afm\\pncri8a.afm -> build\\lib.win-amd64-cpython-313\\matplotlib\\mpl-data\\fonts\\afm\n",
      "      copying lib\\matplotlib\\mpl-data\\fonts\\ttf\\DejaVuSans-BoldOblique.ttf -> build\\lib.win-amd64-cpython-313\\matplotlib\\mpl-data\\fonts\\ttf\n",
      "      copying lib\\matplotlib\\mpl-data\\stylelib\\seaborn-v0_8-deep.mplstyle -> build\\lib.win-amd64-cpython-313\\matplotlib\\mpl-data\\stylelib\n",
      "      copying lib\\matplotlib\\mpl-data\\images\\back.pdf -> build\\lib.win-amd64-cpython-313\\matplotlib\\mpl-data\\images\n",
      "      copying lib\\matplotlib\\mpl-data\\fonts\\ttf\\cmsy10.ttf -> build\\lib.win-amd64-cpython-313\\matplotlib\\mpl-data\\fonts\\ttf\n",
      "      copying lib\\matplotlib\\mpl-data\\stylelib\\seaborn-v0_8-notebook.mplstyle -> build\\lib.win-amd64-cpython-313\\matplotlib\\mpl-data\\stylelib\n",
      "      copying lib\\matplotlib\\mpl-data\\fonts\\ttf\\STIXNonUniBolIta.ttf -> build\\lib.win-amd64-cpython-313\\matplotlib\\mpl-data\\fonts\\ttf\n",
      "      copying lib\\matplotlib\\mpl-data\\fonts\\pdfcorefonts\\Times-Bold.afm -> build\\lib.win-amd64-cpython-313\\matplotlib\\mpl-data\\fonts\\pdfcorefonts\n",
      "      copying lib\\matplotlib\\mpl-data\\fonts\\afm\\pbkli8a.afm -> build\\lib.win-amd64-cpython-313\\matplotlib\\mpl-data\\fonts\\afm\n",
      "      creating build\\lib.win-amd64-cpython-313\\matplotlib\\mpl-data\\plot_directive\n",
      "      copying lib\\matplotlib\\mpl-data\\plot_directive\\plot_directive.css -> build\\lib.win-amd64-cpython-313\\matplotlib\\mpl-data\\plot_directive\n",
      "      copying lib\\matplotlib\\mpl-data\\sample_data\\Stocks.csv -> build\\lib.win-amd64-cpython-313\\matplotlib\\mpl-data\\sample_data\n",
      "      copying lib\\matplotlib\\mpl-data\\images\\home.png -> build\\lib.win-amd64-cpython-313\\matplotlib\\mpl-data\\images\n",
      "      copying lib\\matplotlib\\mpl-data\\images\\qt4_editor_options.svg -> build\\lib.win-amd64-cpython-313\\matplotlib\\mpl-data\\images\n",
      "      copying lib\\matplotlib\\mpl-data\\images\\help.svg -> build\\lib.win-amd64-cpython-313\\matplotlib\\mpl-data\\images\n",
      "      copying lib\\matplotlib\\mpl-data\\images\\qt4_editor_options_large.png -> build\\lib.win-amd64-cpython-313\\matplotlib\\mpl-data\\images\n",
      "      copying lib\\matplotlib\\mpl-data\\fonts\\ttf\\cmb10.ttf -> build\\lib.win-amd64-cpython-313\\matplotlib\\mpl-data\\fonts\\ttf\n",
      "      copying lib\\matplotlib\\mpl-data\\fonts\\afm\\cmmi10.afm -> build\\lib.win-amd64-cpython-313\\matplotlib\\mpl-data\\fonts\\afm\n",
      "      copying lib\\matplotlib\\mpl-data\\fonts\\pdfcorefonts\\Courier-Bold.afm -> build\\lib.win-amd64-cpython-313\\matplotlib\\mpl-data\\fonts\\pdfcorefonts\n",
      "      copying lib\\matplotlib\\mpl-data\\fonts\\afm\\phvbo8a.afm -> build\\lib.win-amd64-cpython-313\\matplotlib\\mpl-data\\fonts\\afm\n",
      "      copying lib\\matplotlib\\mpl-data\\fonts\\afm\\pplri8a.afm -> build\\lib.win-amd64-cpython-313\\matplotlib\\mpl-data\\fonts\\afm\n",
      "      copying lib\\matplotlib\\mpl-data\\stylelib\\seaborn-v0_8-dark-palette.mplstyle -> build\\lib.win-amd64-cpython-313\\matplotlib\\mpl-data\\stylelib\n",
      "      copying lib\\matplotlib\\mpl-data\\fonts\\ttf\\DejaVuSerif-Bold.ttf -> build\\lib.win-amd64-cpython-313\\matplotlib\\mpl-data\\fonts\\ttf\n",
      "      copying lib\\matplotlib\\mpl-data\\images\\move.svg -> build\\lib.win-amd64-cpython-313\\matplotlib\\mpl-data\\images\n",
      "      copying lib\\matplotlib\\mpl-data\\fonts\\ttf\\STIXSizTwoSymReg.ttf -> build\\lib.win-amd64-cpython-313\\matplotlib\\mpl-data\\fonts\\ttf\n",
      "      copying lib\\matplotlib\\mpl-data\\images\\matplotlib_large.png -> build\\lib.win-amd64-cpython-313\\matplotlib\\mpl-data\\images\n",
      "      copying lib\\matplotlib\\backends\\web_backend\\single_figure.html -> build\\lib.win-amd64-cpython-313\\matplotlib\\backends\\web_backend\n",
      "      copying lib\\matplotlib\\mpl-data\\fonts\\afm\\psyr.afm -> build\\lib.win-amd64-cpython-313\\matplotlib\\mpl-data\\fonts\\afm\n",
      "      copying lib\\matplotlib\\mpl-data\\fonts\\afm\\cmsy10.afm -> build\\lib.win-amd64-cpython-313\\matplotlib\\mpl-data\\fonts\\afm\n",
      "      copying lib\\matplotlib\\mpl-data\\fonts\\afm\\pcrb8a.afm -> build\\lib.win-amd64-cpython-313\\matplotlib\\mpl-data\\fonts\\afm\n",
      "      copying lib\\matplotlib\\mpl-data\\fonts\\afm\\phvro8an.afm -> build\\lib.win-amd64-cpython-313\\matplotlib\\mpl-data\\fonts\\afm\n",
      "      copying lib\\matplotlib\\mpl-data\\fonts\\ttf\\STIXNonUniIta.ttf -> build\\lib.win-amd64-cpython-313\\matplotlib\\mpl-data\\fonts\\ttf\n",
      "      copying lib\\matplotlib\\mpl-data\\images\\filesave.pdf -> build\\lib.win-amd64-cpython-313\\matplotlib\\mpl-data\\images\n",
      "      copying lib\\matplotlib\\mpl-data\\images\\forward_large.png -> build\\lib.win-amd64-cpython-313\\matplotlib\\mpl-data\\images\n",
      "      copying lib\\matplotlib\\mpl-data\\images\\forward.png -> build\\lib.win-amd64-cpython-313\\matplotlib\\mpl-data\\images\n",
      "      copying lib\\matplotlib\\mpl-data\\fonts\\pdfcorefonts\\Helvetica.afm -> build\\lib.win-amd64-cpython-313\\matplotlib\\mpl-data\\fonts\\pdfcorefonts\n",
      "      copying lib\\matplotlib\\mpl-data\\images\\forward.svg -> build\\lib.win-amd64-cpython-313\\matplotlib\\mpl-data\\images\n",
      "      copying lib\\matplotlib\\mpl-data\\fonts\\afm\\pcrbo8a.afm -> build\\lib.win-amd64-cpython-313\\matplotlib\\mpl-data\\fonts\\afm\n",
      "      copying lib\\matplotlib\\mpl-data\\images\\matplotlib.svg -> build\\lib.win-amd64-cpython-313\\matplotlib\\mpl-data\\images\n",
      "      copying lib\\matplotlib\\mpl-data\\fonts\\afm\\pncbi8a.afm -> build\\lib.win-amd64-cpython-313\\matplotlib\\mpl-data\\fonts\\afm\n",
      "      copying lib\\matplotlib\\mpl-data\\fonts\\ttf\\cmex10.ttf -> build\\lib.win-amd64-cpython-313\\matplotlib\\mpl-data\\fonts\\ttf\n",
      "      copying lib\\matplotlib\\mpl-data\\images\\help.png -> build\\lib.win-amd64-cpython-313\\matplotlib\\mpl-data\\images\n",
      "      copying lib\\matplotlib\\mpl-data\\sample_data\\goog.npz -> build\\lib.win-amd64-cpython-313\\matplotlib\\mpl-data\\sample_data\n",
      "      copying lib\\matplotlib\\mpl-data\\fonts\\afm\\pbkdi8a.afm -> build\\lib.win-amd64-cpython-313\\matplotlib\\mpl-data\\fonts\\afm\n",
      "      copying lib\\matplotlib\\mpl-data\\images\\back-symbolic.svg -> build\\lib.win-amd64-cpython-313\\matplotlib\\mpl-data\\images\n",
      "      copying lib\\matplotlib\\mpl-data\\fonts\\afm\\putri8a.afm -> build\\lib.win-amd64-cpython-313\\matplotlib\\mpl-data\\fonts\\afm\n",
      "      copying lib\\matplotlib\\backends\\web_backend\\.eslintrc.js -> build\\lib.win-amd64-cpython-313\\matplotlib\\backends\\web_backend\n",
      "      copying lib\\matplotlib\\mpl-data\\fonts\\ttf\\STIXNonUniBol.ttf -> build\\lib.win-amd64-cpython-313\\matplotlib\\mpl-data\\fonts\\ttf\n",
      "      copying lib\\matplotlib\\mpl-data\\images\\matplotlib.png -> build\\lib.win-amd64-cpython-313\\matplotlib\\mpl-data\\images\n",
      "      copying lib\\matplotlib\\mpl-data\\sample_data\\percent_bachelors_degrees_women_usa.csv -> build\\lib.win-amd64-cpython-313\\matplotlib\\mpl-data\\sample_data\n",
      "      copying lib\\matplotlib\\mpl-data\\stylelib\\_classic_test_patch.mplstyle -> build\\lib.win-amd64-cpython-313\\matplotlib\\mpl-data\\stylelib\n",
      "      copying lib\\matplotlib\\backends\\web_backend\\package.json -> build\\lib.win-amd64-cpython-313\\matplotlib\\backends\\web_backend\n",
      "      copying lib\\matplotlib\\mpl-data\\sample_data\\eeg.dat -> build\\lib.win-amd64-cpython-313\\matplotlib\\mpl-data\\sample_data\n",
      "      copying lib\\matplotlib\\mpl-data\\images\\zoom_to_rect.png -> build\\lib.win-amd64-cpython-313\\matplotlib\\mpl-data\\images\n",
      "      copying lib\\matplotlib\\mpl-data\\images\\subplots.pdf -> build\\lib.win-amd64-cpython-313\\matplotlib\\mpl-data\\images\n",
      "      copying lib\\matplotlib\\mpl-data\\stylelib\\fast.mplstyle -> build\\lib.win-amd64-cpython-313\\matplotlib\\mpl-data\\stylelib\n",
      "      copying lib\\matplotlib\\mpl-data\\stylelib\\bmh.mplstyle -> build\\lib.win-amd64-cpython-313\\matplotlib\\mpl-data\\stylelib\n",
      "      copying lib\\matplotlib\\mpl-data\\fonts\\ttf\\cmr10.ttf -> build\\lib.win-amd64-cpython-313\\matplotlib\\mpl-data\\fonts\\ttf\n",
      "      copying lib\\matplotlib\\mpl-data\\sample_data\\embedding_in_wx3.xrc -> build\\lib.win-amd64-cpython-313\\matplotlib\\mpl-data\\sample_data\n",
      "      copying lib\\matplotlib\\mpl-data\\images\\zoom_to_rect.svg -> build\\lib.win-amd64-cpython-313\\matplotlib\\mpl-data\\images\n",
      "      copying lib\\matplotlib\\mpl-data\\images\\subplots.svg -> build\\lib.win-amd64-cpython-313\\matplotlib\\mpl-data\\images\n",
      "      copying lib\\matplotlib\\mpl-data\\sample_data\\Minduka_Present_Blue_Pack.png -> build\\lib.win-amd64-cpython-313\\matplotlib\\mpl-data\\sample_data\n",
      "      copying lib\\matplotlib\\mpl-data\\fonts\\ttf\\STIXGeneralItalic.ttf -> build\\lib.win-amd64-cpython-313\\matplotlib\\mpl-data\\fonts\\ttf\n",
      "      copying lib\\matplotlib\\mpl-data\\fonts\\ttf\\STIXSizOneSymReg.ttf -> build\\lib.win-amd64-cpython-313\\matplotlib\\mpl-data\\fonts\\ttf\n",
      "      copying lib\\matplotlib\\mpl-data\\fonts\\afm\\phvl8a.afm -> build\\lib.win-amd64-cpython-313\\matplotlib\\mpl-data\\fonts\\afm\n",
      "      copying lib\\matplotlib\\backends\\web_backend\\.prettierrc -> build\\lib.win-amd64-cpython-313\\matplotlib\\backends\\web_backend\n",
      "      copying lib\\matplotlib\\mpl-data\\fonts\\afm\\putr8a.afm -> build\\lib.win-amd64-cpython-313\\matplotlib\\mpl-data\\fonts\\afm\n",
      "      creating build\\lib.win-amd64-cpython-313\\matplotlib\\backends\\web_backend\\js\n",
      "      copying lib\\matplotlib\\backends\\web_backend\\js\\nbagg_mpl.js -> build\\lib.win-amd64-cpython-313\\matplotlib\\backends\\web_backend\\js\n",
      "      copying lib\\matplotlib\\mpl-data\\fonts\\pdfcorefonts\\Courier-Oblique.afm -> build\\lib.win-amd64-cpython-313\\matplotlib\\mpl-data\\fonts\\pdfcorefonts\n",
      "      copying lib\\matplotlib\\mpl-data\\fonts\\pdfcorefonts\\Times-BoldItalic.afm -> build\\lib.win-amd64-cpython-313\\matplotlib\\mpl-data\\fonts\\pdfcorefonts\n",
      "      copying lib\\matplotlib\\mpl-data\\fonts\\afm\\cmtt10.afm -> build\\lib.win-amd64-cpython-313\\matplotlib\\mpl-data\\fonts\\afm\n",
      "      copying lib\\matplotlib\\mpl-data\\fonts\\ttf\\DejaVuSansMono-Oblique.ttf -> build\\lib.win-amd64-cpython-313\\matplotlib\\mpl-data\\fonts\\ttf\n",
      "      copying lib\\matplotlib\\mpl-data\\fonts\\ttf\\DejaVuSerif-BoldItalic.ttf -> build\\lib.win-amd64-cpython-313\\matplotlib\\mpl-data\\fonts\\ttf\n",
      "      copying lib\\matplotlib\\backends\\web_backend\\nbagg_uat.ipynb -> build\\lib.win-amd64-cpython-313\\matplotlib\\backends\\web_backend\n",
      "      copying lib\\matplotlib\\mpl-data\\stylelib\\dark_background.mplstyle -> build\\lib.win-amd64-cpython-313\\matplotlib\\mpl-data\\stylelib\n",
      "      copying lib\\matplotlib\\mpl-data\\fonts\\afm\\pcrr8a.afm -> build\\lib.win-amd64-cpython-313\\matplotlib\\mpl-data\\fonts\\afm\n",
      "      copying lib\\matplotlib\\mpl-data\\sample_data\\topobathy.npz -> build\\lib.win-amd64-cpython-313\\matplotlib\\mpl-data\\sample_data\n",
      "      copying lib\\matplotlib\\mpl-data\\fonts\\ttf\\STIXSizThreeSymBol.ttf -> build\\lib.win-amd64-cpython-313\\matplotlib\\mpl-data\\fonts\\ttf\n",
      "      copying lib\\matplotlib\\mpl-data\\fonts\\pdfcorefonts\\Times-Roman.afm -> build\\lib.win-amd64-cpython-313\\matplotlib\\mpl-data\\fonts\\pdfcorefonts\n",
      "      copying lib\\matplotlib\\mpl-data\\sample_data\\msft.csv -> build\\lib.win-amd64-cpython-313\\matplotlib\\mpl-data\\sample_data\n",
      "      copying lib\\matplotlib\\mpl-data\\fonts\\afm\\pncb8a.afm -> build\\lib.win-amd64-cpython-313\\matplotlib\\mpl-data\\fonts\\afm\n",
      "      copying lib\\matplotlib\\mpl-data\\fonts\\afm\\pplr8a.afm -> build\\lib.win-amd64-cpython-313\\matplotlib\\mpl-data\\fonts\\afm\n",
      "      copying lib\\matplotlib\\mpl-data\\fonts\\pdfcorefonts\\Times-Italic.afm -> build\\lib.win-amd64-cpython-313\\matplotlib\\mpl-data\\fonts\\pdfcorefonts\n",
      "      copying lib\\matplotlib\\mpl-data\\fonts\\ttf\\cmss10.ttf -> build\\lib.win-amd64-cpython-313\\matplotlib\\mpl-data\\fonts\\ttf\n",
      "      copying lib\\matplotlib\\mpl-data\\fonts\\ttf\\DejaVuSans.ttf -> build\\lib.win-amd64-cpython-313\\matplotlib\\mpl-data\\fonts\\ttf\n",
      "      copying lib\\matplotlib\\mpl-data\\images\\help-symbolic.svg -> build\\lib.win-amd64-cpython-313\\matplotlib\\mpl-data\\images\n",
      "      copying lib\\matplotlib\\mpl-data\\fonts\\ttf\\DejaVuSerif-Italic.ttf -> build\\lib.win-amd64-cpython-313\\matplotlib\\mpl-data\\fonts\\ttf\n",
      "      copying lib\\matplotlib\\mpl-data\\sample_data\\grace_hopper.jpg -> build\\lib.win-amd64-cpython-313\\matplotlib\\mpl-data\\sample_data\n",
      "      copying lib\\matplotlib\\mpl-data\\sample_data\\s1045.ima.gz -> build\\lib.win-amd64-cpython-313\\matplotlib\\mpl-data\\sample_data\n",
      "      copying lib\\matplotlib\\mpl-data\\fonts\\ttf\\STIXSizFourSymReg.ttf -> build\\lib.win-amd64-cpython-313\\matplotlib\\mpl-data\\fonts\\ttf\n",
      "      copying lib\\matplotlib\\mpl-data\\fonts\\afm\\putbi8a.afm -> build\\lib.win-amd64-cpython-313\\matplotlib\\mpl-data\\fonts\\afm\n",
      "      copying lib\\matplotlib\\backends\\web_backend\\css\\fbm.css -> build\\lib.win-amd64-cpython-313\\matplotlib\\backends\\web_backend\\css\n",
      "      copying lib\\matplotlib\\backends\\web_backend\\.prettierignore -> build\\lib.win-amd64-cpython-313\\matplotlib\\backends\\web_backend\n",
      "      copying lib\\matplotlib\\mpl-data\\fonts\\pdfcorefonts\\Helvetica-BoldOblique.afm -> build\\lib.win-amd64-cpython-313\\matplotlib\\mpl-data\\fonts\\pdfcorefonts\n",
      "      copying lib\\matplotlib\\mpl-data\\images\\move.png -> build\\lib.win-amd64-cpython-313\\matplotlib\\mpl-data\\images\n",
      "      copying lib\\matplotlib\\mpl-data\\fonts\\afm\\phvbo8an.afm -> build\\lib.win-amd64-cpython-313\\matplotlib\\mpl-data\\fonts\\afm\n",
      "      copying lib\\matplotlib\\mpl-data\\stylelib\\tableau-colorblind10.mplstyle -> build\\lib.win-amd64-cpython-313\\matplotlib\\mpl-data\\stylelib\n",
      "      copying lib\\matplotlib\\mpl-data\\stylelib\\seaborn-v0_8-pastel.mplstyle -> build\\lib.win-amd64-cpython-313\\matplotlib\\mpl-data\\stylelib\n",
      "      copying lib\\matplotlib\\mpl-data\\fonts\\afm\\phvro8a.afm -> build\\lib.win-amd64-cpython-313\\matplotlib\\mpl-data\\fonts\\afm\n",
      "      copying lib\\matplotlib\\mpl-data\\images\\back.png -> build\\lib.win-amd64-cpython-313\\matplotlib\\mpl-data\\images\n",
      "      copying lib\\matplotlib\\mpl-data\\images\\subplots.png -> build\\lib.win-amd64-cpython-313\\matplotlib\\mpl-data\\images\n",
      "      creating build\\lib.win-amd64-cpython-313\\matplotlib\\mpl-data\\sample_data\\axes_grid\n",
      "      copying lib\\matplotlib\\mpl-data\\sample_data\\axes_grid\\bivariate_normal.npy -> build\\lib.win-amd64-cpython-313\\matplotlib\\mpl-data\\sample_data\\axes_grid\n",
      "      copying lib\\matplotlib\\mpl-data\\fonts\\afm\\pplbi8a.afm -> build\\lib.win-amd64-cpython-313\\matplotlib\\mpl-data\\fonts\\afm\n",
      "      copying lib\\matplotlib\\mpl-data\\images\\home-symbolic.svg -> build\\lib.win-amd64-cpython-313\\matplotlib\\mpl-data\\images\n",
      "      copying lib\\matplotlib\\mpl-data\\fonts\\afm\\ptmb8a.afm -> build\\lib.win-amd64-cpython-313\\matplotlib\\mpl-data\\fonts\\afm\n",
      "      copying lib\\matplotlib\\mpl-data\\stylelib\\seaborn-v0_8-paper.mplstyle -> build\\lib.win-amd64-cpython-313\\matplotlib\\mpl-data\\stylelib\n",
      "      copying lib\\matplotlib\\mpl-data\\stylelib\\seaborn-v0_8.mplstyle -> build\\lib.win-amd64-cpython-313\\matplotlib\\mpl-data\\stylelib\n",
      "      copying lib\\matplotlib\\mpl-data\\images\\hand.svg -> build\\lib.win-amd64-cpython-313\\matplotlib\\mpl-data\\images\n",
      "      copying lib\\matplotlib\\mpl-data\\stylelib\\classic.mplstyle -> build\\lib.win-amd64-cpython-313\\matplotlib\\mpl-data\\stylelib\n",
      "      copying lib\\matplotlib\\backends\\web_backend\\ipython_inline_figure.html -> build\\lib.win-amd64-cpython-313\\matplotlib\\backends\\web_backend\n",
      "      copying lib\\matplotlib\\backends\\web_backend\\js\\mpl.js -> build\\lib.win-amd64-cpython-313\\matplotlib\\backends\\web_backend\\js\n",
      "      copying lib\\matplotlib\\mpl-data\\fonts\\afm\\putb8a.afm -> build\\lib.win-amd64-cpython-313\\matplotlib\\mpl-data\\fonts\\afm\n",
      "      copying lib\\matplotlib\\mpl-data\\fonts\\afm\\pbkl8a.afm -> build\\lib.win-amd64-cpython-313\\matplotlib\\mpl-data\\fonts\\afm\n",
      "      copying lib\\matplotlib\\backends\\web_backend\\css\\page.css -> build\\lib.win-amd64-cpython-313\\matplotlib\\backends\\web_backend\\css\n",
      "      copying lib\\matplotlib\\mpl-data\\fonts\\pdfcorefonts\\Helvetica-Oblique.afm -> build\\lib.win-amd64-cpython-313\\matplotlib\\mpl-data\\fonts\\pdfcorefonts\n",
      "      copying lib\\matplotlib\\mpl-data\\fonts\\afm\\pbkd8a.afm -> build\\lib.win-amd64-cpython-313\\matplotlib\\mpl-data\\fonts\\afm\n",
      "      copying lib\\matplotlib\\mpl-data\\fonts\\pdfcorefonts\\Courier-BoldOblique.afm -> build\\lib.win-amd64-cpython-313\\matplotlib\\mpl-data\\fonts\\pdfcorefonts\n",
      "      copying lib\\matplotlib\\mpl-data\\fonts\\afm\\cmr10.afm -> build\\lib.win-amd64-cpython-313\\matplotlib\\mpl-data\\fonts\\afm\n",
      "      copying lib\\matplotlib\\mpl-data\\stylelib\\seaborn-v0_8-poster.mplstyle -> build\\lib.win-amd64-cpython-313\\matplotlib\\mpl-data\\stylelib\n",
      "      copying lib\\matplotlib\\mpl-data\\fonts\\pdfcorefonts\\readme.txt -> build\\lib.win-amd64-cpython-313\\matplotlib\\mpl-data\\fonts\\pdfcorefonts\n",
      "      copying lib\\matplotlib\\mpl-data\\images\\forward.pdf -> build\\lib.win-amd64-cpython-313\\matplotlib\\mpl-data\\images\n",
      "      copying lib\\matplotlib\\mpl-data\\images\\filesave_large.png -> build\\lib.win-amd64-cpython-313\\matplotlib\\mpl-data\\images\n",
      "      copying lib\\matplotlib\\mpl-data\\stylelib\\seaborn-v0_8-ticks.mplstyle -> build\\lib.win-amd64-cpython-313\\matplotlib\\mpl-data\\stylelib\n",
      "      copying lib\\matplotlib\\mpl-data\\images\\back_large.png -> build\\lib.win-amd64-cpython-313\\matplotlib\\mpl-data\\images\n",
      "      copying lib\\matplotlib\\mpl-data\\images\\help.pdf -> build\\lib.win-amd64-cpython-313\\matplotlib\\mpl-data\\images\n",
      "      copying lib\\matplotlib\\mpl-data\\images\\help_large.png -> build\\lib.win-amd64-cpython-313\\matplotlib\\mpl-data\\images\n",
      "      copying lib\\matplotlib\\mpl-data\\images\\home.svg -> build\\lib.win-amd64-cpython-313\\matplotlib\\mpl-data\\images\n",
      "      copying lib\\matplotlib\\mpl-data\\fonts\\pdfcorefonts\\ZapfDingbats.afm -> build\\lib.win-amd64-cpython-313\\matplotlib\\mpl-data\\fonts\\pdfcorefonts\n",
      "      copying lib\\matplotlib\\mpl-data\\fonts\\afm\\ptmri8a.afm -> build\\lib.win-amd64-cpython-313\\matplotlib\\mpl-data\\fonts\\afm\n",
      "      copying lib\\matplotlib\\mpl-data\\images\\home.pdf -> build\\lib.win-amd64-cpython-313\\matplotlib\\mpl-data\\images\n",
      "      copying lib\\matplotlib\\mpl-data\\stylelib\\ggplot.mplstyle -> build\\lib.win-amd64-cpython-313\\matplotlib\\mpl-data\\stylelib\n",
      "      copying lib\\matplotlib\\mpl-data\\fonts\\ttf\\cmtt10.ttf -> build\\lib.win-amd64-cpython-313\\matplotlib\\mpl-data\\fonts\\ttf\n",
      "      copying lib\\matplotlib\\mpl-data\\fonts\\ttf\\DejaVuSansDisplay.ttf -> build\\lib.win-amd64-cpython-313\\matplotlib\\mpl-data\\fonts\\ttf\n",
      "      copying lib\\matplotlib\\mpl-data\\stylelib\\seaborn-v0_8-whitegrid.mplstyle -> build\\lib.win-amd64-cpython-313\\matplotlib\\mpl-data\\stylelib\n",
      "      copying lib\\matplotlib\\backends\\web_backend\\all_figures.html -> build\\lib.win-amd64-cpython-313\\matplotlib\\backends\\web_backend\n",
      "      copying lib\\matplotlib\\mpl-data\\fonts\\ttf\\STIXGeneral.ttf -> build\\lib.win-amd64-cpython-313\\matplotlib\\mpl-data\\fonts\\ttf\n",
      "      copying lib\\matplotlib\\mpl-data\\stylelib\\_mpl-gallery-nogrid.mplstyle -> build\\lib.win-amd64-cpython-313\\matplotlib\\mpl-data\\stylelib\n",
      "      copying lib\\matplotlib\\mpl-data\\fonts\\ttf\\STIXGeneralBolIta.ttf -> build\\lib.win-amd64-cpython-313\\matplotlib\\mpl-data\\fonts\\ttf\n",
      "      copying lib\\matplotlib\\mpl-data\\sample_data\\README.txt -> build\\lib.win-amd64-cpython-313\\matplotlib\\mpl-data\\sample_data\n",
      "      copying lib\\matplotlib\\mpl-data\\images\\filesave-symbolic.svg -> build\\lib.win-amd64-cpython-313\\matplotlib\\mpl-data\\images\n",
      "      copying lib\\matplotlib\\mpl-data\\fonts\\ttf\\DejaVuSansMono-BoldOblique.ttf -> build\\lib.win-amd64-cpython-313\\matplotlib\\mpl-data\\fonts\\ttf\n",
      "      copying lib\\matplotlib\\mpl-data\\images\\move.pdf -> build\\lib.win-amd64-cpython-313\\matplotlib\\mpl-data\\images\n",
      "      copying lib\\matplotlib\\mpl-data\\stylelib\\_mpl-gallery.mplstyle -> build\\lib.win-amd64-cpython-313\\matplotlib\\mpl-data\\stylelib\n",
      "      copying lib\\matplotlib\\mpl-data\\fonts\\ttf\\LICENSE_DEJAVU -> build\\lib.win-amd64-cpython-313\\matplotlib\\mpl-data\\fonts\\ttf\n",
      "      copying lib\\matplotlib\\mpl-data\\fonts\\ttf\\DejaVuSansMono-Bold.ttf -> build\\lib.win-amd64-cpython-313\\matplotlib\\mpl-data\\fonts\\ttf\n",
      "      copying lib\\matplotlib\\mpl-data\\fonts\\ttf\\STIXSizThreeSymReg.ttf -> build\\lib.win-amd64-cpython-313\\matplotlib\\mpl-data\\fonts\\ttf\n",
      "      copying lib\\matplotlib\\mpl-data\\images\\hand.pdf -> build\\lib.win-amd64-cpython-313\\matplotlib\\mpl-data\\images\n",
      "      copying lib\\matplotlib\\mpl-data\\fonts\\afm\\phvr8an.afm -> build\\lib.win-amd64-cpython-313\\matplotlib\\mpl-data\\fonts\\afm\n",
      "      copying lib\\matplotlib\\backends\\web_backend\\css\\boilerplate.css -> build\\lib.win-amd64-cpython-313\\matplotlib\\backends\\web_backend\\css\n",
      "      copying lib\\matplotlib\\mpl-data\\fonts\\afm\\pzcmi8a.afm -> build\\lib.win-amd64-cpython-313\\matplotlib\\mpl-data\\fonts\\afm\n",
      "      copying lib\\matplotlib\\mpl-data\\fonts\\ttf\\STIXSizTwoSymBol.ttf -> build\\lib.win-amd64-cpython-313\\matplotlib\\mpl-data\\fonts\\ttf\n",
      "      copying lib\\matplotlib\\mpl-data\\images\\zoom_to_rect.pdf -> build\\lib.win-amd64-cpython-313\\matplotlib\\mpl-data\\images\n",
      "      copying lib\\matplotlib\\mpl-data\\images\\move_large.png -> build\\lib.win-amd64-cpython-313\\matplotlib\\mpl-data\\images\n",
      "      copying lib\\matplotlib\\mpl-data\\sample_data\\logo2.png -> build\\lib.win-amd64-cpython-313\\matplotlib\\mpl-data\\sample_data\n",
      "      copying lib\\matplotlib\\mpl-data\\stylelib\\grayscale.mplstyle -> build\\lib.win-amd64-cpython-313\\matplotlib\\mpl-data\\stylelib\n",
      "      copying lib\\matplotlib\\mpl-data\\images\\qt4_editor_options.pdf -> build\\lib.win-amd64-cpython-313\\matplotlib\\mpl-data\\images\n",
      "      copying lib\\matplotlib\\mpl-data\\fonts\\ttf\\DejaVuSans-Bold.ttf -> build\\lib.win-amd64-cpython-313\\matplotlib\\mpl-data\\fonts\\ttf\n",
      "      copying lib\\matplotlib\\mpl-data\\fonts\\ttf\\DejaVuSerif.ttf -> build\\lib.win-amd64-cpython-313\\matplotlib\\mpl-data\\fonts\\ttf\n",
      "      copying lib\\matplotlib\\mpl-data\\fonts\\afm\\pagk8a.afm -> build\\lib.win-amd64-cpython-313\\matplotlib\\mpl-data\\fonts\\afm\n",
      "      copying lib\\matplotlib\\mpl-data\\images\\filesave.svg -> build\\lib.win-amd64-cpython-313\\matplotlib\\mpl-data\\images\n",
      "      copying lib\\matplotlib\\mpl-data\\fonts\\ttf\\STIXGeneralBol.ttf -> build\\lib.win-amd64-cpython-313\\matplotlib\\mpl-data\\fonts\\ttf\n",
      "      copying lib\\matplotlib\\mpl-data\\stylelib\\seaborn-v0_8-talk.mplstyle -> build\\lib.win-amd64-cpython-313\\matplotlib\\mpl-data\\stylelib\n",
      "      copying lib\\matplotlib\\mpl-data\\fonts\\afm\\ptmr8a.afm -> build\\lib.win-amd64-cpython-313\\matplotlib\\mpl-data\\fonts\\afm\n",
      "      copying lib\\matplotlib\\mpl-data\\images\\subplots_large.png -> build\\lib.win-amd64-cpython-313\\matplotlib\\mpl-data\\images\n",
      "      copying lib\\matplotlib\\mpl-data\\images\\hand.png -> build\\lib.win-amd64-cpython-313\\matplotlib\\mpl-data\\images\n",
      "      copying lib\\matplotlib\\mpl-data\\images\\matplotlib.pdf -> build\\lib.win-amd64-cpython-313\\matplotlib\\mpl-data\\images\n",
      "      copying lib\\matplotlib\\mpl-data\\images\\zoom_to_rect_large.png -> build\\lib.win-amd64-cpython-313\\matplotlib\\mpl-data\\images\n",
      "      copying lib\\matplotlib\\mpl-data\\fonts\\afm\\pagko8a.afm -> build\\lib.win-amd64-cpython-313\\matplotlib\\mpl-data\\fonts\\afm\n",
      "      copying lib\\matplotlib\\mpl-data\\fonts\\afm\\pplb8a.afm -> build\\lib.win-amd64-cpython-313\\matplotlib\\mpl-data\\fonts\\afm\n",
      "      copying lib\\matplotlib\\mpl-data\\stylelib\\seaborn-v0_8-bright.mplstyle -> build\\lib.win-amd64-cpython-313\\matplotlib\\mpl-data\\stylelib\n",
      "      copying lib\\matplotlib\\mpl-data\\fonts\\afm\\ptmbi8a.afm -> build\\lib.win-amd64-cpython-313\\matplotlib\\mpl-data\\fonts\\afm\n",
      "      copying lib\\matplotlib\\mpl-data\\fonts\\pdfcorefonts\\Symbol.afm -> build\\lib.win-amd64-cpython-313\\matplotlib\\mpl-data\\fonts\\pdfcorefonts\n",
      "      copying lib\\matplotlib\\mpl-data\\fonts\\ttf\\DejaVuSans-Oblique.ttf -> build\\lib.win-amd64-cpython-313\\matplotlib\\mpl-data\\fonts\\ttf\n",
      "      copying lib\\matplotlib\\mpl-data\\fonts\\ttf\\LICENSE_STIX -> build\\lib.win-amd64-cpython-313\\matplotlib\\mpl-data\\fonts\\ttf\n",
      "      copying lib\\matplotlib\\mpl-data\\stylelib\\seaborn-v0_8-white.mplstyle -> build\\lib.win-amd64-cpython-313\\matplotlib\\mpl-data\\stylelib\n",
      "      copying lib\\matplotlib\\mpl-data\\fonts\\ttf\\STIXNonUni.ttf -> build\\lib.win-amd64-cpython-313\\matplotlib\\mpl-data\\fonts\\ttf\n",
      "      copying lib\\matplotlib\\mpl-data\\fonts\\ttf\\cmmi10.ttf -> build\\lib.win-amd64-cpython-313\\matplotlib\\mpl-data\\fonts\\ttf\n",
      "      copying lib\\matplotlib\\mpl-data\\matplotlibrc -> build\\lib.win-amd64-cpython-313\\matplotlib\\mpl-data\n",
      "      copying lib\\matplotlib\\mpl-data\\stylelib\\Solarize_Light2.mplstyle -> build\\lib.win-amd64-cpython-313\\matplotlib\\mpl-data\\stylelib\n",
      "      copying lib\\matplotlib\\mpl-data\\sample_data\\jacksboro_fault_dem.npz -> build\\lib.win-amd64-cpython-313\\matplotlib\\mpl-data\\sample_data\n",
      "      copying lib\\matplotlib\\backends\\web_backend\\js\\mpl_tornado.js -> build\\lib.win-amd64-cpython-313\\matplotlib\\backends\\web_backend\\js\n",
      "      copying lib\\matplotlib\\mpl-data\\images\\back.svg -> build\\lib.win-amd64-cpython-313\\matplotlib\\mpl-data\\images\n",
      "      copying lib\\matplotlib\\mpl-data\\fonts\\afm\\phvlo8a.afm -> build\\lib.win-amd64-cpython-313\\matplotlib\\mpl-data\\fonts\\afm\n",
      "      copying lib\\matplotlib\\mpl-data\\fonts\\ttf\\STIXSizOneSymBol.ttf -> build\\lib.win-amd64-cpython-313\\matplotlib\\mpl-data\\fonts\\ttf\n",
      "      copying lib\\matplotlib\\mpl-data\\images\\subplots-symbolic.svg -> build\\lib.win-amd64-cpython-313\\matplotlib\\mpl-data\\images\n",
      "      copying lib\\matplotlib\\mpl-data\\stylelib\\seaborn-v0_8-colorblind.mplstyle -> build\\lib.win-amd64-cpython-313\\matplotlib\\mpl-data\\stylelib\n",
      "      copying lib\\matplotlib\\mpl-data\\stylelib\\fivethirtyeight.mplstyle -> build\\lib.win-amd64-cpython-313\\matplotlib\\mpl-data\\stylelib\n",
      "      copying lib\\matplotlib\\mpl-data\\fonts\\ttf\\STIXSizFiveSymReg.ttf -> build\\lib.win-amd64-cpython-313\\matplotlib\\mpl-data\\fonts\\ttf\n",
      "      copying lib\\matplotlib\\mpl-data\\fonts\\pdfcorefonts\\Courier.afm -> build\\lib.win-amd64-cpython-313\\matplotlib\\mpl-data\\fonts\\pdfcorefonts\n",
      "      copying lib\\matplotlib\\mpl-data\\images\\home_large.png -> build\\lib.win-amd64-cpython-313\\matplotlib\\mpl-data\\images\n",
      "      copying lib\\matplotlib\\mpl-data\\fonts\\afm\\pagd8a.afm -> build\\lib.win-amd64-cpython-313\\matplotlib\\mpl-data\\fonts\\afm\n",
      "      copying lib\\matplotlib\\mpl-data\\images\\filesave.png -> build\\lib.win-amd64-cpython-313\\matplotlib\\mpl-data\\images\n",
      "      running build_ext\n",
      "      Extracting /project/freetype/freetype2/2.6.1/freetype-2.6.1.tar.gz\n",
      "      Building freetype in build\\freetype-2.6.1\n",
      "      error: Microsoft Visual C++ 14.0 or greater is required. Get it with \"Microsoft C++ Build Tools\": https://visualstudio.microsoft.com/visual-cpp-build-tools/\n",
      "      [end of output]\n",
      "  \n",
      "  note: This error originates from a subprocess, and is likely not a problem with pip.\n",
      "  ERROR: Failed building wheel for matplotlib\n",
      "ERROR: ERROR: Failed to build installable wheels for some pyproject.toml based projects (matplotlib)\n"
     ]
    }
   ],
   "source": [
    "# Instalando uma versão específica do matplotlib\n",
    "!pip install matplotlib==3.6.2"
   ]
  },
  {
   "cell_type": "markdown",
   "metadata": {
    "id": "IHTmQnlXInD1"
   },
   "source": [
    "Existe também o PYPI que é um repositório de bibliotecas Python que traz as bibliotecas mais utilizadas pela comunidade junto a informações de como usar e acesso as documentações de cada uma delas.\n",
    "\n",
    "- PYPI ([https://pypi.org/](https://pypi.org/))"
   ]
  },
  {
   "cell_type": "markdown",
   "metadata": {
    "id": "A76TbnDbDehe"
   },
   "source": [
    "### Importando uma biblioteca"
   ]
  },
  {
   "cell_type": "code",
   "execution_count": 3,
   "metadata": {
    "executionInfo": {
     "elapsed": 300,
     "status": "ok",
     "timestamp": 1678839072755,
     "user": {
      "displayName": "Afonso Augusto Rios",
      "userId": "05972796828124452071"
     },
     "user_tz": 180
    },
    "id": "IOP3GEKUDNaS"
   },
   "outputs": [
    {
     "ename": "ModuleNotFoundError",
     "evalue": "No module named 'matplotlib'",
     "output_type": "error",
     "traceback": [
      "\u001b[1;31m---------------------------------------------------------------------------\u001b[0m",
      "\u001b[1;31mModuleNotFoundError\u001b[0m                       Traceback (most recent call last)",
      "Cell \u001b[1;32mIn[3], line 2\u001b[0m\n\u001b[0;32m      1\u001b[0m \u001b[38;5;66;03m# Importando uma biblioteca sem alias\u001b[39;00m\n\u001b[1;32m----> 2\u001b[0m \u001b[38;5;28;01mimport\u001b[39;00m \u001b[38;5;21;01mmatplotlib\u001b[39;00m\n",
      "\u001b[1;31mModuleNotFoundError\u001b[0m: No module named 'matplotlib'"
     ]
    }
   ],
   "source": [
    "# Importando uma biblioteca sem alias\n",
    "import matplotlib"
   ]
  },
  {
   "cell_type": "code",
   "execution_count": 2,
   "metadata": {
    "colab": {
     "base_uri": "https://localhost:8080/",
     "height": 35
    },
    "executionInfo": {
     "elapsed": 295,
     "status": "ok",
     "timestamp": 1678839137591,
     "user": {
      "displayName": "Afonso Augusto Rios",
      "userId": "05972796828124452071"
     },
     "user_tz": 180
    },
    "id": "xciT3_H0DNUS",
    "outputId": "d4d667de-754e-4cb4-9843-bdf54d41bbc1"
   },
   "outputs": [
    {
     "ename": "NameError",
     "evalue": "name 'matplotlib' is not defined",
     "output_type": "error",
     "traceback": [
      "\u001b[1;31m---------------------------------------------------------------------------\u001b[0m",
      "\u001b[1;31mNameError\u001b[0m                                 Traceback (most recent call last)",
      "Cell \u001b[1;32mIn[2], line 1\u001b[0m\n\u001b[1;32m----> 1\u001b[0m \u001b[43mmatplotlib\u001b[49m\u001b[38;5;241m.\u001b[39m__version__\n",
      "\u001b[1;31mNameError\u001b[0m: name 'matplotlib' is not defined"
     ]
    }
   ],
   "source": [
    "matplotlib.__version__"
   ]
  },
  {
   "cell_type": "code",
   "execution_count": 4,
   "metadata": {
    "executionInfo": {
     "elapsed": 298,
     "status": "ok",
     "timestamp": 1678839320216,
     "user": {
      "displayName": "Afonso Augusto Rios",
      "userId": "05972796828124452071"
     },
     "user_tz": 180
    },
    "id": "I8x0l_5uDNXE"
   },
   "outputs": [],
   "source": [
    "# Importando uma biblioteca com alias\n",
    "import matplotlib.pyplot as plt"
   ]
  },
  {
   "cell_type": "code",
   "execution_count": 5,
   "metadata": {
    "executionInfo": {
     "elapsed": 286,
     "status": "ok",
     "timestamp": 1678839333612,
     "user": {
      "displayName": "Afonso Augusto Rios",
      "userId": "05972796828124452071"
     },
     "user_tz": 180
    },
    "id": "MjQYbxA-DWWT"
   },
   "outputs": [],
   "source": [
    "plt.show()"
   ]
  },
  {
   "cell_type": "markdown",
   "metadata": {
    "id": "oMxkV9-6GXwH"
   },
   "source": [
    "## 1.2 Utilizando pacotes/bibliotecas\n",
    "\n",
    "- Documentação do Python (https://docs.python.org/pt-br/3/)"
   ]
  },
  {
   "cell_type": "markdown",
   "metadata": {
    "id": "W1MHaXB2Q7tT"
   },
   "source": [
    "#### Exemplo 1: Vamos testar a biblioteca Matplotlib para um exemplo de médias de estudantes de uma classe.\n",
    "\n",
    "(https://matplotlib.org/stable/tutorials/introductory/pyplot.html)"
   ]
  },
  {
   "cell_type": "code",
   "execution_count": 6,
   "metadata": {
    "executionInfo": {
     "elapsed": 2,
     "status": "ok",
     "timestamp": 1678840487512,
     "user": {
      "displayName": "Afonso Augusto Rios",
      "userId": "05972796828124452071"
     },
     "user_tz": 180
    },
    "id": "jKBw5ho2DWTa"
   },
   "outputs": [],
   "source": [
    "import matplotlib.pyplot as plt"
   ]
  },
  {
   "cell_type": "code",
   "execution_count": 8,
   "metadata": {
    "executionInfo": {
     "elapsed": 329,
     "status": "ok",
     "timestamp": 1678840593094,
     "user": {
      "displayName": "Afonso Augusto Rios",
      "userId": "05972796828124452071"
     },
     "user_tz": 180
    },
    "id": "3Q8p9LonGo63"
   },
   "outputs": [],
   "source": [
    "estudantes = [\"João\", \"Maria\", \"José\"]\n",
    "notas = [8.5, 9, 6.5]"
   ]
  },
  {
   "cell_type": "code",
   "execution_count": 9,
   "metadata": {
    "colab": {
     "base_uri": "https://localhost:8080/",
     "height": 283
    },
    "executionInfo": {
     "elapsed": 584,
     "status": "ok",
     "timestamp": 1678840597615,
     "user": {
      "displayName": "Afonso Augusto Rios",
      "userId": "05972796828124452071"
     },
     "user_tz": 180
    },
    "id": "yhwQqLmBRvIw",
    "outputId": "9e6618cf-bfac-4e9e-9147-3c54d062111d"
   },
   "outputs": [
    {
     "data": {
      "text/plain": [
       "<BarContainer object of 3 artists>"
      ]
     },
     "execution_count": 9,
     "metadata": {},
     "output_type": "execute_result"
    },
    {
     "data": {
      "image/png": "[encoded data removed]",
      "text/plain": [
       "<Figure size 432x288 with 1 Axes>"
      ]
     },
     "metadata": {
      "needs_background": "light"
     },
     "output_type": "display_data"
    }
   ],
   "source": [
    "plt.bar(x = estudantes, height = notas)"
   ]
  },
  {
   "cell_type": "markdown",
   "metadata": {
    "id": "5G6u4ZRYRIFZ"
   },
   "source": [
    "#### Exemplo 2: Vamos selecionar aleatoriamente um aluno para apresentar o seu trabalho de ciência de dados usando a biblioteca Random\n",
    "\n",
    "(https://docs.python.org/pt-br/3/library/random.html)"
   ]
  },
  {
   "cell_type": "code",
   "execution_count": 9,
   "metadata": {
    "executionInfo": {
     "elapsed": 286,
     "status": "ok",
     "timestamp": 1678840683178,
     "user": {
      "displayName": "Afonso Augusto Rios",
      "userId": "05972796828124452071"
     },
     "user_tz": 180
    },
    "id": "vnqGBX4DYv17"
   },
   "outputs": [],
   "source": [
    "estudantes_2 = [\"João\", \"Maria\", \"José\", \"Ana\"]"
   ]
  },
  {
   "cell_type": "code",
   "execution_count": 6,
   "metadata": {
    "executionInfo": {
     "elapsed": 278,
     "status": "ok",
     "timestamp": 1678840812014,
     "user": {
      "displayName": "Afonso Augusto Rios",
      "userId": "05972796828124452071"
     },
     "user_tz": 180
    },
    "id": "5UYHaiWaGoy1"
   },
   "outputs": [],
   "source": [
    "# Importando uma função específica de uma biblioteca\n",
    "from random import choice"
   ]
  },
  {
   "cell_type": "markdown",
   "metadata": {
    "id": "N-XJrnISGpTN"
   },
   "source": [
    "<font color=green>**Dica:**</font> Você pode notar ao longo de nossa prática a importância de recorrer a documentação para aprender como utilizar um método ou pacote na linguagem Python. \n",
    "\n",
    "O método `help()`, por exemplo, retorna uma descrição sobre uma variável, método ou classe.\n",
    "\n",
    "https://docs.python.org/pt-br/3/library/functions.html?#help"
   ]
  },
  {
   "cell_type": "code",
   "execution_count": 11,
   "metadata": {
    "colab": {
     "base_uri": "https://localhost:8080/"
    },
    "executionInfo": {
     "elapsed": 452,
     "status": "ok",
     "timestamp": 1678840820970,
     "user": {
      "displayName": "Afonso Augusto Rios",
      "userId": "05972796828124452071"
     },
     "user_tz": 180
    },
    "id": "fKv4W4PJXNOR",
    "outputId": "6189596c-d267-4b08-af06-63f6dcdb0647"
   },
   "outputs": [
    {
     "name": "stdout",
     "output_type": "stream",
     "text": [
      "Help on method choice in module random:\n",
      "\n",
      "choice(seq) method of random.Random instance\n",
      "    Choose a random element from a non-empty sequence.\n",
      "\n"
     ]
    }
   ],
   "source": [
    "help(choice)"
   ]
  },
  {
   "cell_type": "code",
   "execution_count": 12,
   "metadata": {
    "colab": {
     "base_uri": "https://localhost:8080/",
     "height": 35
    },
    "executionInfo": {
     "elapsed": 422,
     "status": "ok",
     "timestamp": 1678840909368,
     "user": {
      "displayName": "Afonso Augusto Rios",
      "userId": "05972796828124452071"
     },
     "user_tz": 180
    },
    "id": "Pal_mZsFcV80",
    "outputId": "f3917bca-8e03-4dea-b3c0-39fcf69615df"
   },
   "outputs": [
    {
     "data": {
      "text/plain": [
       "'Maria'"
      ]
     },
     "execution_count": 12,
     "metadata": {},
     "output_type": "execute_result"
    }
   ],
   "source": [
    "estudante = choice(estudantes_2)\n",
    "estudante"
   ]
  },
  {
   "cell_type": "markdown",
   "metadata": {
    "id": "2hrSPmlcBwWS"
   },
   "source": [
    "## <font color=green> 2. FUNÇÕES\n",
    "---"
   ]
  },
  {
   "cell_type": "markdown",
   "metadata": {
    "id": "gC4lHsW-DREY"
   },
   "source": [
    "Na linguagem Python, as **funções** são sequências de instruções que executam tarefas específicas, podendo ser reutilizadas em diferentes partes do código. Elas podem receber parâmetros de entrada (que podemos chamar de *inputs*) e também retornar resultados."
   ]
  },
  {
   "cell_type": "markdown",
   "metadata": {
    "id": "Qr_h1_UNEzHZ"
   },
   "source": [
    "## 2.1 Built-in function\n",
    "\n",
    "O interpretador do Python já possui uma série de funções embutidas que podem ser invocadas a qualquer momento. Algumas que vamos utilizar ao longo desse curso são: type(), print(), list(), zip(), sum(), map() etc.\n",
    "\n",
    "***Documentação:***\n",
    "https://docs.python.org/pt-br/3/library/functions.html\n"
   ]
  },
  {
   "cell_type": "markdown",
   "metadata": {
    "id": "MMOJIW3TyLIB"
   },
   "source": [
    "#### **Situação 1:**\n",
    "\n",
    "A escola em que estamos construindo o nosso case de dados compartilhou os dados das notas de um estudante para que pudéssemos calcular a média deste em até uma casa decimal. \n",
    "\n",
    "Os dados recebidos correspondem a um dicionário com as chaves indicando o trimestre em questão e os valores das notas de cada trimestre do estudante em uma dada matéria."
   ]
  },
  {
   "cell_type": "code",
   "execution_count": 1,
   "metadata": {
    "colab": {
     "base_uri": "https://localhost:8080/"
    },
    "id": "kRAMC_KbI6U4",
    "outputId": "06f7bfdd-8551-4d59-8ccb-0d8718dd890e"
   },
   "outputs": [
    {
     "data": {
      "text/plain": [
       "{'1º Trimestre': 8.5, '2º Trimestre': 7.5, '3º Trimestre': 9}"
      ]
     },
     "execution_count": 1,
     "metadata": {},
     "output_type": "execute_result"
    }
   ],
   "source": [
    "# Notas do(a) estudante\n",
    "notas = {'1º Trimestre': 8.5, '2º Trimestre': 7.5, '3º Trimestre': 9}\n",
    "notas"
   ]
  },
  {
   "cell_type": "code",
   "execution_count": 2,
   "metadata": {
    "id": "S7vIqSZJI6P4"
   },
   "outputs": [
    {
     "data": {
      "text/plain": [
       "25.0"
      ]
     },
     "execution_count": 2,
     "metadata": {},
     "output_type": "execute_result"
    }
   ],
   "source": [
    "# Calculando a soma\n",
    "soma = 0\n",
    "for nota in notas.values():\n",
    "    soma += nota \n",
    "soma\n",
    "\n",
    "    "
   ]
  },
  {
   "cell_type": "code",
   "execution_count": 3,
   "metadata": {
    "id": "yr9YSRwNPF9S"
   },
   "outputs": [
    {
     "data": {
      "text/plain": [
       "25.0"
      ]
     },
     "execution_count": 3,
     "metadata": {},
     "output_type": "execute_result"
    }
   ],
   "source": [
    "# Usando a função embutida sum()\n",
    "somatorio = sum(notas.values())\n",
    "somatorio"
   ]
  },
  {
   "cell_type": "code",
   "execution_count": 4,
   "metadata": {
    "id": "Zn6XAAdQI6Fw"
   },
   "outputs": [
    {
     "data": {
      "text/plain": [
       "3"
      ]
     },
     "execution_count": 4,
     "metadata": {},
     "output_type": "execute_result"
    }
   ],
   "source": [
    "# Usando a função embutida len()\n",
    "tamanho = len(notas)\n",
    "tamanho"
   ]
  },
  {
   "cell_type": "code",
   "execution_count": 32,
   "metadata": {
    "id": "iUx5UixrNsQh"
   },
   "outputs": [
    {
     "data": {
      "text/plain": [
       "8.33"
      ]
     },
     "execution_count": 32,
     "metadata": {},
     "output_type": "execute_result"
    }
   ],
   "source": [
    "# calculando a média\n",
    "media = somatorio/ tamanho\n",
    "media = round(media, 2)\n",
    "media"
   ]
  },
  {
   "cell_type": "markdown",
   "metadata": {
    "id": "NCUSezOJIdfy"
   },
   "source": [
    "## 2.2 Criando funções"
   ]
  },
  {
   "cell_type": "markdown",
   "metadata": {
    "id": "QrTAXwghsg6s"
   },
   "source": [
    "Depois de explorarmos a built-in functions e aprendermos como utilizar algumas delas, você pode se deparar com a necessidade de resolver um problema específico em que elas não serão o suficiente.\n",
    "\n",
    "Nesse ponto, precisaremos criar as nossas próprias funções, ainda mais se precisarmos utilizá-las em mais partes de nossos códigos."
   ]
  },
  {
   "cell_type": "markdown",
   "metadata": {
    "id": "zxyXiX462A_X"
   },
   "source": [
    "### Funções sem parâmetros\n",
    "\n",
    "#### Formato padrão:\n",
    "\n",
    "```python\n",
    "def <nome>():\n",
    "  <instruções>\n",
    "```"
   ]
  },
  {
   "cell_type": "code",
   "execution_count": 35,
   "metadata": {
    "id": "zQtsnpyCzHfb"
   },
   "outputs": [],
   "source": [
    "def media():\n",
    "    calculo = (10 + 9 + 8) / 3\n",
    "    print(calculo)\n"
   ]
  },
  {
   "cell_type": "code",
   "execution_count": 36,
   "metadata": {
    "id": "Eq4U8TPq0xOv"
   },
   "outputs": [
    {
     "name": "stdout",
     "output_type": "stream",
     "text": [
      "9.0\n"
     ]
    }
   ],
   "source": [
    "media()"
   ]
  },
  {
   "cell_type": "markdown",
   "metadata": {
    "id": "o9AR_DNDFKSD"
   },
   "source": [
    "### Funções com parâmetros\n",
    "\n",
    "#### Formato padrão:\n",
    "\n",
    "```python\n",
    "def <nome>(<param_1>, <param_2>, ..., <param_n>):\n",
    "  <instruções>\n",
    "```"
   ]
  },
  {
   "cell_type": "code",
   "execution_count": 42,
   "metadata": {
    "id": "zVIvbjeRDR24"
   },
   "outputs": [],
   "source": [
    "def mediaParam(a,b,c):\n",
    "    tamanhoParam = 3\n",
    "    calculo = (a + b + c ) / tamanhoParam\n",
    "    print(round(calculo,2))"
   ]
  },
  {
   "cell_type": "code",
   "execution_count": 40,
   "metadata": {
    "id": "c6H9lfBn3FuA"
   },
   "outputs": [
    {
     "name": "stdout",
     "output_type": "stream",
     "text": [
      "9.0\n"
     ]
    }
   ],
   "source": [
    "mediaParam(10, 9, 8)"
   ]
  },
  {
   "cell_type": "code",
   "execution_count": 43,
   "metadata": {
    "id": "38M9GYEVQp_x"
   },
   "outputs": [
    {
     "name": "stdout",
     "output_type": "stream",
     "text": [
      "183.33\n"
     ]
    }
   ],
   "source": [
    "a = 100 \n",
    "b = 200\n",
    "c = 250\n",
    "mediaParam(a,b,c)"
   ]
  },
  {
   "cell_type": "markdown",
   "metadata": {
    "id": "-Umx7n134suz"
   },
   "source": [
    "#### **Situação 2:**\n",
    "\n",
    "Recebemos uma demanda de calcular a média de um estudante a partir de uma lista, sendo possível alterar a quantidade de notas, sem impedir que o cálculo seja refeito.\n",
    "\n",
    "Os dados recebidos, desta vez, correspondem a uma lista contendo apenas as notas de um estudante em uma dada matéria.\n",
    "\n",
    "**Vamos resolver esse desafio?**\n",
    "\n",
    "Para facilitar o nosso entendimento do processo vamos aplicar às notas de apenas um estudante, mas você pode testar outros casos para treinar."
   ]
  },
  {
   "cell_type": "code",
   "execution_count": 45,
   "metadata": {
    "id": "9AiWnXLuzc1P"
   },
   "outputs": [],
   "source": [
    "# Notas do(a) estudante\n",
    "notas = [8.5, 9.0, 6.0, 10.0]"
   ]
  },
  {
   "cell_type": "code",
   "execution_count": 46,
   "metadata": {
    "id": "bEf8Evf1DR0I"
   },
   "outputs": [],
   "source": [
    "def media(lista):\n",
    "    calculo = sum(lista) / len(lista)\n",
    "    print(calculo)"
   ]
  },
  {
   "cell_type": "code",
   "execution_count": 48,
   "metadata": {
    "id": "R5ylO_vW6k8C"
   },
   "outputs": [
    {
     "name": "stdout",
     "output_type": "stream",
     "text": [
      "8.375\n"
     ]
    }
   ],
   "source": [
    "media(notas)"
   ]
  },
  {
   "cell_type": "code",
   "execution_count": 49,
   "metadata": {
    "id": "9wNMcPOK_T9F"
   },
   "outputs": [
    {
     "name": "stdout",
     "output_type": "stream",
     "text": [
      "8.375\n"
     ]
    }
   ],
   "source": [
    "resultado = media(notas)\n"
   ]
  },
  {
   "cell_type": "code",
   "execution_count": 50,
   "metadata": {
    "id": "4xnmTQ9w_ZTi"
   },
   "outputs": [
    {
     "data": {
      "text/plain": [
       "NoneType"
      ]
     },
     "execution_count": 50,
     "metadata": {},
     "output_type": "execute_result"
    }
   ],
   "source": [
    "type(resultado)"
   ]
  },
  {
   "cell_type": "markdown",
   "metadata": {
    "id": "skMq7d0_xHND"
   },
   "source": [
    "<font color=red>**Atenção!**</font>\n",
    "Quando utilizamos funções precisamos prestar atenção a uma propriedade chamada **escopo de uma função**\n",
    "\n",
    "Ela determina onde uma variável pode ser utilizada dentro do código. Por exemplo, uma variável criada dentro de uma função existirá apenas dentro da função. Ou seja, encerrando a execução da função, a variável não estará disponível para o usuário no restante do código. "
   ]
  },
  {
   "cell_type": "markdown",
   "metadata": {
    "id": "-oDFGKcA52kG"
   },
   "source": [
    "## 2.3 Funções que retornam valores\n",
    "\n",
    "#### Formato padrão:\n",
    "\n",
    "```python\n",
    "def <nome>(<param_1>, <param_2>, ..., <param_n>):\n",
    "  <instruções>\n",
    "  return resultado\n",
    "```"
   ]
  },
  {
   "cell_type": "markdown",
   "metadata": {
    "id": "DxvT_uItbQ-q"
   },
   "source": [
    "Retomando a atividade anterior, podemos retornar e salvar o valor da média da seguinte forma:"
   ]
  },
  {
   "cell_type": "code",
   "execution_count": 5,
   "metadata": {
    "id": "GlWdnX7Ubgl3"
   },
   "outputs": [],
   "source": [
    "# Notas do(a) estudante\n",
    "notas = [8.5, 9.0, 6.0, 10.0]"
   ]
  },
  {
   "cell_type": "code",
   "execution_count": 7,
   "metadata": {
    "id": "B6yqoM7KAKKK"
   },
   "outputs": [],
   "source": [
    "def media(lista):\n",
    "  calculo = sum(lista) / len(lista)\n",
    "  return calculo"
   ]
  },
  {
   "cell_type": "code",
   "execution_count": 9,
   "metadata": {
    "id": "GlqPKe3_AT0Q"
   },
   "outputs": [
    {
     "data": {
      "text/plain": [
       "8.375"
      ]
     },
     "execution_count": 9,
     "metadata": {},
     "output_type": "execute_result"
    }
   ],
   "source": [
    "resultado = media(notas)\n"
   ]
  },
  {
   "cell_type": "code",
   "execution_count": 10,
   "metadata": {
    "id": "E81HZh8rAYJz"
   },
   "outputs": [
    {
     "data": {
      "text/plain": [
       "8.375"
      ]
     },
     "execution_count": 10,
     "metadata": {},
     "output_type": "execute_result"
    }
   ],
   "source": [
    "resultado"
   ]
  },
  {
   "cell_type": "markdown",
   "metadata": {
    "id": "_awyOKOH8OOi"
   },
   "source": [
    "#### **Situação 3:**\n",
    "\n",
    "Recebemos uma nova demanda, desta vez, de calcular a média de um estudante a partir de uma lista e retornar tanto a média quanto a situação do estudante (\"Aprovado(a)\" se a nota for maior ou igual a 6.0, caso contrário, será \"Reprovado(a)\"). \n",
    "\n",
    "Além disso, precisamos exibir um pequeno texto em que indicamos a média do(a) estudante e qual a situação. Os dados recebidos correspondem a uma lista contendo apenas as notas de um estudante em uma dada matéria.\n",
    "\n",
    "**Vamos resolver esse desafio?**\n",
    "\n",
    "Para facilitar o nosso entendimento do processo vamos aplicar as notas de apenas um estudante, mas você pode testar outros casos para treinar."
   ]
  },
  {
   "cell_type": "code",
   "execution_count": null,
   "metadata": {
    "id": "8LmWZ2U9-Zv3"
   },
   "outputs": [],
   "source": [
    "# Notas do(a) estudante\n",
    "notas = [6.0, 7.0, 9.0, 5.0]"
   ]
  },
  {
   "cell_type": "code",
   "execution_count": 15,
   "metadata": {
    "id": "bJ9KmlHv5o0i"
   },
   "outputs": [],
   "source": [
    "def boletim(lista):\n",
    "    media = sum(lista) / len(lista)\n",
    "    if media >= 6:\n",
    "        situacao = \"Aprovado(a)\"\n",
    "    else:\n",
    "        situacao = \"Reprovado(a)\"\n",
    "    return (media, situacao)"
   ]
  },
  {
   "cell_type": "code",
   "execution_count": 16,
   "metadata": {
    "id": "rIiA2cpB-squ"
   },
   "outputs": [
    {
     "data": {
      "text/plain": [
       "(8.375, 'Aprovado(a)')"
      ]
     },
     "execution_count": 16,
     "metadata": {},
     "output_type": "execute_result"
    }
   ],
   "source": [
    "boletim(notas)"
   ]
  },
  {
   "cell_type": "code",
   "execution_count": 20,
   "metadata": {
    "id": "_xf7bR6JBjD8"
   },
   "outputs": [],
   "source": [
    "media, situacao = boletim(notas)  "
   ]
  },
  {
   "cell_type": "code",
   "execution_count": 21,
   "metadata": {
    "id": "5ixwo3o3CdQ0"
   },
   "outputs": [
    {
     "data": {
      "text/plain": [
       "8.375"
      ]
     },
     "execution_count": 21,
     "metadata": {},
     "output_type": "execute_result"
    }
   ],
   "source": [
    "media "
   ]
  },
  {
   "cell_type": "code",
   "execution_count": 22,
   "metadata": {
    "id": "VFQacFSICeaO"
   },
   "outputs": [
    {
     "data": {
      "text/plain": [
       "'Aprovado(a)'"
      ]
     },
     "execution_count": 22,
     "metadata": {},
     "output_type": "execute_result"
    }
   ],
   "source": [
    "situacao"
   ]
  },
  {
   "cell_type": "code",
   "execution_count": 23,
   "metadata": {
    "id": "ecFviUvOCgXF"
   },
   "outputs": [
    {
     "name": "stdout",
     "output_type": "stream",
     "text": [
      "O(a) estudante atingiu uma média de 8.375 e foi Aprovado(a)\n"
     ]
    }
   ],
   "source": [
    "print(f'O(a) estudante atingiu uma média de {media} e foi {situacao}')\n"
   ]
  },
  {
   "cell_type": "markdown",
   "metadata": {
    "id": "hwYYRpkZMft5"
   },
   "source": [
    "## 2.4 Funções lambda\n",
    "\n",
    "Também chamadas de funções anônimas, são funções que não precisam ser definidas, ou seja não possuem um nome, e descrevem em uma única linha os comandos que desejamos aplicar. \n",
    "\n",
    "https://docs.python.org/pt-br/3/reference/expressions.html?#lambda\n",
    "\n",
    "#### Formato padrão:\n",
    "\n",
    "```python\n",
    "lambda <variavel>: <expressao>\n",
    "```"
   ]
  },
  {
   "cell_type": "markdown",
   "metadata": {
    "id": "AuRWyNXYgD_b"
   },
   "source": [
    "#### **Situação 4:**\n",
    "\n",
    "Nesta nova demanda, precisamos criar uma calculadora simples da média ponderada de notas de uma dada matéria. Vamos requisitar ao usuário a entrada das 3 notas (N1, N2, N3) do estudante e devolver a média ponderada deste estudante. Os pesos das notas são de, respectivamente 3, 2, 5.\n",
    "\n",
    "Precisamos exibir um pequeno texto em que indicamos a média do(a) estudante.\n",
    "\n",
    "**Vamos resolver esse desafio?**"
   ]
  },
  {
   "cell_type": "code",
   "execution_count": null,
   "metadata": {
    "id": "4EjJD3w3lbzJ"
   },
   "outputs": [],
   "source": [
    "# Comparando uma função de qualitativo no formato de função para função anônima\n"
   ]
  },
  {
   "cell_type": "code",
   "execution_count": null,
   "metadata": {
    "id": "vZjaUmaJFp3D"
   },
   "outputs": [],
   "source": [
    "# Testando a mesma função para uma função lambda\n"
   ]
  },
  {
   "cell_type": "markdown",
   "metadata": {
    "id": "vdKk3DRBmtUE"
   },
   "source": [
    "**Partindo para nosso problema:**"
   ]
  },
  {
   "cell_type": "code",
   "execution_count": null,
   "metadata": {
    "colab": {
     "base_uri": "https://localhost:8080/"
    },
    "executionInfo": {
     "elapsed": 14792,
     "status": "ok",
     "timestamp": 1678460277463,
     "user": {
      "displayName": "Afonso Augusto Rios",
      "userId": "05972796828124452071"
     },
     "user_tz": 180
    },
    "id": "azStYQgKnsZn",
    "outputId": "af1aaa46-353d-4b69-c470-1bd7f2488ae0"
   },
   "outputs": [
    {
     "name": "stdout",
     "output_type": "stream",
     "text": [
      "Digite a 1ª nota do(a) estudante: 3\n",
      "Digite a 2ª nota do(a) estudante: 4\n",
      "Digite a 3ª nota do(a) estudante: 5\n"
     ]
    },
    {
     "data": {
      "text/plain": [
       "Ellipsis"
      ]
     },
     "execution_count": 1,
     "metadata": {},
     "output_type": "execute_result"
    }
   ],
   "source": [
    "# Recebendo as notas e calculando a média ponderável\n",
    "N1 = float(input(\"Digite a 1ª nota do(a) estudante: \"))\n",
    "N2 = float(input(\"Digite a 2ª nota do(a) estudante: \"))\n",
    "N3 = float(input(\"Digite a 3ª nota do(a) estudante: \"))\n",
    "\n",
    "..."
   ]
  },
  {
   "cell_type": "code",
   "execution_count": null,
   "metadata": {
    "id": "Ek1s_FkjkQrW"
   },
   "outputs": [],
   "source": [
    "# Exibindo a média\n",
    "print(f'O(a) estudante atingiu uma média de {}')"
   ]
  },
  {
   "cell_type": "markdown",
   "metadata": {
    "id": "SOK4BC4mmKbG"
   },
   "source": [
    "### Mapeando valores\n",
    "\n",
    "#### Formato padrão:\n",
    "\n",
    "```python\n",
    "map(<lambda function>, <iterador>)\n",
    "```"
   ]
  },
  {
   "cell_type": "markdown",
   "metadata": {
    "id": "1qk0gLdfFcbf"
   },
   "source": [
    "#### **Situação 5:**\n",
    "\n",
    "Recebemos mais uma demanda, desta vez, para criar uma pequena função que pudesse adicionar qualitativo (pontuação extra) às notas do trimestre dos estudantes da turma que ganhou a gincana de programação promovida pela escola. Cada estudante receberá o qualitativo de 0.5 acrescido à média.\n",
    "\n",
    "Os dados recebidos correspondem a uma lista contendo as notas de alguns estudantes e uma variável com o qualitativo recebido.\n",
    "\n",
    "**Vamos resolver esse desafio?**\n",
    "\n",
    "Para facilitar o nosso entendimento do processo vamos aplicar o qualitativo às notas de 5 estudantes, mas você pode testar outros casos para treinar."
   ]
  },
  {
   "cell_type": "code",
   "execution_count": null,
   "metadata": {
    "id": "RdoaWhuVI_OB"
   },
   "outputs": [],
   "source": [
    "# Notas do(a) estudante\n",
    "notas = [6.0, 7.0, 9.0, 5.5, 8.0]\n",
    "qualitativo = 0.5"
   ]
  },
  {
   "cell_type": "code",
   "execution_count": null,
   "metadata": {
    "id": "nC6zW89lHI4K"
   },
   "outputs": [],
   "source": []
  },
  {
   "cell_type": "code",
   "execution_count": null,
   "metadata": {
    "id": "iM2jXtC8m1zc"
   },
   "outputs": [],
   "source": [
    "# Não conseguimos aplicar o lambda em listas direto, é necessário \n",
    "# utilizarmos junto a ela a função map\n"
   ]
  },
  {
   "cell_type": "code",
   "execution_count": null,
   "metadata": {
    "id": "dAq9-TNTm1wf"
   },
   "outputs": [],
   "source": []
  },
  {
   "cell_type": "markdown",
   "metadata": {
    "id": "DoB6wf2JCYf7"
   },
   "source": [
    "## <font color=green> 3. ESTRUTURA DE DADOS COMPOSTAS\n",
    "---"
   ]
  },
  {
   "cell_type": "markdown",
   "metadata": {
    "id": "3or6MbnZDW_b"
   },
   "source": [
    "## 3.1 Estruturas aninhadas\n",
    "\n",
    "Aprendemos anteriormente a manipular listas, tuplas e dicionários para trabalhar com uma sequência ou coleção de valores sejam numéricos, categóricos, etc. Nessa aula, vamos aprofundar em outra situação comum para a pessoa cientista de dados que é trabalhar com esses tipos de estruturas aninhadas, ou seja, quando possuímos por exemplo listas dentro de uma lista. "
   ]
  },
  {
   "cell_type": "markdown",
   "metadata": {
    "id": "fddus1G9HqB3"
   },
   "source": [
    "### Lista de listas\n",
    "\n",
    "#### Formato padrão:\n",
    "\n",
    "```python\n",
    "[[a1, a2,...,an], [b1, b2,...,bn], ..., [n1, n2,...,nn]]\n",
    "```"
   ]
  },
  {
   "cell_type": "markdown",
   "metadata": {
    "id": "32K5LA11tFpz"
   },
   "source": [
    "#### **Situação 6:**\n",
    "\n",
    "Recebemos a demanda de transformar uma lista com o nome e as notas dos três trimestres de estudantes em uma lista simples com os nomes separados das notas e uma lista de listas com as três notas de cada estudante separadas umas das outras. Os dados recebidos correspondem a uma lista com os nomes e as respectivas notas de cada estudante. \n",
    "\n",
    "**Vamos resolver esse desafio?**\n",
    "\n",
    "Para facilitar o nosso entendimento do processo vamos trabalhar com uma turma fictícia de 5 estudantes.\n"
   ]
  },
  {
   "cell_type": "code",
   "execution_count": null,
   "metadata": {
    "id": "jlEP-c2YthpB"
   },
   "outputs": [],
   "source": [
    "notas_turma = ['João', 8.0, 9.0, 10.0, 'Maria', 9.0, 7.0, 6.0, 'José', 3.4, 7.0, 7.0, 'Cláudia', 5.5, 6.6, 8.0, 'Ana', 6.0, 10.0, 9.5]"
   ]
  },
  {
   "cell_type": "code",
   "execution_count": null,
   "metadata": {
    "id": "xP1H4Kw6uJTe"
   },
   "outputs": [],
   "source": []
  },
  {
   "cell_type": "code",
   "execution_count": null,
   "metadata": {
    "id": "pelnQlo-v4l3"
   },
   "outputs": [],
   "source": []
  },
  {
   "cell_type": "code",
   "execution_count": null,
   "metadata": {
    "id": "61NkIzLvxXFa"
   },
   "outputs": [],
   "source": []
  },
  {
   "cell_type": "code",
   "execution_count": null,
   "metadata": {
    "id": "eL-y49GmPpjN"
   },
   "outputs": [],
   "source": []
  },
  {
   "cell_type": "code",
   "execution_count": null,
   "metadata": {
    "id": "awqddIuGFf-k"
   },
   "outputs": [],
   "source": []
  },
  {
   "cell_type": "code",
   "execution_count": null,
   "metadata": {
    "id": "PlDKPeCLDXU7"
   },
   "outputs": [],
   "source": []
  },
  {
   "cell_type": "markdown",
   "metadata": {
    "id": "SW0sVg68sK_z"
   },
   "source": [
    "### Lista de tuplas\n",
    "\n",
    "#### Formato padrão:\n",
    "\n",
    "```python\n",
    "[(a1, a2,...,an), (b1, b2,...,bn), ..., (n1, n2,...,nn)]\n",
    "```"
   ]
  },
  {
   "cell_type": "markdown",
   "metadata": {
    "id": "OId6jAZz5x2m"
   },
   "source": [
    "#### **Situação 7:**\n",
    "\n",
    "Nesta nova demanda, precisamos gerar uma lista de tuplas com os nomes dos estudantes e o código ID de cada um para a plataforma de análise dos dados. A criação do código consiste em concatenar a primeira letra do nome do estudante a um número aleatório de 0 a 999. Os dados recebidos correspondem a uma lista dos nomes de cada estudante. \n",
    "\n",
    "**Vamos resolver esse desafio?**\n",
    "\n",
    "Para facilitar o nosso entendimento do processo vamos trabalhar com uma turma fictícia de 5 estudantes.\n"
   ]
  },
  {
   "cell_type": "code",
   "execution_count": null,
   "metadata": {
    "id": "aRB0zQ2_6aa9"
   },
   "outputs": [],
   "source": [
    "estudantes = [\"João\", \"Maria\", \"José\", \"Cláudia\", \"Ana\"]\n",
    "estudantes"
   ]
  },
  {
   "cell_type": "code",
   "execution_count": null,
   "metadata": {
    "id": "wFHkckyg6aa-"
   },
   "outputs": [],
   "source": [
    "from random import randint\n",
    "\n",
    "def gera_codigo():\n",
    "  return str(randint(0,999))"
   ]
  },
  {
   "cell_type": "code",
   "execution_count": null,
   "metadata": {
    "id": "tZItNHeo6aa-"
   },
   "outputs": [],
   "source": []
  },
  {
   "cell_type": "markdown",
   "metadata": {
    "id": "srHAov19QCdb"
   },
   "source": [
    "## 3.2 List comprehension\n",
    "\n",
    "É uma forma simples e concisa de criar uma lista. Podemos aplicar condicionais e laços para criar diversos tipos de listas a partir de padrões que desejamos para a nossa estrutura de dados.\n",
    "\n",
    "https://docs.python.org/pt-br/3/tutorial/datastructures.html?#list-comprehensions\n",
    "\n",
    "#### Formato padrão:\n",
    "\n",
    "```python\n",
    "[exressão for item in lista]\n",
    "```"
   ]
  },
  {
   "cell_type": "markdown",
   "metadata": {
    "id": "l4HW0gDqecgM"
   },
   "source": [
    "#### **Situação 8:**\n",
    "\n",
    "Recebemos a demanda de criar uma lista com as médias dos estudantes da lista de listas que criamos na Situação 6. Lembrando que cada lista da lista de listas possui as três notas de cada estudante.\n",
    "\n",
    "**Vamos resolver esse desafio?**\n",
    "\n",
    "**Dica:** Utilize o formato:\n",
    "```python\n",
    "[exressão for item in lista]\n",
    "```"
   ]
  },
  {
   "cell_type": "code",
   "execution_count": null,
   "metadata": {
    "id": "RR5D3LvYAOUd"
   },
   "outputs": [],
   "source": [
    "notas = [[8.0, 9.0, 10.0], [9.0, 7.0, 6.0], [3.4, 7.0, 7.0], [5.5, 6.6, 8.0], [6.0, 10.0, 9.5]]"
   ]
  },
  {
   "cell_type": "code",
   "execution_count": null,
   "metadata": {
    "id": "J_atQRQdlpNe"
   },
   "outputs": [],
   "source": [
    "def media(lista: list=[0]) -> float:\n",
    "  ''' Função para calcular a média de notas passadas por uma lista\n",
    "\n",
    "  lista: list, default [0]\n",
    "    Lista com as notas para calcular a média\n",
    "  return = calculo: float\n",
    "    Média calculada\n",
    "  '''\n",
    "  \n",
    "  calculo = sum(lista) / len(lista)\n",
    "\n",
    "  return calculo"
   ]
  },
  {
   "cell_type": "code",
   "execution_count": null,
   "metadata": {
    "id": "G5CQqPkzQWT0"
   },
   "outputs": [],
   "source": []
  },
  {
   "cell_type": "markdown",
   "metadata": {
    "id": "ApLjXlAdhJKd"
   },
   "source": [
    "#### **Situação 9:**\n",
    "\n",
    "Agora, precisamos utilizar as médias calculadas no exemplo anterior, pareando com o nome dos estudantes. Isto será necessário para gerar uma lista que selecione aqueles estudantes que possuam uma média final maior ou igual a 8 para concorrer a uma bolsa para o próximo ano letivo. Os dados recebidos correspondem a uma lista de tuplas com os nomes e códigos dos estudantes e a lista de médias calculadas logo acima.\n",
    "\n",
    "**Vamos resolver esse desafio?** \n",
    "\n",
    "Para facilitar o nosso entendimento do processo vamos trabalhar com uma turma fictícia de 5 estudantes.\n",
    "\n",
    "**Dica:** Utilize o formato:\n",
    "```python\n",
    "[expr for item in lista if cond]\n",
    "```\n"
   ]
  },
  {
   "cell_type": "code",
   "execution_count": null,
   "metadata": {
    "id": "WhXegkP5DDMW"
   },
   "outputs": [],
   "source": [
    "nomes = [('João', 'J720'), ('Maria', 'M205'), ('José', 'J371'), ('Cláudia', 'C546'), ('Ana', 'A347')]\n",
    "medias = [9.0, 7.3, 5.8, 6.7, 8.5]"
   ]
  },
  {
   "cell_type": "code",
   "execution_count": null,
   "metadata": {
    "id": "Lvfr10SIDSDN"
   },
   "outputs": [],
   "source": [
    "# Gerando a lista de nomes (extraindo da tupla)\n"
   ]
  },
  {
   "cell_type": "markdown",
   "metadata": {
    "id": "U6KAABs7Dfpe"
   },
   "source": [
    "<font color=green>**Dica:**</font> Para conseguirmos parear as médias e nomes facilmente, podemos recorrer a mais uma built-in function: `zip()`\n",
    "\n",
    "Ela recebe um ou mais iteráveis (lista, string, dict, etc.) e retorna-os como um iterador de tuplas onde cada elemento dos iteráveis são pareados."
   ]
  },
  {
   "cell_type": "code",
   "execution_count": null,
   "metadata": {
    "id": "TRqn0wMUg3s7"
   },
   "outputs": [],
   "source": []
  },
  {
   "cell_type": "code",
   "execution_count": null,
   "metadata": {
    "id": "T1ocZ1G0g3qC"
   },
   "outputs": [],
   "source": [
    "# Gerando a lista de pessoas candidatas a bolsa\n"
   ]
  },
  {
   "cell_type": "markdown",
   "metadata": {
    "id": "9yzRDIB0fkeF"
   },
   "source": [
    "#### **Situação 10:**\n",
    "\n",
    "Recebemos duas demandas a respeito desse projeto com as notas dos estudantes:\n",
    "- Criar uma lista da situação dos estudantes em que caso se sua média seja maior ou igual a 6 receberá o valor \"Aprovado\" e caso contrário receberá o valor \"Reprovado\". \n",
    "- Gerar uma lista de listas com:\n",
    "  - Lista de tuplas com o nome dos estudantes e seus códigos\n",
    "  - Lista de listas com as notas de cada estudante\n",
    "  - Lista com as médias de cada estudante\n",
    "  - Lista da situação dos estudantes de acordo com as médias\n",
    "\n",
    "Os dados que utilizaremos são os mesmos que geramos nas situações anteriores (`nomes`, `notas`, `medias`).\n",
    "\n",
    "**Vamos resolver esse desafio?**\n",
    "\n",
    "Para seguirmos o processo, vou deixar logo abaixo as estruturas de dados que já produzimos.\n",
    "\n",
    "**Dica:** Para a lista das situações utilize o formato:\n",
    "```python\n",
    "[resultado_if if cond else resultado_else for item in lista]\n",
    "```"
   ]
  },
  {
   "cell_type": "code",
   "execution_count": null,
   "metadata": {
    "id": "-QlKML-tG6FN"
   },
   "outputs": [],
   "source": [
    "nomes = [('João', 'J720'), ('Maria', 'M205'), ('José', 'J371'), ('Cláudia', 'C546'), ('Ana', 'A347')]\n",
    "notas = [[8.0, 9.0, 10.0], [9.0, 7.0, 6.0], [3.4, 7.0, 7.0], [5.5, 6.6, 8.0], [6.0, 10.0, 9.5]]\n",
    "medias = [9.0, 7.3, 5.8, 6.7, 8.5]"
   ]
  },
  {
   "cell_type": "code",
   "execution_count": null,
   "metadata": {
    "id": "qYgaZthjQWQV"
   },
   "outputs": [],
   "source": []
  },
  {
   "cell_type": "markdown",
   "metadata": {
    "id": "0XsAi49IF9Ta"
   },
   "source": [
    "**Dica:** Para gerar a lista de listas do enunciado podemos utilizar o formato a seguir\n",
    "```python\n",
    "[expr for item in lista de listas]\n",
    "```"
   ]
  },
  {
   "cell_type": "code",
   "execution_count": null,
   "metadata": {
    "id": "G-AEgh4NGlvH"
   },
   "outputs": [],
   "source": []
  },
  {
   "cell_type": "markdown",
   "metadata": {
    "id": "4hkHEZGbGH7X"
   },
   "source": [
    "<font color=green>**Dica:**</font> Podemos recorrer a forma mais simples de geração de listas de lista com o uso direto dos colchetes sem necessitar de utilizar as expressões e o laço for na  abrangência de listas"
   ]
  },
  {
   "cell_type": "code",
   "execution_count": null,
   "metadata": {
    "id": "Oz2hU80RF82D"
   },
   "outputs": [],
   "source": []
  },
  {
   "cell_type": "markdown",
   "metadata": {
    "id": "NmohhDl-QRpx"
   },
   "source": [
    "## 3.3 Dict comprehension\n",
    "\n",
    "É uma forma simples e concisa de criar ou modificar um dicionário. Podemos aplicar condicionais e laços para criar diversos tipos de dicionários a partir de padrões que desejamos para a nossa estrutura de dados e com o suporte de iteráveis como listas ou sets.\n",
    "\n",
    "https://peps.python.org/pep-0274/\n",
    "\n",
    "#### Formato padrão:\n",
    "\n",
    "```python\n",
    "{chave: valor for item in lista}\n",
    "```"
   ]
  },
  {
   "cell_type": "markdown",
   "metadata": {
    "id": "kGt8hQXOKeIt"
   },
   "source": [
    "#### **Situação 11:**\n",
    "\n",
    "Agora, a nossa demanda consiste em gerar um dicionário a partir da lista de listas que criamos na Situação 10 para passar para a pessoa responsável por construir as tabelas para a análise dos dados. \n",
    "- As chaves do nosso dicionário serão as colunas identificando o tipo de dado\n",
    "- Os valores serão as listas com os dados correspondentes àquela chave.\n",
    "\n",
    "**Vamos resolver esse desafio?**\n",
    "\n",
    "Para facilitar o nosso entendimento do processo vamos trabalhar com uma turma fictícia de 5 estudantes.\n",
    "\n",
    "**Dica:** Utilize o formato\n",
    "\n",
    "```python\n",
    "{chave: valor for item in lista}\n",
    "```"
   ]
  },
  {
   "cell_type": "code",
   "execution_count": null,
   "metadata": {
    "id": "fD_TeWtOUQKQ"
   },
   "outputs": [],
   "source": [
    "lista_completa = [[('João', 'J720'), ('Maria', 'M205'), ('José', 'J371'), ('Cláudia', 'C546'), ('Ana', 'A347')],\n",
    "                  [[8.0, 9.0, 10.0], [9.0, 7.0, 6.0], [3.4, 7.0, 7.0], [5.5, 6.6, 8.0], [6.0, 10.0, 9.5]],\n",
    "                  [9.0, 7.3, 5.8, 6.7, 8.5],\n",
    "                  ['Aprovado', 'Aprovado', 'Reprovado', 'Aprovado', 'Aprovado']]"
   ]
  },
  {
   "cell_type": "code",
   "execution_count": null,
   "metadata": {
    "id": "xFkmjd4EKG7b"
   },
   "outputs": [],
   "source": [
    "# Colunas com os tipos dos dados (exceto nome)\n",
    "coluna = [\"Notas\", \"Média Final\", \"Situação\"]\n",
    "\n",
    "..."
   ]
  },
  {
   "cell_type": "code",
   "execution_count": null,
   "metadata": {
    "id": "yDPfgllCKVrt"
   },
   "outputs": [],
   "source": [
    "# Vamos por fim adicionar o nome dos estudantes, extraindo apenas seus nomes da lista de tuplas\n"
   ]
  },
  {
   "cell_type": "markdown",
   "metadata": {
    "id": "RxKC5WVoCYp3"
   },
   "source": [
    "## <font color=green> 4. LIDANDO COM EXCEÇÕES\n",
    "---"
   ]
  },
  {
   "cell_type": "markdown",
   "metadata": {
    "id": "MzOZ_0M3CU1x"
   },
   "source": [
    "Podemos notar em nosso caminho até aqui a existência de alguns erros e exceções na execução de algum comando. Como uma pessoa cientista de dados ou programador, você precisará estar atento a essas situações para evitar bugs ou problemas em seus códigos e análises que possam afetar a experiência tanto do usuário quanto a eficiência da sua análise.\n",
    "\n",
    "Existem basicamente duas formas distintas de erros: os **erros de sintaxe** e as **exceções**.\n",
    "\n",
    "Exceções são erros detectados durante a execução e que quebram o fluxo do programa encerrando-o caso não sejam tratadas.  \n",
    "\n",
    "Vamos aprender a identificar e tratar algumas das exceções aqui, mas é sempre importante mergulhar na documentação para pesquisar e verificar quais se enquadram nos seus projetos.\n",
    "\n",
    "**Documentação sobre erros e exceções:** https://docs.python.org/3/tutorial/errors.html"
   ]
  },
  {
   "cell_type": "markdown",
   "metadata": {
    "id": "x3E66krBST7K"
   },
   "source": [
    "## 4.1 Tratando Exceções\n",
    "\n",
    "O tratamento das exceções contribui estabelecendo um fluxo alternativo para a execução do código evitando a interrupção dos processos inesperadamente.\n",
    "\n",
    "Existe uma série de exceções e a partir do comportamento que queremos e dos erros que queremos tratar é possível construir um caminho para o usuário ou fornecer mais detalhes sobre aquela exceção.\n",
    "\n",
    "- Hierarquia das Exceções (https://docs.python.org/3/library/exceptions.html#exception-hierarchy)"
   ]
  },
  {
   "cell_type": "markdown",
   "metadata": {
    "id": "h9lj8Wfk__cl"
   },
   "source": [
    "### Try ... Except\n",
    "\n",
    "```python\n",
    "try:\n",
    "  # código a ser executado. Caso uma exceção seja lançada, pare imediatamente\n",
    "except <nome_da_excecao as e>:\n",
    "  # Se uma exceção for lançada no try, rode esse código, senão pule esta etapa\n",
    "```"
   ]
  },
  {
   "cell_type": "markdown",
   "metadata": {
    "id": "miwzhPNdD8Ty"
   },
   "source": [
    "#### **Situação 12:**\n",
    "\n",
    "Você criou um código que lê um dicionário com as notas dos estudantes e quis retornar a lista de notas de um estudante.\n",
    "\n",
    "Caso o(a) estudante não esteja matriculado(a) na turma devemos tratar a exceção para aparecer a mensagem \"Estudante não matriculado(a) na turma\". \n",
    "\n",
    "Vamos trabalhar nesse exemplo com a exceção **Key Error** que interromperá o processo desse pedaço do código. \n",
    "\n",
    "**Vamos testar esse primeiro tratamento?**"
   ]
  },
  {
   "cell_type": "code",
   "execution_count": null,
   "metadata": {
    "id": "PkMmeYxaDcIF"
   },
   "outputs": [],
   "source": [
    "notas = {'João': [8.0, 9.0, 10.0], 'Maria': [9.0, 7.0, 6.0], 'José': [3.4, 7.0, 8.0], 'Cláudia': [5.5, 6.6, 8.0], \n",
    " 'Ana': [6.0, 10.0, 9.5], 'Joaquim': [5.5, 7.5, 9.0], 'Júlia': [6.0, 8.0, 7.0], 'Pedro': [3.0, 4.0, 6.0]}"
   ]
  },
  {
   "cell_type": "code",
   "execution_count": null,
   "metadata": {
    "id": "AudrLS-BGGEy"
   },
   "outputs": [],
   "source": []
  },
  {
   "cell_type": "code",
   "execution_count": null,
   "metadata": {
    "id": "NEX6RRX7Wb0Y"
   },
   "outputs": [],
   "source": []
  },
  {
   "cell_type": "code",
   "execution_count": null,
   "metadata": {
    "id": "3oV8Bw-NGGiu"
   },
   "outputs": [],
   "source": []
  },
  {
   "cell_type": "markdown",
   "metadata": {
    "id": "hKhKzgQoBHLb"
   },
   "source": [
    "### Adicionando o Else\n",
    "\n",
    "```python\n",
    "try:\n",
    "  # código a ser executado. Caso uma exceção seja lançada, pare imediatamente\n",
    "except:\n",
    "  # Se uma exceção for lançada no try, rode esse código, senão pule esta etapa\n",
    "else:\n",
    "  # Se não houver uma exeção lançada pelo try, rode essa parte\n",
    "```"
   ]
  },
  {
   "cell_type": "markdown",
   "metadata": {
    "id": "USN3SA2tMjL0"
   },
   "source": [
    "#### **Situação 13:**\n",
    "\n",
    "Você criou um código que lê um dicionário com as notas dos estudantes e quis retornar a lista de notas de um estudante. \n",
    "\n",
    "Caso o(a) estudante não esteja matriculado(a) na classe devemos tratar a exceção para aparecer a mensagem \"Estudante não matriculado(a) na turma\" e se a exceção não for lançada devemos exibir a lista com as notas do(a) estudante. \n",
    "\n",
    "Vamos trabalhar nesse exemplo com a exceção **Key Error** que interromperá o processo desse pedaço do código. \n",
    "\n",
    "**Vamos testar esse tratamento?**"
   ]
  },
  {
   "cell_type": "code",
   "execution_count": null,
   "metadata": {
    "id": "zCdjBCDFLE_6"
   },
   "outputs": [],
   "source": [
    "notas = {'João': [8.0, 9.0, 10.0], 'Maria': [9.0, 7.0, 6.0], 'José': [3.4, 7.0, 8.0], 'Cláudia': [5.5, 6.6, 8.0], \n",
    " 'Ana': [6.0, 10.0, 9.5], 'Joaquim': [5.5, 7.5, 9.0], 'Júlia': [6.0, 8.0, 7.0], 'Pedro': [3.0, 4.0, 6.0]}"
   ]
  },
  {
   "cell_type": "code",
   "execution_count": null,
   "metadata": {
    "id": "NS4vABJPDcFN"
   },
   "outputs": [],
   "source": []
  },
  {
   "cell_type": "markdown",
   "metadata": {
    "id": "Dw_efTlbBhll"
   },
   "source": [
    "### Adicionando o finally\n",
    "\n",
    "```python\n",
    "try:\n",
    "  # código a ser executado. Caso uma exceção seja lançada, pare imediatamente\n",
    "except:\n",
    "  # Se uma exceção for lançada no try, rode esse código, senão pule esta etapa\n",
    "else:\n",
    "  # Se não houver uma exeção lançada pelo try, rode essa parte\n",
    "finally:\n",
    "  # Rode essa parte (com ou sem exceção)\n",
    "```"
   ]
  },
  {
   "cell_type": "markdown",
   "metadata": {
    "id": "jGtFVx5GdnsS"
   },
   "source": [
    "#### **Situação 14:**\n",
    "\n",
    "Você criou um código que lê um dicionário com as notas dos estudantes e quis retornar a lista de notas de um estudante. \n",
    "\n",
    "Caso o(a) estudante não esteja matriculado(a) na classe devemos tratar a exceção para aparecer a mensagem \"Estudante não matriculado(a) na turma\" e se a exceção não for lançada devemos exibir a lista com as notas do(a) estudante. Um texto avisando que \"A consulta foi encerrada!\" deve ser exibido com ou sem a exceção ser lançada.\n",
    "\n",
    "Vamos trabalhar nesse exemplo com a exceção **Key Error** que interromperá o processo desse pedaço do código. \n",
    "\n",
    "**Vamos testar esse tratamento?**"
   ]
  },
  {
   "cell_type": "code",
   "execution_count": null,
   "metadata": {
    "id": "uOLFoYweLN9W"
   },
   "outputs": [],
   "source": [
    "notas = {'João': [8.0, 9.0, 10.0], 'Maria': [9.0, 7.0, 6.0], 'José': [3.4, 7.0, 8.0], 'Cláudia': [5.5, 6.6, 8.0], \n",
    " 'Ana': [6.0, 10.0, 9.5], 'Joaquim': [5.5, 7.5, 9.0], 'Júlia': [6.0, 8.0, 7.0], 'Pedro': [3.0, 4.0, 6.0]}"
   ]
  },
  {
   "cell_type": "code",
   "execution_count": null,
   "metadata": {
    "id": "U8QCogXhBi8C"
   },
   "outputs": [],
   "source": []
  },
  {
   "cell_type": "markdown",
   "metadata": {
    "id": "HdjllLBpST_2"
   },
   "source": [
    "## 4.2 Raise\n",
    "\n",
    "Uma outra forma de trabalhar com as exceções em seu código, é criar as suas próprias exceções para determinados comportamentos que deseja em seu código. \n",
    "\n",
    "Para isso, utilizamos a palavra-chave `raise` junto ao tipo de exceção que deseja lançar e uma mensagem a ser exibida.   "
   ]
  },
  {
   "cell_type": "markdown",
   "metadata": {
    "id": "_nIOnDQufv6Z"
   },
   "source": [
    "```python\n",
    "raise NomeDoErro(\"mensagem_desejada\")\n",
    "```"
   ]
  },
  {
   "cell_type": "markdown",
   "metadata": {
    "id": "xapeB2ivgB7R"
   },
   "source": [
    "#### **Situação 15:**\n",
    "\n",
    "Você criou uma função para calcular a média de um estudante em uma dada matéria passando em uma lista as notas deste estudante. \n",
    "\n",
    "Você pretende tratar 2 situações:\n",
    "- Se a lista possuir um valor não numérico o cálculo de média não será executado e uma mensagem de \"Não foi possível calcular a média do(a) estudante. Só são aceitos valores numéricos!\" será exibida.\n",
    "- Caso a lista tenha mais de 4 notas, será lançada uma exceção do tipo **ValueError** informando que \"A lista não pode possuir mais de 4 notas.\" \n",
    "\n",
    "Um texto avisando que \"A consulta foi encerrada!\" deve ser exibido com ou sem a exceção ser lançada.\n",
    "\n",
    "**Vamos resolver esse desafio?**"
   ]
  },
  {
   "cell_type": "code",
   "execution_count": null,
   "metadata": {
    "id": "Hf7MQtMjSXS-"
   },
   "outputs": [],
   "source": [
    "def media(lista: list=[0]) -> float:\n",
    "  ''' Função para calcular a média de notas passadas por uma lista\n",
    "\n",
    "  lista: list, default [0]\n",
    "    Lista com as notas para calcular a média\n",
    "  return = calculo: float\n",
    "    Média calculada\n",
    "  '''\n",
    "  \n",
    "  calculo = sum(lista) / len(lista)\n",
    "\n",
    "  ...\n",
    "\n",
    "  return calculo"
   ]
  },
  {
   "cell_type": "code",
   "execution_count": null,
   "metadata": {
    "id": "gnlcrP93k8f2"
   },
   "outputs": [],
   "source": []
  },
  {
   "cell_type": "code",
   "execution_count": null,
   "metadata": {
    "id": "IprXe3qalX5J"
   },
   "outputs": [],
   "source": []
  },
  {
   "cell_type": "code",
   "execution_count": null,
   "metadata": {
    "id": "lO8OCMRzSXQv"
   },
   "outputs": [],
   "source": []
  },
  {
   "cell_type": "code",
   "execution_count": null,
   "metadata": {
    "id": "A-rA3l4hm4RA"
   },
   "outputs": [],
   "source": []
  },
  {
   "cell_type": "code",
   "execution_count": null,
   "metadata": {
    "id": "Jf3Sg5H-m4Za"
   },
   "outputs": [],
   "source": []
  }
 ],
 "metadata": {
  "colab": {
   "provenance": []
  },
  "kernelspec": {
   "display_name": "Python 3",
   "name": "python3"
  },
  "language_info": {
   "codemirror_mode": {
    "name": "ipython",
    "version": 3
   },
   "file_extension": ".py",
   "mimetype": "text/x-python",
   "name": "python",
   "nbconvert_exporter": "python",
   "pygments_lexer": "ipython3",
   "version": "3.13.1"
  }
 },
 "nbformat": 4,
 "nbformat_minor": 0
}
