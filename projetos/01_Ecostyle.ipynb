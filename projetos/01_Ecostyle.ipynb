{
 "cells": [
  {
   "cell_type": "markdown",
   "id": "c3a7c358",
   "metadata": {},
   "source": [
    "# Cenário 📊\n",
    "\n",
    "Acabo de ser contratado como Data Analyst pela empresa fictícia EcoStyle Co., um e-commerce de moda sustentável com operações no Brasil e na Europa.\n",
    "\n",
    "<br>\n",
    "\n",
    "## Contexto do negócio\n",
    "\n",
    "Modelo => Venda online de roupas e acessórios ecológicos (B2C) <br>\n",
    "Objetivo em 2025 => Aumentar a receita em 25 %, reduzir churn para < 5 % ao mês, otimizar investimento em marketing digital\n",
    "<br>\n",
    "Desafio atual: Crescemos rápido; agora precisamos saber onde investir e quais produtos/mercados impulsionam (ou travam) o crescimento.\n",
    "\n",
    "### 🗂️ Dados fornecidos\n",
    "\n",
    "*** Estão em formato CSV; você pode carregar com pd.read_csv(). ***\n",
    "- sales_2024.csv;\n",
    "- customers.csv;\n",
    "- marketing_spend.csv;\n",
    "- site_traffic.csv\n",
    "\n",
    "\n",
    "#### 🔍Perguntas que devem ser respondidas\n",
    "\n",
    ".📈 Como evoluíram as receitas mensais em 2024?\n",
    ".🏆 Quais 10 sub-categorias geraram mais receita e margem? \n",
    ".💸 Qual canal traz melhor retorno (Revenue / Spend)?\n",
    ".🔄 Qual a taxa de recompra por coorte de mês de aquisição?\n",
    ".🕒 Há horário/dia com maior taxa de conversão?\n",
    "\n",
    "-------------------------\n",
    "\n",
    "Cronograma ⏱️\n",
    "\n",
    "Exploração & limpeza\taté 03 Jun 2025\n",
    "Visualizações preliminares\t06 Jun 2025\n",
    "Relatório final + recomendações\t10 Jun 2025\n"
   ]
  }
 ],
 "metadata": {
  "language_info": {
   "name": "python"
  }
 },
 "nbformat": 4,
 "nbformat_minor": 5
}
