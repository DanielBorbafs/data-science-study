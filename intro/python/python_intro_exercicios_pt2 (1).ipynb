{
  "nbformat": 4,
  "nbformat_minor": 0,
  "metadata": {
    "colab": {
      "provenance": []
    },
    "kernelspec": {
      "name": "python3",
      "display_name": "Python 3"
    },
    "language_info": {
      "name": "python"
    }
  },
  "cells": [
    {
      "cell_type": "markdown",
      "source": [
        "Recebemos uma demanda da instituição de ensino do nosso projeto que nos repassou uma lista de 20 estudantes e suas respectivas médias finais. Aqui, nós precisamos selecionar estudantes que tenham média final maior ou igual a 9.0. Esses(as) estudantes serão premiados(as) com uma bolsa de estudos para o próximo ano letivo.\n",
        "\n",
        "Para filtrar os dados, temos que gerar um dicionário cujas chaves são os nomes e os valores são as médias dos(as) estudantes selecionados(as). Estes são os dados recebidos:\n",
        "\n",
        "`{expressao_chave: expressao_valor for item in iteravel if condicao}`"
      ],
      "metadata": {
        "id": "P8TUW71C2SX1"
      }
    },
    {
      "cell_type": "code",
      "source": [
        "nomes_estudantes = [ \"Enrico Monteiro\", \"Luna Pereira\", \"Anthony Silveira\", \"Letícia Fernandes\",\n",
        "                    \"João Vitor Nascimento\", \"Maysa Caldeira\", \"Diana Carvalho\", \"Mariane da Rosa\",\n",
        "                    \"Camila Fernandes\", \"Levi Alves\", \"Nicolas da Rocha\", \"Amanda Novaes\",\n",
        "                    \"Laís Moraes\", \"Letícia Oliveira\", \"Lucca Novaes\", \"Lara Cunha\",\n",
        "                    \"Beatriz Martins\", \"João Vitor Azevedo\", \"Stephany Rosa\", \"Gustavo Henrique Lima\" ]\n",
        "\n",
        "medias_estudantes = [5.4, 4.1, 9.1, 5.3, 6.9, 3.1, 10.0, 5.0, 8.2, 5.5,\n",
        "                    8.1, 7.4, 5.0, 3.7, 8.1, 6.2, 6.1, 5.6, 6.7, 8.2]"
      ],
      "metadata": {
        "id": "ujOVOjGv2ePK"
      },
      "execution_count": 2,
      "outputs": []
    },
    {
      "cell_type": "code",
      "source": [
        "bolsistas = {nome: media               # Cria um dicionário 'bolsistas' onde cada chave será 'nome' e o valor será 'media'.\n",
        "             for nome, media in zip(nomes_estudantes, medias_estudantes)  # Para cada par de 'nome' e 'media' dos estudantes, combinados pela função zip().\n",
        "             if media >= 9.0}           # Inclui apenas os estudantes cujas médias são maiores ou iguais a 9.0.\n",
        "\n",
        "bolsistas\n"
      ],
      "metadata": {
        "colab": {
          "base_uri": "https://localhost:8080/",
          "height": 0
        },
        "id": "hFdWXAID3FQj",
        "outputId": "bcbdc8d3-4e61-4ddd-d224-c27675c55936"
      },
      "execution_count": 7,
      "outputs": [
        {
          "output_type": "execute_result",
          "data": {
            "text/plain": [
              "{'Anthony Silveira': 9.1, 'Diana Carvalho': 10.0}"
            ]
          },
          "metadata": {},
          "execution_count": 7
        }
      ]
    },
    {
      "cell_type": "markdown",
      "source": [
        "Crie um código para imprimir a soma dos elementos de cada uma das listas contidas na seguinte lista:"
      ],
      "metadata": {
        "id": "IZgCkdYR6eFk"
      }
    },
    {
      "cell_type": "code",
      "source": [
        "lista_de_listas = [[4,6,5,9], [1,0,7,2], [3,4,1,8]]"
      ],
      "metadata": {
        "id": "sFud3mG36Dfn"
      },
      "execution_count": 8,
      "outputs": []
    },
    {
      "cell_type": "code",
      "source": [
        "lista_soma = [sum(lista) for lista in lista_de_listas]\n",
        "\n",
        "lista_soma"
      ],
      "metadata": {
        "colab": {
          "base_uri": "https://localhost:8080/"
        },
        "id": "rogpHMMn6Fbd",
        "outputId": "1a68cabe-e4b5-417e-849b-b01f14101d82"
      },
      "execution_count": 9,
      "outputs": [
        {
          "output_type": "execute_result",
          "data": {
            "text/plain": [
              "[24, 10, 16]"
            ]
          },
          "metadata": {},
          "execution_count": 9
        }
      ]
    },
    {
      "cell_type": "markdown",
      "source": [
        "Crie um código para gerar uma lista que armazena o terceiro elemento de cada tupla contida na seguinte lista de tuplas:"
      ],
      "metadata": {
        "id": "CD38ph3d6giD"
      }
    },
    {
      "cell_type": "code",
      "source": [
        "lista_de_tuplas = [('Pedro', 1.74, 81), ('Júlia', 1.65, 67), ('Otávio', 1.81, 83)]\n",
        "nova_tupla = [tupla[2] for tupla in lista_de_tuplas]\n",
        "nova_tupla"
      ],
      "metadata": {
        "colab": {
          "base_uri": "https://localhost:8080/"
        },
        "id": "DDdTknVi6l4q",
        "outputId": "00e002ee-d514-4c82-c4e7-f5b9c35c7f25"
      },
      "execution_count": 21,
      "outputs": [
        {
          "output_type": "execute_result",
          "data": {
            "text/plain": [
              "[81, 67, 83]"
            ]
          },
          "metadata": {},
          "execution_count": 21
        }
      ]
    },
    {
      "cell_type": "code",
      "source": [
        "lista_de_tuplas = [('Pedro', 1.74, 81), ('Júlia', 1.65, 67), ('Otávio', 1.81, 83)]\n",
        "\n",
        "lista_vazia = []\n",
        "for tupla in lista_de_tuplas:\n",
        "    lista_vazia.append(tupla[2])"
      ],
      "metadata": {
        "id": "CbbjbHpl7bqe"
      },
      "execution_count": null,
      "outputs": []
    },
    {
      "cell_type": "markdown",
      "source": [
        "A partir da lista: lista = ['Pedro', 'Júlia', 'Otávio', 'Eduardo'], crie um código para gerar uma lista de tuplas em que cada tupla tenha o primeiro elemento como a posição do nome na lista original e o segundo elemento sendo o próprio nome."
      ],
      "metadata": {
        "id": "uZGo4RTx9FKd"
      }
    },
    {
      "cell_type": "code",
      "source": [
        "lista = ['Pedro', 'Júlia', 'Otávio', 'Eduardo']\n",
        "\n",
        "lista_tuplas = [(lista.index(nome), nome) for nome in lista]\n",
        "lista_tuplas\n"
      ],
      "metadata": {
        "colab": {
          "base_uri": "https://localhost:8080/"
        },
        "id": "GFOaRk-28vKm",
        "outputId": "010c23cb-f764-456b-d1b6-35912acd157a"
      },
      "execution_count": 26,
      "outputs": [
        {
          "output_type": "execute_result",
          "data": {
            "text/plain": [
              "[(0, 'Pedro'), (1, 'Júlia'), (2, 'Otávio'), (3, 'Eduardo')]"
            ]
          },
          "metadata": {},
          "execution_count": 26
        }
      ]
    },
    {
      "cell_type": "code",
      "source": [
        "aluguel = [('Apartamento', 1700), ('Apartamento', 1400), ('Casa', 2150), ('Apartamento', 1900), ('Casa', 1100)]\n",
        "valor_numerico = []\n",
        "\n",
        "for item in aluguel:\n",
        "    valor_numerico.append(item[1])\n",
        "\n",
        "valor_numerico"
      ],
      "metadata": {
        "colab": {
          "base_uri": "https://localhost:8080/"
        },
        "id": "e8TPvnp59TXJ",
        "outputId": "9b5d9565-0c7d-4b6c-ba0d-eca8eca9262f"
      },
      "execution_count": 28,
      "outputs": [
        {
          "output_type": "execute_result",
          "data": {
            "text/plain": [
              "[1700, 1400, 2150, 1900, 1100]"
            ]
          },
          "metadata": {},
          "execution_count": 28
        }
      ]
    },
    {
      "cell_type": "code",
      "source": [
        "aluguel = [('Apartamento', 1700), ('Apartamento', 1400), ('Casa', 2150), ('Apartamento', 1900), ('Casa', 1100)]\n",
        "numeros = []\n",
        "\n",
        "# Iterar pela lista\n",
        "for item in aluguel:\n",
        "    for elemento in item:  # Itera pelos elementos de cada tupla\n",
        "        if isinstance(elemento, int):  # Verifica se o elemento é um número inteiro\n",
        "            numeros.append(elemento)\n",
        "\n",
        "print(numeros)"
      ],
      "metadata": {
        "colab": {
          "base_uri": "https://localhost:8080/"
        },
        "id": "4sqIGhBh9mZw",
        "outputId": "fbcaee71-8ecd-4168-c18f-b3dd4d0d8426"
      },
      "execution_count": 30,
      "outputs": [
        {
          "output_type": "stream",
          "name": "stdout",
          "text": [
            "[1700, 1400, 2150, 1900, 1100]\n"
          ]
        }
      ]
    },
    {
      "cell_type": "code",
      "source": [
        "aluguel = [('Apartamento', 1700), ('Apartamento', 1400), ('Casa', 2150), ('Apartamento', 1900), ('Casa', 1100)]\n",
        "\n",
        "# Extrair somente os números\n",
        "numeros = [valor for _, valor in aluguel]\n",
        "\n",
        "print(numeros)"
      ],
      "metadata": {
        "colab": {
          "base_uri": "https://localhost:8080/"
        },
        "id": "Dzp7GEmH-IUu",
        "outputId": "88cc2f48-9abe-4567-f93a-be630d00b923"
      },
      "execution_count": 31,
      "outputs": [
        {
          "output_type": "stream",
          "name": "stdout",
          "text": [
            "[1700, 1400, 2150, 1900, 1100]\n"
          ]
        }
      ]
    },
    {
      "cell_type": "code",
      "source": [
        "vendas = [('2023', 4093), ('2021', 4320), ('2021', 5959), ('2022', 8883), ('2023', 9859), ('2022', 5141), ('2022', 7688), ('2022', 9544), ('2023', 4794), ('2021', 7178), ('2022', 3030), ('2021', 7471), ('2022', 4226), ('2022', 8190), ('2021', 9680), ('2022', 5616)]"
      ],
      "metadata": {
        "id": "H8yYygsj_BQc"
      },
      "execution_count": 32,
      "outputs": []
    },
    {
      "cell_type": "markdown",
      "source": [
        "Uma loja possui um banco de dados com a informação de venda de cada representante e de cada ano e precisa filtrar somente os dados do ano 2022 com venda maior do que 6000. A loja forneceu uma amostra contendo apenas as colunas com os anos e os valores de venda para que você ajude a realizar a filtragem dos dados a partir de um código:"
      ],
      "metadata": {
        "id": "J4EZYhC1_nKg"
      }
    },
    {
      "cell_type": "code",
      "source": [
        "filtro = [valor for valor in vendas if valor[0] == '2022' and valor[1] > 6000]\n",
        "filtro"
      ],
      "metadata": {
        "colab": {
          "base_uri": "https://localhost:8080/"
        },
        "id": "12sQZKp-_Frq",
        "outputId": "3deba336-b6ce-4851-f5e8-ac0761f7c66e"
      },
      "execution_count": 35,
      "outputs": [
        {
          "output_type": "execute_result",
          "data": {
            "text/plain": [
              "[('2022', 8883), ('2022', 7688), ('2022', 9544), ('2022', 8190)]"
            ]
          },
          "metadata": {},
          "execution_count": 35
        }
      ]
    },
    {
      "cell_type": "markdown",
      "source": [
        "Crie um dicionário usando o dict comprehension em que as chaves estão na lista meses = ['Jan', 'Fev', 'Mar', 'Abr', 'Mai', 'Jun', 'Jul', 'Ago', 'Set', 'Out', 'Nov', 'Dez'] e os valores estão em despesa = [860, 490, 1010, 780, 900, 630, 590, 770, 620, 560, 840, 360]."
      ],
      "metadata": {
        "id": "hLPJ8L8L_8UV"
      }
    },
    {
      "cell_type": "code",
      "source": [
        "meses = ['Jan', 'Fev', 'Mar', 'Abr', 'Mai', 'Jun', 'Jul', 'Ago', 'Set', 'Out', 'Nov', 'Dez']\n",
        "despesa = [860, 490, 1010, 780, 900, 630, 590, 770, 620, 560, 840, 360]\n",
        "\n",
        "juncao = {mes: valor for mes, valor in zip(meses, despesa)}\n",
        "juncao"
      ],
      "metadata": {
        "colab": {
          "base_uri": "https://localhost:8080/"
        },
        "id": "FRLkZnLs_-Z1",
        "outputId": "17844f2c-54d6-4e54-e32f-e71bbac729d9"
      },
      "execution_count": 41,
      "outputs": [
        {
          "output_type": "execute_result",
          "data": {
            "text/plain": [
              "{'Jan': 860,\n",
              " 'Fev': 490,\n",
              " 'Mar': 1010,\n",
              " 'Abr': 780,\n",
              " 'Mai': 900,\n",
              " 'Jun': 630,\n",
              " 'Jul': 590,\n",
              " 'Ago': 770,\n",
              " 'Set': 620,\n",
              " 'Out': 560,\n",
              " 'Nov': 840,\n",
              " 'Dez': 360}"
            ]
          },
          "metadata": {},
          "execution_count": 41
        }
      ]
    },
    {
      "cell_type": "code",
      "source": [
        "juncao_2 = zip(meses,despesa)\n",
        "juncao_2 = dict(juncao_2)\n",
        "juncao_2"
      ],
      "metadata": {
        "colab": {
          "base_uri": "https://localhost:8080/"
        },
        "id": "4VxRqXOUAdmL",
        "outputId": "98552853-865f-4239-bf25-f07354fde647"
      },
      "execution_count": 46,
      "outputs": [
        {
          "output_type": "execute_result",
          "data": {
            "text/plain": [
              "{'Jan': 860,\n",
              " 'Fev': 490,\n",
              " 'Mar': 1010,\n",
              " 'Abr': 780,\n",
              " 'Mai': 900,\n",
              " 'Jun': 630,\n",
              " 'Jul': 590,\n",
              " 'Ago': 770,\n",
              " 'Set': 620,\n",
              " 'Out': 560,\n",
              " 'Nov': 840,\n",
              " 'Dez': 360}"
            ]
          },
          "metadata": {},
          "execution_count": 46
        }
      ]
    },
    {
      "cell_type": "code",
      "source": [
        "soma_total = sum(juncao_2.values())\n",
        "soma_total"
      ],
      "metadata": {
        "colab": {
          "base_uri": "https://localhost:8080/"
        },
        "id": "wNJnqtAoArUK",
        "outputId": "025bed5d-7864-4987-9928-05c72163d445"
      },
      "execution_count": 47,
      "outputs": [
        {
          "output_type": "execute_result",
          "data": {
            "text/plain": [
              "8410"
            ]
          },
          "metadata": {},
          "execution_count": 47
        }
      ]
    },
    {
      "cell_type": "markdown",
      "source": [
        "Uma clínica analisa dados de pacientes e armazena o valor numérico da glicose em um banco de dados e gostaria de rotular os dados da seguinte maneira:\n",
        "\n",
        "Glicose igual ou inferior a 70: 'Hipoglicemia'\n",
        "Glicose entre 70 a 99: 'Normal'\n",
        "Glicose entre 100 e 125: 'Alterada'\n",
        "Glicose superior a 125: 'Diabetes'\n",
        "A clínica disponibilizou parte dos valores e sua tarefa é criar uma lista de tuplas usando list comprehension contendo o rótulo e o valor da glicemia em cada tupla."
      ],
      "metadata": {
        "id": "PtccwLzrA4OZ"
      }
    },
    {
      "cell_type": "code",
      "source": [
        "glicemia = [129, 82, 60, 97, 101, 65, 62, 167, 87, 53, 58, 92, 66, 120, 109, 62, 86, 96, 103, 88, 155, 52, 89, 73]\n",
        "\n",
        "# Criar a lista de tuplas com rótulos\n",
        "rotulos = [\n",
        "    (valor, 'Hipoglicemia') if valor <= 70 else\n",
        "    (valor, 'Normal') if 70 < valor <= 99 else\n",
        "    (valor, 'Alterada') if 100 <= valor <= 125 else\n",
        "    (valor, 'Diabetes')\n",
        "    for valor in glicemia\n",
        "]\n",
        "\n",
        "# Exibir a lista rotulada\n",
        "print(rotulos)\n"
      ],
      "metadata": {
        "colab": {
          "base_uri": "https://localhost:8080/"
        },
        "id": "WnXroHiZA5Ip",
        "outputId": "518e350c-14f1-4aa5-dec2-056ef3893596"
      },
      "execution_count": 51,
      "outputs": [
        {
          "output_type": "stream",
          "name": "stdout",
          "text": [
            "[(129, 'Diabetes'), (82, 'Normal'), (60, 'Hipoglicemia'), (97, 'Normal'), (101, 'Alterada'), (65, 'Hipoglicemia'), (62, 'Hipoglicemia'), (167, 'Diabetes'), (87, 'Normal'), (53, 'Hipoglicemia'), (58, 'Hipoglicemia'), (92, 'Normal'), (66, 'Hipoglicemia'), (120, 'Alterada'), (109, 'Alterada'), (62, 'Hipoglicemia'), (86, 'Normal'), (96, 'Normal'), (103, 'Alterada'), (88, 'Normal'), (155, 'Diabetes'), (52, 'Hipoglicemia'), (89, 'Normal'), (73, 'Normal')]\n"
          ]
        }
      ]
    }
  ]
}