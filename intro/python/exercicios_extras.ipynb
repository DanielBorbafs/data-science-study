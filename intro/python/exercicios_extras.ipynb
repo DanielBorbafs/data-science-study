{
 "cells": [
  {
   "cell_type": "markdown",
   "metadata": {},
   "source": [
    "Recebemos uma demanda da instituição de ensino do nosso projeto que nos repassou uma lista de 20 estudantes e suas respectivas médias finais. Aqui, nós precisamos selecionar estudantes que tenham média final maior ou igual a 9.0. Esses(as) estudantes serão premiados(as) com uma bolsa de estudos para o próximo ano letivo.\n",
    "\n",
    "Para filtrar os dados, temos que gerar um dicionário cujas chaves são os nomes e os valores são as médias dos(as) estudantes selecionados(as). Estes são os dados recebidos:\n",
    "\n",
    "Dica ⇒ utilize a forma:\n",
    "\n",
    "{expressao_chave: expressao_valor for item in iteravel if condicao}"
   ]
  },
  {
   "cell_type": "code",
   "execution_count": null,
   "metadata": {},
   "outputs": [],
   "source": [
    "nomes_estudantes = [ \"Enrico Monteiro\", \"Luna Pereira\", \"Anthony Silveira\", \"Letícia Fernandes\", \n",
    "                    \"João Vitor Nascimento\", \"Maysa Caldeira\", \"Diana Carvalho\", \"Mariane da Rosa\",\n",
    "                    \"Camila Fernandes\", \"Levi Alves\", \"Nicolas da Rocha\", \"Amanda Novaes\", \n",
    "                    \"Laís Moraes\", \"Letícia Oliveira\", \"Lucca Novaes\", \"Lara Cunha\", \n",
    "                    \"Beatriz Martins\", \"João Vitor Azevedo\", \"Stephany Rosa\", \"Gustavo Henrique Lima\" ]\n",
    "\n",
    "medias_estudantes = [5.4, 4.1, 9.1, 5.3, 6.9, 3.1, 10.0, 5.0, 8.2, 5.5,\n",
    "                    8.1, 7.4, 5.0, 3.7, 8.1, 6.2, 6.1, 5.6, 6.7, 8.2]"
   ]
  }
 ],
 "metadata": {
  "language_info": {
   "name": "python"
  }
 },
 "nbformat": 4,
 "nbformat_minor": 2
}
