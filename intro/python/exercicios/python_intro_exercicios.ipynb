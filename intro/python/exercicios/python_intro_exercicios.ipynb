{
  "nbformat": 4,
  "nbformat_minor": 0,
  "metadata": {
    "colab": {
      "provenance": []
    },
    "kernelspec": {
      "name": "python3",
      "display_name": "Python 3"
    },
    "language_info": {
      "name": "python"
    }
  },
  "cells": [
    {
      "cell_type": "markdown",
      "source": [
        "Aquecimento\n",
        "1. Escreva um código para instalar a versão 3.7.1 da biblioteca matplotlib.\n",
        "\n",
        "2. Escreva um código para importar a biblioteca numpy com o alias np.\n",
        "\n",
        "3. Crie um programa que leia a seguinte lista de números e escolha um número desta aleatoriamente.\n",
        "\n",
        "\n",
        "\n",
        "```\n",
        "lista = [8, 12, 54, 23, 43, 1, 90, 87, 105, 77]\n",
        "```\n",
        "\n"
      ],
      "metadata": {
        "id": "5yPKdFyxhx5z"
      }
    },
    {
      "cell_type": "code",
      "execution_count": 1,
      "metadata": {
        "colab": {
          "base_uri": "https://localhost:8080/",
          "height": 516
        },
        "id": "SwHB63jchsNV",
        "outputId": "1f5091d9-5b0a-4a63-f886-09828b29a858"
      },
      "outputs": [
        {
          "output_type": "stream",
          "name": "stdout",
          "text": [
            "Collecting matplotlib==3.7.1\n",
            "  Downloading matplotlib-3.7.1-cp310-cp310-manylinux_2_17_x86_64.manylinux2014_x86_64.whl.metadata (5.6 kB)\n",
            "Requirement already satisfied: contourpy>=1.0.1 in /usr/local/lib/python3.10/dist-packages (from matplotlib==3.7.1) (1.3.1)\n",
            "Requirement already satisfied: cycler>=0.10 in /usr/local/lib/python3.10/dist-packages (from matplotlib==3.7.1) (0.12.1)\n",
            "Requirement already satisfied: fonttools>=4.22.0 in /usr/local/lib/python3.10/dist-packages (from matplotlib==3.7.1) (4.55.3)\n",
            "Requirement already satisfied: kiwisolver>=1.0.1 in /usr/local/lib/python3.10/dist-packages (from matplotlib==3.7.1) (1.4.7)\n",
            "Requirement already satisfied: numpy>=1.20 in /usr/local/lib/python3.10/dist-packages (from matplotlib==3.7.1) (1.26.4)\n",
            "Requirement already satisfied: packaging>=20.0 in /usr/local/lib/python3.10/dist-packages (from matplotlib==3.7.1) (24.2)\n",
            "Requirement already satisfied: pillow>=6.2.0 in /usr/local/lib/python3.10/dist-packages (from matplotlib==3.7.1) (11.0.0)\n",
            "Requirement already satisfied: pyparsing>=2.3.1 in /usr/local/lib/python3.10/dist-packages (from matplotlib==3.7.1) (3.2.0)\n",
            "Requirement already satisfied: python-dateutil>=2.7 in /usr/local/lib/python3.10/dist-packages (from matplotlib==3.7.1) (2.8.2)\n",
            "Requirement already satisfied: six>=1.5 in /usr/local/lib/python3.10/dist-packages (from python-dateutil>=2.7->matplotlib==3.7.1) (1.17.0)\n",
            "Downloading matplotlib-3.7.1-cp310-cp310-manylinux_2_17_x86_64.manylinux2014_x86_64.whl (11.6 MB)\n",
            "\u001b[2K   \u001b[90m━━━━━━━━━━━━━━━━━━━━━━━━━━━━━━━━━━━━━━━━\u001b[0m \u001b[32m11.6/11.6 MB\u001b[0m \u001b[31m50.6 MB/s\u001b[0m eta \u001b[36m0:00:00\u001b[0m\n",
            "\u001b[?25hInstalling collected packages: matplotlib\n",
            "  Attempting uninstall: matplotlib\n",
            "    Found existing installation: matplotlib 3.8.0\n",
            "    Uninstalling matplotlib-3.8.0:\n",
            "      Successfully uninstalled matplotlib-3.8.0\n",
            "\u001b[31mERROR: pip's dependency resolver does not currently take into account all the packages that are installed. This behaviour is the source of the following dependency conflicts.\n",
            "plotnine 0.14.4 requires matplotlib>=3.8.0, but you have matplotlib 3.7.1 which is incompatible.\u001b[0m\u001b[31m\n",
            "\u001b[0mSuccessfully installed matplotlib-3.7.1\n"
          ]
        },
        {
          "output_type": "display_data",
          "data": {
            "application/vnd.colab-display-data+json": {
              "pip_warning": {
                "packages": [
                  "matplotlib",
                  "mpl_toolkits"
                ]
              },
              "id": "e1881e26c6024f74868c53f5afe14c41"
            }
          },
          "metadata": {}
        }
      ],
      "source": [
        "# atividade 1\n",
        "! pip install matplotlib==3.7.1"
      ]
    },
    {
      "cell_type": "code",
      "source": [
        "import numpy as np"
      ],
      "metadata": {
        "id": "pcKKeFdDi47j"
      },
      "execution_count": 2,
      "outputs": []
    },
    {
      "cell_type": "code",
      "source": [
        "lista = [8, 12, 54, 23, 43, 1, 90, 87, 105, 77]"
      ],
      "metadata": {
        "id": "08jt4Te7jG-a"
      },
      "execution_count": 3,
      "outputs": []
    },
    {
      "cell_type": "code",
      "source": [
        "from random import choice\n",
        "sorteio = choice(lista)\n",
        "sorteio"
      ],
      "metadata": {
        "colab": {
          "base_uri": "https://localhost:8080/"
        },
        "id": "G1G1FE09jJyB",
        "outputId": "2e77cf60-d037-4dbb-934a-41fbf47523c8"
      },
      "execution_count": 4,
      "outputs": [
        {
          "output_type": "execute_result",
          "data": {
            "text/plain": [
              "87"
            ]
          },
          "metadata": {},
          "execution_count": 4
        }
      ]
    },
    {
      "cell_type": "markdown",
      "source": [
        "Crie um programa que sorteia, aleatoriamente, um número inteiro positivo menor que 100.\n",
        "\n",
        "Dica: use a função randrange() da biblioteca random. Essa função recebe como parâmetro o valor limite para a escolha aleatória ou um intervalo se passado o limite mínimo e máximo. Por exemplo, randrange(5) gera valores inteiros menores que 5."
      ],
      "metadata": {
        "id": "oIEnSkD_kUWx"
      }
    },
    {
      "cell_type": "code",
      "source": [
        "from random import randrange\n",
        "\n",
        "numero_int = randrange(100)\n",
        "numero_int"
      ],
      "metadata": {
        "colab": {
          "base_uri": "https://localhost:8080/"
        },
        "id": "ABOv9Ot7lNg4",
        "outputId": "0285f754-aa0f-4ad5-ac06-059c27c6d5cc"
      },
      "execution_count": 5,
      "outputs": [
        {
          "output_type": "execute_result",
          "data": {
            "text/plain": [
              "4"
            ]
          },
          "metadata": {},
          "execution_count": 5
        }
      ]
    },
    {
      "cell_type": "code",
      "source": [
        "from random import randrange\n",
        "\n",
        "def sorteia_par():\n",
        "  numero_sorteado = randrange(100)\n",
        "  if numero_sorteado % 2 == 0:\n",
        "    print(f'O {numero_sorteado} é par')\n",
        "  else:\n",
        "    sorteia_par()\n",
        "\n",
        "sorteia_par()"
      ],
      "metadata": {
        "colab": {
          "base_uri": "https://localhost:8080/"
        },
        "id": "bHqdU1FxkZPA",
        "outputId": "680dabdf-48e3-4186-c48c-9ce6c4bb5e8b"
      },
      "execution_count": 6,
      "outputs": [
        {
          "output_type": "stream",
          "name": "stdout",
          "text": [
            "O 12 é par\n"
          ]
        }
      ]
    },
    {
      "cell_type": "markdown",
      "source": [
        "5. Crie um programa que solicite à pessoa usuária digitar dois números inteiros e calcular a potência do 1º número elevado ao 2º."
      ],
      "metadata": {
        "id": "10JXynroljFn"
      }
    },
    {
      "cell_type": "code",
      "source": [
        "from math import pow\n",
        "\n",
        "def solicita_numero():\n",
        "  x = int(input('Digite um número:'))\n",
        "  y = int(input('Digite outro número:'))\n",
        "  potencia = pow(x,y)\n",
        "  print(f'A potência do {x}, por {y} é {potencia}')\n",
        "\n",
        "\n",
        "solicita_numero()\n"
      ],
      "metadata": {
        "colab": {
          "base_uri": "https://localhost:8080/",
          "height": 339
        },
        "id": "-QjrZbzgljuH",
        "outputId": "577ac588-dfc9-44e4-9b52-0ca8e3f30d99"
      },
      "execution_count": 7,
      "outputs": [
        {
          "output_type": "error",
          "ename": "KeyboardInterrupt",
          "evalue": "Interrupted by user",
          "traceback": [
            "\u001b[0;31m---------------------------------------------------------------------------\u001b[0m",
            "\u001b[0;31mKeyboardInterrupt\u001b[0m                         Traceback (most recent call last)",
            "\u001b[0;32m<ipython-input-7-4b22202ca873>\u001b[0m in \u001b[0;36m<cell line: 10>\u001b[0;34m()\u001b[0m\n\u001b[1;32m      8\u001b[0m \u001b[0;34m\u001b[0m\u001b[0m\n\u001b[1;32m      9\u001b[0m \u001b[0;34m\u001b[0m\u001b[0m\n\u001b[0;32m---> 10\u001b[0;31m \u001b[0msolicita_numero\u001b[0m\u001b[0;34m(\u001b[0m\u001b[0;34m)\u001b[0m\u001b[0;34m\u001b[0m\u001b[0;34m\u001b[0m\u001b[0m\n\u001b[0m",
            "\u001b[0;32m<ipython-input-7-4b22202ca873>\u001b[0m in \u001b[0;36msolicita_numero\u001b[0;34m()\u001b[0m\n\u001b[1;32m      2\u001b[0m \u001b[0;34m\u001b[0m\u001b[0m\n\u001b[1;32m      3\u001b[0m \u001b[0;32mdef\u001b[0m \u001b[0msolicita_numero\u001b[0m\u001b[0;34m(\u001b[0m\u001b[0;34m)\u001b[0m\u001b[0;34m:\u001b[0m\u001b[0;34m\u001b[0m\u001b[0;34m\u001b[0m\u001b[0m\n\u001b[0;32m----> 4\u001b[0;31m   \u001b[0mx\u001b[0m \u001b[0;34m=\u001b[0m \u001b[0mint\u001b[0m\u001b[0;34m(\u001b[0m\u001b[0minput\u001b[0m\u001b[0;34m(\u001b[0m\u001b[0;34m'Digite um número:'\u001b[0m\u001b[0;34m)\u001b[0m\u001b[0;34m)\u001b[0m\u001b[0;34m\u001b[0m\u001b[0;34m\u001b[0m\u001b[0m\n\u001b[0m\u001b[1;32m      5\u001b[0m   \u001b[0my\u001b[0m \u001b[0;34m=\u001b[0m \u001b[0mint\u001b[0m\u001b[0;34m(\u001b[0m\u001b[0minput\u001b[0m\u001b[0;34m(\u001b[0m\u001b[0;34m'Digite outro número:'\u001b[0m\u001b[0;34m)\u001b[0m\u001b[0;34m)\u001b[0m\u001b[0;34m\u001b[0m\u001b[0;34m\u001b[0m\u001b[0m\n\u001b[1;32m      6\u001b[0m   \u001b[0mpotencia\u001b[0m \u001b[0;34m=\u001b[0m \u001b[0mpow\u001b[0m\u001b[0;34m(\u001b[0m\u001b[0mx\u001b[0m\u001b[0;34m,\u001b[0m\u001b[0my\u001b[0m\u001b[0;34m)\u001b[0m\u001b[0;34m\u001b[0m\u001b[0;34m\u001b[0m\u001b[0m\n",
            "\u001b[0;32m/usr/local/lib/python3.10/dist-packages/ipykernel/kernelbase.py\u001b[0m in \u001b[0;36mraw_input\u001b[0;34m(self, prompt)\u001b[0m\n\u001b[1;32m    849\u001b[0m                 \u001b[0;34m\"raw_input was called, but this frontend does not support input requests.\"\u001b[0m\u001b[0;34m\u001b[0m\u001b[0;34m\u001b[0m\u001b[0m\n\u001b[1;32m    850\u001b[0m             )\n\u001b[0;32m--> 851\u001b[0;31m         return self._input_request(str(prompt),\n\u001b[0m\u001b[1;32m    852\u001b[0m             \u001b[0mself\u001b[0m\u001b[0;34m.\u001b[0m\u001b[0m_parent_ident\u001b[0m\u001b[0;34m,\u001b[0m\u001b[0;34m\u001b[0m\u001b[0;34m\u001b[0m\u001b[0m\n\u001b[1;32m    853\u001b[0m             \u001b[0mself\u001b[0m\u001b[0;34m.\u001b[0m\u001b[0m_parent_header\u001b[0m\u001b[0;34m,\u001b[0m\u001b[0;34m\u001b[0m\u001b[0;34m\u001b[0m\u001b[0m\n",
            "\u001b[0;32m/usr/local/lib/python3.10/dist-packages/ipykernel/kernelbase.py\u001b[0m in \u001b[0;36m_input_request\u001b[0;34m(self, prompt, ident, parent, password)\u001b[0m\n\u001b[1;32m    893\u001b[0m             \u001b[0;32mexcept\u001b[0m \u001b[0mKeyboardInterrupt\u001b[0m\u001b[0;34m:\u001b[0m\u001b[0;34m\u001b[0m\u001b[0;34m\u001b[0m\u001b[0m\n\u001b[1;32m    894\u001b[0m                 \u001b[0;31m# re-raise KeyboardInterrupt, to truncate traceback\u001b[0m\u001b[0;34m\u001b[0m\u001b[0;34m\u001b[0m\u001b[0m\n\u001b[0;32m--> 895\u001b[0;31m                 \u001b[0;32mraise\u001b[0m \u001b[0mKeyboardInterrupt\u001b[0m\u001b[0;34m(\u001b[0m\u001b[0;34m\"Interrupted by user\"\u001b[0m\u001b[0;34m)\u001b[0m \u001b[0;32mfrom\u001b[0m \u001b[0;32mNone\u001b[0m\u001b[0;34m\u001b[0m\u001b[0;34m\u001b[0m\u001b[0m\n\u001b[0m\u001b[1;32m    896\u001b[0m             \u001b[0;32mexcept\u001b[0m \u001b[0mException\u001b[0m \u001b[0;32mas\u001b[0m \u001b[0me\u001b[0m\u001b[0;34m:\u001b[0m\u001b[0;34m\u001b[0m\u001b[0;34m\u001b[0m\u001b[0m\n\u001b[1;32m    897\u001b[0m                 \u001b[0mself\u001b[0m\u001b[0;34m.\u001b[0m\u001b[0mlog\u001b[0m\u001b[0;34m.\u001b[0m\u001b[0mwarning\u001b[0m\u001b[0;34m(\u001b[0m\u001b[0;34m\"Invalid Message:\"\u001b[0m\u001b[0;34m,\u001b[0m \u001b[0mexc_info\u001b[0m\u001b[0;34m=\u001b[0m\u001b[0;32mTrue\u001b[0m\u001b[0;34m)\u001b[0m\u001b[0;34m\u001b[0m\u001b[0;34m\u001b[0m\u001b[0m\n",
            "\u001b[0;31mKeyboardInterrupt\u001b[0m: Interrupted by user"
          ]
        }
      ]
    },
    {
      "cell_type": "markdown",
      "source": [
        "Um programa deve ser escrito para sortear uma pessoa seguidora de uma rede social para ganhar um prêmio. A lista de participantes é numerada e devemos escolher aleatoriamente um número de acordo com a quantidade de participantes. Peça à pessoa usuária para fornecer o número de participantes do sorteio e devolva para ela o número sorteado."
      ],
      "metadata": {
        "id": "iPpgoBpUsBZy"
      }
    },
    {
      "cell_type": "code",
      "source": [
        "from random import randrange\n",
        "\n",
        "def sorteia_numero():\n",
        "  numero_sorteio = int(input('Digite o número de participantes '))\n",
        "  numero_sorteio = randrange(numero_sorteio)\n",
        "  print(f'O numero sorteado foi {numero_sorteio}')\n",
        "\n",
        "sorteia_numero()\n"
      ],
      "metadata": {
        "id": "zGbk0n9bsKbp"
      },
      "execution_count": null,
      "outputs": []
    },
    {
      "cell_type": "markdown",
      "source": [
        "Você recebeu uma demanda para gerar números de token para acessar o aplicativo de uma empresa. O token precisa ser par e variar de 1000 até 9998. Escreva um código que solicita à pessoa usuária o seu nome e exibe uma mensagem junto a esse token gerado aleatoriamente.\n",
        "\n",
        "\"Olá, [nome], o seu token de acesso é [token]! Seja bem-vindo(a)!\"\n",
        "\n"
      ],
      "metadata": {
        "id": "Xlcr9Nxb3A1R"
      }
    },
    {
      "cell_type": "code",
      "source": [
        "from random import randrange\n",
        "\n",
        "nome = str(input('Digite seu nome '))\n",
        "\n",
        "def gera_token():\n",
        "  token = randrange(1000, 9998)\n",
        "  if token % 2 == 0:\n",
        "    print(f'Olá {nome}, seu token é {token}')\n",
        "  else:\n",
        "    gera_token()\n",
        "\n",
        "\n",
        "gera_token()"
      ],
      "metadata": {
        "id": "mr0OUHWpMEQV"
      },
      "execution_count": null,
      "outputs": []
    },
    {
      "cell_type": "code",
      "source": [
        "def gera_tokenPar():\n",
        "  token = randrange(1000,9998, 2)\n",
        "  print(f'Olá {nome}, seu token é {token}')\n",
        "\n",
        "gera_tokenPar()"
      ],
      "metadata": {
        "id": "zR_MuWVcMu-8"
      },
      "execution_count": null,
      "outputs": []
    },
    {
      "cell_type": "markdown",
      "source": [
        "Para diversificar e atrair novos(as) clientes, uma lanchonete criou um item misterioso em seu cardápio chamado \"salada de frutas surpresa\". Neste item, são escolhidas aleatoriamente 3 frutas de uma lista de 12 para compor a salada de frutas da pessoa cliente. Crie o código que faça essa seleção aleatória de acordo com a lista abaixo:"
      ],
      "metadata": {
        "id": "171hRkwsN1DL"
      }
    },
    {
      "cell_type": "code",
      "source": [
        "frutas = [\"maçã\", \"banana\", \"uva\", \"pêra\",\n",
        "          \"manga\", \"coco\", \"melancia\", \"mamão\",\n",
        "          \"laranja\", \"abacaxi\", \"kiwi\", \"ameixa\"]"
      ],
      "metadata": {
        "id": "WnVK4tgPi2YS"
      },
      "execution_count": null,
      "outputs": []
    },
    {
      "cell_type": "code",
      "source": [
        "import random\n",
        "\n",
        "sorteio = random.choices(frutas, k=6)\n",
        "\n",
        "sorteio"
      ],
      "metadata": {
        "id": "j57RFE38jVBP"
      },
      "execution_count": null,
      "outputs": []
    },
    {
      "cell_type": "markdown",
      "source": [],
      "metadata": {
        "id": "i6qyg7Huj0xu"
      }
    },
    {
      "cell_type": "code",
      "source": [
        "import math\n",
        "numeros = [2, 8, 15, 23, 91, 112, 256]\n",
        "\n",
        "def raiz_quadrada():\n",
        "  for numero in numeros:\n",
        "    raiz = math.sqrt(numero)\n",
        "    if numero >= 0:\n",
        "      print(f'A raiz quadrada de {numero} é {raiz}')\n",
        "      if raiz.is_integer():\n",
        "        print(f'O número {raiz} é inteiro')\n",
        "      else:\n",
        "        print(f'O número {raiz} é float')\n",
        "    else:\n",
        "      raiz_quadrada()\n",
        "\n",
        "\n",
        "raiz_quadrada()\n",
        "#"
      ],
      "metadata": {
        "id": "5Gb-550Aj06I"
      },
      "execution_count": null,
      "outputs": []
    },
    {
      "cell_type": "markdown",
      "source": [
        "Faça um programa para uma loja que vende grama para jardins. Essa loja trabalha com jardins circulares e o preço do metro quadrado da grama é de R$ 25,00. Peça à pessoa usuária o raio da área circular e devolva o valor em reais do quanto precisará pagar."
      ],
      "metadata": {
        "id": "XnVCbPKXotf9"
      }
    },
    {
      "cell_type": "code",
      "source": [
        "import math\n",
        "preco_m2 = 25\n",
        "\n",
        "raio = float(input('Digite o raio da áreia circular:'))\n",
        "\n",
        "area = math.pi * pow(raio,2)\n",
        "\n",
        "print(f'A área do jardim circular é {area:.2f} metros quadrados.')\n",
        "\n",
        "preco_total = area * preco_m2\n",
        "\n",
        "print(f'O valor a ser pago é de R$ {preco_total:.2f}')"
      ],
      "metadata": {
        "id": "MfdPqp_howqS"
      },
      "execution_count": null,
      "outputs": []
    },
    {
      "cell_type": "markdown",
      "source": [
        " Escreva um código que lê a lista abaixo e faça:\n",
        "\n",
        "```\n",
        "# lista = [16, 14, 63, 65, 17, 99, 70, 11, 20, 48, 79, 32, 17, 89, 12, 25, 66]\n",
        "```\n",
        "A leitura do tamanho da lista\n",
        "A leitura do maior e menor valor\n",
        "A soma dos valores da lista\n"
      ],
      "metadata": {
        "id": "Lv92UMfdkJeW"
      }
    },
    {
      "cell_type": "code",
      "source": [
        "lista = [16, 14, 63, 65, 17, 99, 70, 11, 20, 48, 79, 32, 17, 89, 12, 25, 66]\n",
        "\n",
        "lista_len = len(lista)\n",
        "lista_max = max(lista)\n",
        "lista_min = min(lista)\n",
        "lista_sum = sum(lista)\n",
        "\n",
        "print(f'A lista possui {lista_len} números, no qual o maior é o {lista_max} \\n o menor é {lista_min} e a soma de todos os números resulta em {lista_sum}')"
      ],
      "metadata": {
        "id": "urNPC1IPkPtF"
      },
      "execution_count": null,
      "outputs": []
    },
    {
      "cell_type": "code",
      "source": [
        "def geratabuada():\n",
        "  numero_solicitante = int(input('Digite um número '))\n",
        "  for i in range(1, 11):\n",
        "    print(f'{numero_solicitante} x {i} = {numero_solicitante * i}')\n",
        "\n",
        "geratabuada()"
      ],
      "metadata": {
        "id": "n8WrUzp0k19O"
      },
      "execution_count": null,
      "outputs": []
    },
    {
      "cell_type": "markdown",
      "source": [],
      "metadata": {
        "id": "77yHzaX2mDxH"
      }
    },
    {
      "cell_type": "code",
      "source": [
        "lista = [97, 80, 94, 88, 80, 1, 16, 53, 62, 32, 24, 99]\n",
        "lista_vazia = []"
      ],
      "metadata": {
        "id": "5WpdjlPSmF2e"
      },
      "execution_count": null,
      "outputs": []
    },
    {
      "cell_type": "code",
      "source": [
        "def verifica_multiplo():\n",
        "  for i in lista:\n",
        "    if i % 3 == 0:\n",
        "      lista_vazia.append(i)\n",
        "      print(f'o número: {i} é múltiplo de 3')\n",
        "\n",
        "verifica_multiplo()"
      ],
      "metadata": {
        "id": "gxmMemmSmEsf"
      },
      "execution_count": null,
      "outputs": []
    },
    {
      "cell_type": "code",
      "source": [
        "lista_vazia"
      ],
      "metadata": {
        "id": "pn-9jHS_nskb"
      },
      "execution_count": null,
      "outputs": []
    },
    {
      "cell_type": "markdown",
      "source": [
        " Crie uma lista dos quadrados dos números da seguinte lista [1, 2, 3, 4, 5, 6, 7, 8, 9, 10]. Lembre-se de utilizar as funções lambda e map() para calcular o quadrado de cada elemento da lista."
      ],
      "metadata": {
        "id": "nFr-A-wioTR_"
      }
    },
    {
      "cell_type": "code",
      "source": [
        "lista2 = [1, 2, 3, 4, 5, 6, 7, 8, 9, 10]"
      ],
      "metadata": {
        "id": "Nv6P0ZDjoUXJ"
      },
      "execution_count": null,
      "outputs": []
    },
    {
      "cell_type": "code",
      "source": [
        "quadrado = list(map(lambda x: x ** 2, lista2))\n",
        "quadrado"
      ],
      "metadata": {
        "id": "kz1ra2knod3p"
      },
      "execution_count": null,
      "outputs": []
    },
    {
      "cell_type": "code",
      "source": [
        "# Calculando acréscimo\n",
        "\n",
        "lista_salario = [1200, 1500, 1800, 200, 2250, 2400, 3000, 5000]\n",
        "valor = 400\n",
        "acrescimo = (list(map(lambda x: x + valor, lista_salario)))\n",
        "acrescimo"
      ],
      "metadata": {
        "id": "JKJL26-cow4p"
      },
      "execution_count": null,
      "outputs": []
    },
    {
      "cell_type": "markdown",
      "source": [
        "Você foi contratado(a) como cientista de dados de uma associação de skate. Para analisar as notas recebidas de skatistas em algumas competições ao longo do ano, você precisa criar um código que calcula a pontuação dos(as) atletas. Para isso, o seu código deve receber 5 notas digitadas pelas pessoas juradas.\n",
        "\n",
        "Para calcular a pontuação de um(a) skatista, você precisa eliminar a maior e a menor pontuação dentre as 5 notas e tirar a média das 3 notas que sobraram. Retorne a média para apresentar o texto:\n",
        "\n",
        "\"Nota da manobra: [media]\""
      ],
      "metadata": {
        "id": "9ZamCb7Buw6F"
      }
    },
    {
      "cell_type": "code",
      "source": [
        "lista_notas_skate = []\n",
        "\n",
        "def recebeNotas():\n",
        "  nota01 = float(input(\"Nota do jurado 01: \"))\n",
        "  nota02 = float(input(\"Nota do jurado 02: \"))\n",
        "  nota03 = float(input(\"Nota do jurado 03: \"))\n",
        "  nota04 = float(input(\"Nota do jurado 04: \"))\n",
        "  nota05 = float(input(\"Nota do jurado 05: \"))\n",
        "  for i in nota01, nota02, nota03, nota04, nota05:\n",
        "    lista_notas_skate.append(i)\n",
        "\n",
        "recebeNotas()"
      ],
      "metadata": {
        "colab": {
          "base_uri": "https://localhost:8080/"
        },
        "id": "DCIb3bUVr2Pp",
        "outputId": "807a53bd-a6cf-4c94-936c-e2e81584dc13"
      },
      "execution_count": 1,
      "outputs": [
        {
          "name": "stdout",
          "output_type": "stream",
          "text": [
            "Nota do jurado 01: 5\n",
            "Nota do jurado 02: 8\n",
            "Nota do jurado 03: 10\n",
            "Nota do jurado 04: 45\n",
            "Nota do jurado 05: 585\n"
          ]
        }
      ]
    },
    {
      "cell_type": "code",
      "source": [
        "lista_notas_skate"
      ],
      "metadata": {
        "colab": {
          "base_uri": "https://localhost:8080/"
        },
        "id": "XMspnqTAsnTH",
        "outputId": "a7e9d293-c6aa-424a-d141-8773d76528ce"
      },
      "execution_count": 2,
      "outputs": [
        {
          "output_type": "execute_result",
          "data": {
            "text/plain": [
              "[5.0, 8.0, 10.0, 45.0, 585.0]"
            ]
          },
          "metadata": {},
          "execution_count": 2
        }
      ]
    },
    {
      "cell_type": "code",
      "source": [
        "print(f'Nota máxima {max(lista_notas_skate)} \\nNota mínima {min(lista_notas_skate)}')"
      ],
      "metadata": {
        "colab": {
          "base_uri": "https://localhost:8080/"
        },
        "id": "7kY13MK1tgt-",
        "outputId": "e6de6693-c249-4a8c-b2ee-a5485fd6f38d"
      },
      "execution_count": 3,
      "outputs": [
        {
          "output_type": "stream",
          "name": "stdout",
          "text": [
            "Nota máxima 585.0 \n",
            "Nota mínima 5.0\n"
          ]
        }
      ]
    },
    {
      "cell_type": "code",
      "source": [
        "maior = max(lista_notas_skate)\n",
        "menor = min(lista_notas_skate)"
      ],
      "metadata": {
        "id": "-P24sFbvtPfO"
      },
      "execution_count": 4,
      "outputs": []
    },
    {
      "cell_type": "code",
      "source": [
        "\n",
        "lista_notas_skate.remove(maior)\n",
        "lista_notas_skate.remove(menor)\n",
        "\n"
      ],
      "metadata": {
        "id": "9VYu5qw2uSX4"
      },
      "execution_count": 5,
      "outputs": []
    },
    {
      "cell_type": "code",
      "source": [
        "print(lista_notas_skate)"
      ],
      "metadata": {
        "colab": {
          "base_uri": "https://localhost:8080/"
        },
        "id": "5HzKdYCMuUR-",
        "outputId": "4aefa16e-8650-4ffa-d15b-194ffae15942"
      },
      "execution_count": 6,
      "outputs": [
        {
          "output_type": "stream",
          "name": "stdout",
          "text": [
            "[8.0, 10.0, 45.0]\n"
          ]
        }
      ]
    },
    {
      "cell_type": "code",
      "source": [
        "media_skate = round(sum(lista_notas_skate) / len(lista_notas_skate),2)\n",
        "print(f\"Nota da manobra: {media_skate}\")"
      ],
      "metadata": {
        "colab": {
          "base_uri": "https://localhost:8080/"
        },
        "id": "0d_rtMG2uete",
        "outputId": "595d1266-27fb-4d2f-c3a9-e3f0c7ac1540"
      },
      "execution_count": 7,
      "outputs": [
        {
          "output_type": "stream",
          "name": "stdout",
          "text": [
            "Nota da manobra: 21.0\n"
          ]
        }
      ]
    },
    {
      "cell_type": "code",
      "source": [
        "cesta_frutas = []\n",
        "\n",
        "for i in range(3):\n",
        "  fruta = input(f\"Digite a fruta {i+1} \")\n",
        "  cesta_frutas.append(fruta)\n",
        "\n",
        "print('As frutas armazenadas na lista são: ', cesta_frutas)\n",
        "print(type(cesta_frutas))"
      ],
      "metadata": {
        "colab": {
          "base_uri": "https://localhost:8080/"
        },
        "id": "h4_76mCRu9W7",
        "outputId": "397c595d-1b42-4f36-c212-beba6600b371"
      },
      "execution_count": 8,
      "outputs": [
        {
          "output_type": "stream",
          "name": "stdout",
          "text": [
            "Digite a fruta 1 Maçã\n",
            "Digite a fruta 2 Maracuja\n",
            "Digite a fruta 3 Melancia\n",
            "As frutas armazenadas na lista são:  ['Maçã', 'Maracuja', 'Melancia']\n",
            "<class 'list'>\n"
          ]
        }
      ]
    },
    {
      "cell_type": "markdown",
      "source": [
        "Você foi contratado(a) como cientista de dados de uma associação de skate. Para analisar as notas recebidas de skatistas em algumas competições ao longo do ano, você precisa criar um código que calcula a pontuação dos(as) atletas. Para isso, o seu código deve receber 5 notas digitadas pelas pessoas juradas.\n",
        "\n",
        "Para calcular a pontuação de um(a) skatista, você precisa eliminar a maior e a menor pontuação dentre as 5 notas e tirar a média das 3 notas que sobraram. Retorne a média para apresentar o texto:"
      ],
      "metadata": {
        "id": "ytBs_AST3VqA"
      }
    },
    {
      "cell_type": "code",
      "source": [
        "notas_sk8 = []\n",
        "\n",
        "for i in range(5):\n",
        "  nota = float(input(f'Digite a nota {i+1} '))\n",
        "  notas_sk8.append(nota)"
      ],
      "metadata": {
        "colab": {
          "base_uri": "https://localhost:8080/"
        },
        "id": "k0cyAylXv8UN",
        "outputId": "6e315a9b-5d42-4651-8c15-98bd5ec23b69"
      },
      "execution_count": 9,
      "outputs": [
        {
          "output_type": "stream",
          "name": "stdout",
          "text": [
            "Digite a nota 1 5\n",
            "Digite a nota 2 8\n",
            "Digite a nota 3 4\n",
            "Digite a nota 4 5\n",
            "Digite a nota 5 6\n",
            "[5.0, 8.0, 4.0, 5.0, 6.0]\n"
          ]
        }
      ]
    },
    {
      "cell_type": "code",
      "source": [
        "media_notas_skate = round(sum(notas_sk8) / len(notas_sk8),2)\n",
        "media_notas_skate"
      ],
      "metadata": {
        "colab": {
          "base_uri": "https://localhost:8080/"
        },
        "id": "vb89xpXX3g9B",
        "outputId": "27c46535-d5ba-467c-913a-07f8f0bbb20f"
      },
      "execution_count": 11,
      "outputs": [
        {
          "output_type": "execute_result",
          "data": {
            "text/plain": [
              "5.6"
            ]
          },
          "metadata": {},
          "execution_count": 11
        }
      ]
    },
    {
      "cell_type": "code",
      "source": [
        "lista_notas_estudantes = []\n",
        "\n",
        "for i in range(4):\n",
        "  nota_estudante = int(input(f'Digite a nota número {i+1} '))\n",
        "  lista_notas_estudantes.append(nota_estudante)"
      ],
      "metadata": {
        "colab": {
          "base_uri": "https://localhost:8080/"
        },
        "id": "g1vhkfhn30Hi",
        "outputId": "6c39cd62-508f-42fd-fafe-52708667f4ea"
      },
      "execution_count": 15,
      "outputs": [
        {
          "name": "stdout",
          "output_type": "stream",
          "text": [
            "Digite a nota número 1 8\n",
            "Digite a nota número 2 5\n",
            "Digite a nota número 3 2\n",
            "Digite a nota número 4 4\n"
          ]
        }
      ]
    },
    {
      "cell_type": "code",
      "source": [
        "lista_notas_estudantes"
      ],
      "metadata": {
        "colab": {
          "base_uri": "https://localhost:8080/"
        },
        "id": "7x6vJgbb4cze",
        "outputId": "d1a320ee-4b56-4174-85c6-dc47d4ff0254"
      },
      "execution_count": 16,
      "outputs": [
        {
          "output_type": "execute_result",
          "data": {
            "text/plain": [
              "[8, 5, 2, 4]"
            ]
          },
          "metadata": {},
          "execution_count": 16
        }
      ]
    },
    {
      "cell_type": "code",
      "source": [
        "media_notas_estudantes = round(sum(lista_notas_estudantes) / len(lista_notas_estudantes), 2)\n",
        "menor_nota = min(lista_notas_estudantes)\n",
        "maior_nota = max(lista_notas_estudantes)\n",
        "\n",
        "print(f'A média de notas entre os estudantes foi de {media_notas_estudantes}, \\n com a menor nota sendo {menor_nota}, e a maior nota sendo {maior_nota}')"
      ],
      "metadata": {
        "colab": {
          "base_uri": "https://localhost:8080/"
        },
        "id": "BBL8vT3G4fKI",
        "outputId": "1eb1ba2f-bdf5-44b0-b4cc-b03105714943"
      },
      "execution_count": 28,
      "outputs": [
        {
          "output_type": "stream",
          "name": "stdout",
          "text": [
            "A média de notas entre os estudantes foi de 4.75, \n",
            " com a menor nota sendo 2, e a maior nota sendo 8\n"
          ]
        }
      ]
    },
    {
      "cell_type": "code",
      "source": [
        "def verifica_aprovacao(a):\n",
        "  if a >= 7:\n",
        "    print('Aprovado(a)')\n",
        "  else:\n",
        "    print('Reprovado(a)')\n",
        "\n",
        "verifica_aprovacao(media_notas_estudantes)"
      ],
      "metadata": {
        "colab": {
          "base_uri": "https://localhost:8080/"
        },
        "id": "X1yVZqE75pEd",
        "outputId": "ebba0244-2662-4d38-89d6-22fe250d3558"
      },
      "execution_count": 30,
      "outputs": [
        {
          "output_type": "stream",
          "name": "stdout",
          "text": [
            "Reprovado(a)\n"
          ]
        }
      ]
    },
    {
      "cell_type": "markdown",
      "source": [
        "Você recebeu uma demanda para tratar 2 listas com os nomes e sobrenomes de cada estudante concatenando-as para apresentar seus nomes completos na forma Nome Sobrenome. As listas são"
      ],
      "metadata": {
        "id": "VNlZD_xQ7OlE"
      }
    },
    {
      "cell_type": "code",
      "source": [
        "nomes = [\"joão\", \"MaRia\", \"JOSÉ\"]\n",
        "sobrenomes = [\"SILVA\", \"souza\", \"Tavares\"]"
      ],
      "metadata": {
        "id": "8QdEMay87sBu"
      },
      "execution_count": 42,
      "outputs": []
    },
    {
      "cell_type": "code",
      "source": [
        "nomes = list(map(str.capitalize, nomes))\n",
        "nomes\n",
        "# Usando compreensao de lista\n",
        "sobrenomes = [sobrenome.capitalize() for sobrenome in sobrenomes]\n",
        "sobrenomes"
      ],
      "metadata": {
        "colab": {
          "base_uri": "https://localhost:8080/"
        },
        "id": "ANT_YkqM7wkG",
        "outputId": "0d6fc9a0-aa32-446e-c55a-21c2b98546bc"
      },
      "execution_count": 47,
      "outputs": [
        {
          "output_type": "execute_result",
          "data": {
            "text/plain": [
              "['Silva', 'Souza', 'Tavares']"
            ]
          },
          "metadata": {},
          "execution_count": 47
        }
      ]
    },
    {
      "cell_type": "code",
      "source": [
        "for nome, sobrenome in zip(nomes, sobrenomes):\n",
        "  print(f'{nome} {sobrenome}')"
      ],
      "metadata": {
        "colab": {
          "base_uri": "https://localhost:8080/"
        },
        "id": "PPyoXb4n-L4g",
        "outputId": "27498159-23b3-4ac5-d25f-9508873f841f"
      },
      "execution_count": 48,
      "outputs": [
        {
          "output_type": "stream",
          "name": "stdout",
          "text": [
            "João Silva\n",
            "Maria Souza\n",
            "José Tavares\n"
          ]
        }
      ]
    },
    {
      "cell_type": "markdown",
      "source": [
        "Como cientista de dados em um time de futebol, você precisa implementar novas formas de coleta de dados sobre o desempenho de jogadores e do time como um todo. Sua primeira ação é criar uma forma de calcular a pontuação do time no campeonato nacional a partir dos dados de gols marcados e sofridos em cada jogo.\n",
        "\n",
        "Escreva uma função chamada calcula_pontos que recebe como parâmetros duas listas de números inteiros, representando os gols marcados e sofridos pelo time em cada partida do campeonato. A função deve retornar a pontuação do time e o aproveitamento em percentual, levando em consideração que a vitória vale 3 pontos, o empate vale 1 ponto e a derrota 0 pontos.\n",
        "\n",
        "**Observação: se a quantidade de gols marcados numa partida for maior que a de sofridos, o time venceu. Caso seja igual, o time empatou e se for menor, o time perdeu. Para calcular o aproveitamento devemos fazer a razão entre a pontuação do time pela pontuação máxima que ele poderia receber.**\n",
        "\n",
        "\n",
        "\n",
        "```\n",
        "gols_marcados = [2, 1, 3, 1, 0]\n",
        "gols_sofridos = [1, 2, 2, 1, 3]\n",
        "```\n",
        "\n"
      ],
      "metadata": {
        "id": "B4sH7Mll-6_y"
      }
    }
  ]
}