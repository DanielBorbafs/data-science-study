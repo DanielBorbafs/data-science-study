{
  "nbformat": 4,
  "nbformat_minor": 0,
  "metadata": {
    "colab": {
      "provenance": []
    },
    "kernelspec": {
      "name": "python3",
      "display_name": "Python 3"
    },
    "language_info": {
      "name": "python"
    }
  },
  "cells": [
    {
      "cell_type": "markdown",
      "source": [
        "Recebemos uma demanda da instituição de ensino do nosso projeto que nos repassou uma lista de 20 estudantes e suas respectivas médias finais. Aqui, nós precisamos selecionar estudantes que tenham média final maior ou igual a 9.0. Esses(as) estudantes serão premiados(as) com uma bolsa de estudos para o próximo ano letivo.\n",
        "\n",
        "Para filtrar os dados, temos que gerar um dicionário cujas chaves são os nomes e os valores são as médias dos(as) estudantes selecionados(as). Estes são os dados recebidos:\n",
        "\n",
        "`{expressao_chave: expressao_valor for item in iteravel if condicao}`"
      ],
      "metadata": {
        "id": "P8TUW71C2SX1"
      }
    },
    {
      "cell_type": "code",
      "source": [
        "nomes_estudantes = [ \"Enrico Monteiro\", \"Luna Pereira\", \"Anthony Silveira\", \"Letícia Fernandes\",\n",
        "                    \"João Vitor Nascimento\", \"Maysa Caldeira\", \"Diana Carvalho\", \"Mariane da Rosa\",\n",
        "                    \"Camila Fernandes\", \"Levi Alves\", \"Nicolas da Rocha\", \"Amanda Novaes\",\n",
        "                    \"Laís Moraes\", \"Letícia Oliveira\", \"Lucca Novaes\", \"Lara Cunha\",\n",
        "                    \"Beatriz Martins\", \"João Vitor Azevedo\", \"Stephany Rosa\", \"Gustavo Henrique Lima\" ]\n",
        "\n",
        "medias_estudantes = [5.4, 4.1, 9.1, 5.3, 6.9, 3.1, 10.0, 5.0, 8.2, 5.5,\n",
        "                    8.1, 7.4, 5.0, 3.7, 8.1, 6.2, 6.1, 5.6, 6.7, 8.2]"
      ],
      "metadata": {
        "id": "ujOVOjGv2ePK"
      },
      "execution_count": 2,
      "outputs": []
    },
    {
      "cell_type": "code",
      "source": [
        "bolsistas = {nome: media               # Cria um dicionário 'bolsistas' onde cada chave será 'nome' e o valor será 'media'.\n",
        "             for nome, media in zip(nomes_estudantes, medias_estudantes)  # Para cada par de 'nome' e 'media' dos estudantes, combinados pela função zip().\n",
        "             if media >= 9.0}           # Inclui apenas os estudantes cujas médias são maiores ou iguais a 9.0.\n",
        "\n",
        "bolsistas\n"
      ],
      "metadata": {
        "colab": {
          "base_uri": "https://localhost:8080/",
          "height": 0
        },
        "id": "hFdWXAID3FQj",
        "outputId": "bcbdc8d3-4e61-4ddd-d224-c27675c55936"
      },
      "execution_count": 7,
      "outputs": [
        {
          "output_type": "execute_result",
          "data": {
            "text/plain": [
              "{'Anthony Silveira': 9.1, 'Diana Carvalho': 10.0}"
            ]
          },
          "metadata": {},
          "execution_count": 7
        }
      ]
    }
  ]
}